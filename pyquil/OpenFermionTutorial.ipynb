{
 "cells": [
  {
   "cell_type": "markdown",
   "metadata": {},
   "source": [
    "## FermionOperator data structure"
   ]
  },
  {
   "cell_type": "code",
   "execution_count": 1,
   "metadata": {},
   "outputs": [
    {
     "data": {
      "text/plain": [
       "'0.11.1.dev'"
      ]
     },
     "execution_count": 1,
     "metadata": {},
     "output_type": "execute_result"
    }
   ],
   "source": [
    "import openfermion \n",
    "openfermion.__version__"
   ]
  },
  {
   "cell_type": "code",
   "execution_count": 2,
   "metadata": {},
   "outputs": [],
   "source": [
    "from openfermion.ops import FermionOperator"
   ]
  },
  {
   "cell_type": "markdown",
   "metadata": {},
   "source": [
    "Fermionic ladder operators are similar to qubit ladder operators but distinguished by the canonical fermionic *anticommutation* relations. \n",
    "\n",
    "These operators are represented by the `FermionicOperator` data structure, contained in `openfermion.ops`. \n",
    "\n",
    "This is implemented as a hash table for fast addition. The keys encode the strings of ladder operators and values store the coefficients. \n",
    "\n",
    "The strings are encoded as a tuple of 2-tuples, referred to as \"terms tuple.\" Each ladder operator is represented by a 2-tuple. \n",
    "\n",
    "The first element of the 2-tuple is an integer indicated the tensor factor on which the ladder operator acts. The second element is a boolean: 1 means raising and 0 means lowering. $a_8^\\dagger$ = (8, 1). \n",
    "\n",
    "Note that indices start at 0 and the identity operator is an empty list. \n",
    "\n",
    "When initializing a single ladder operator, add the comma after the inner pair because in Python `((a, b)) = (a, b)`."
   ]
  },
  {
   "cell_type": "code",
   "execution_count": 3,
   "metadata": {},
   "outputs": [
    {
     "name": "stdout",
     "output_type": "stream",
     "text": [
      "1.0 [3^]\n",
      "1.0 [3^]\n"
     ]
    }
   ],
   "source": [
    "single_wrong = FermionOperator(((3 ,1)))\n",
    "print(single_wrong)\n",
    "single = FermionOperator(((3, 1), ))\n",
    "print(single)"
   ]
  },
  {
   "cell_type": "code",
   "execution_count": 4,
   "metadata": {},
   "outputs": [
    {
     "name": "stdout",
     "output_type": "stream",
     "text": [
      "1.0 []\n",
      "0\n"
     ]
    }
   ],
   "source": [
    "identity = FermionOperator((),)\n",
    "print(identity)\n",
    "zero = FermionOperator()\n",
    "print(zero)"
   ]
  },
  {
   "cell_type": "markdown",
   "metadata": {},
   "source": [
    "To specify coefficient, provide an optional coefficient argument. DO NOT DO `1.5 * FermionOperator()` because this is slow. "
   ]
  },
  {
   "cell_type": "code",
   "execution_count": 5,
   "metadata": {},
   "outputs": [
    {
     "name": "stdout",
     "output_type": "stream",
     "text": [
      "-1.7 [3^ 1]\n"
     ]
    }
   ],
   "source": [
    "coeff_initialize = FermionOperator('3^ 1', -1.7)\n",
    "print(coeff_initialize)"
   ]
  },
  {
   "cell_type": "markdown",
   "metadata": {},
   "source": [
    "FermionOperator has only one attribute: `terms`, a dictionary that stores the term tuples. "
   ]
  },
  {
   "cell_type": "code",
   "execution_count": 6,
   "metadata": {},
   "outputs": [
    {
     "name": "stdout",
     "output_type": "stream",
     "text": [
      "(1+2j) [4^ 1^ 3 9]\n",
      "{((4, 1), (1, 1), (3, 0), (9, 0)): (1+2j)}\n"
     ]
    }
   ],
   "source": [
    "my_operator = FermionOperator('4^ 1^ 3 9', 1. + 2.j)\n",
    "print(my_operator)\n",
    "print(my_operator.terms)"
   ]
  },
  {
   "cell_type": "markdown",
   "metadata": {},
   "source": [
    "## Manipulating FermionOperator\n",
    "\n",
    "Just use normal addition to combine two `FermionOperator` instances. Using `print()` will print each term on a separate line. "
   ]
  },
  {
   "cell_type": "code",
   "execution_count": 7,
   "metadata": {},
   "outputs": [
    {
     "name": "stdout",
     "output_type": "stream",
     "text": [
      "-1.7 [3^ 1] +\n",
      "(1+2j) [4^ 3^ 9 1]\n"
     ]
    }
   ],
   "source": [
    "my_op = FermionOperator('4^ 3^ 9 1', 1+2j)\n",
    "t_2 = FermionOperator('3^ 1', -1.7)\n",
    "my_op += t_2 # Use += is much more efficient since adds in-place\n",
    "print(my_op)"
   ]
  },
  {
   "cell_type": "markdown",
   "metadata": {},
   "source": [
    "There are many methods that act on the `FermionOperator` data structure. "
   ]
  },
  {
   "cell_type": "code",
   "execution_count": 8,
   "metadata": {},
   "outputs": [
    {
     "name": "stdout",
     "output_type": "stream",
     "text": [
      "Get Hermitian conjugate of a FermionOperator, count its qubit,        check if normal-ordered\n",
      "(1+2j) [4^ 3 3^]\n",
      "(1-2j) [3 3^ 4]\n",
      "False\n",
      "5\n",
      "\n",
      "Normal order the term\n",
      "(1+2j) [4^] +\n",
      "(-1-2j) [4^ 3^ 3]\n",
      "True\n",
      "\n",
      "Compute a commutator of the terms\n",
      "(-3+4j) [4^ 3 3^ 4^] +\n",
      "(3-4j) [4^ 3 3^ 4^ 3^ 3] +\n",
      "(-3+4j) [4^ 3^ 3 4^ 3 3^] +\n",
      "(3-4j) [4^ 4^ 3 3^]\n"
     ]
    }
   ],
   "source": [
    "from openfermion.utils import commutator, count_qubits, \\\n",
    "    hermitian_conjugated, normal_ordered\n",
    "\n",
    "print('Get Hermitian conjugate of a FermionOperator, count its qubit,\\\n",
    "        check if normal-ordered') \n",
    "term_1 = FermionOperator('4^ 3 3^', 1.+2.j)\n",
    "print(term_1)\n",
    "print(hermitian_conjugated(term_1))\n",
    "print(term_1.is_normal_ordered())\n",
    "print(count_qubits(term_1))\n",
    "\n",
    "print('')\n",
    "print('Normal order the term')\n",
    "term_2 = normal_ordered(term_1)\n",
    "print(term_2)\n",
    "print(term_2.is_normal_ordered())\n",
    "\n",
    "print('')\n",
    "print('Compute a commutator of the terms')\n",
    "print(commutator(term_1, term_2))"
   ]
  },
  {
   "cell_type": "markdown",
   "metadata": {},
   "source": [
    "## QubitOperator\n",
    "\n",
    "The `QubitOperator` class has almost the same structure as `FermionOperator`, but it stores qubit operators like $X_0 Z_3 Y_4$. The internal representation of this example would be `((0, 'X'), (3, 'Z'), (4, 'Y'))`. \n",
    "\n",
    "An important difference between `FermionOperator` and `QubitOperator` is that for the latter, we must **always** sort in order of tensor factor. "
   ]
  },
  {
   "cell_type": "code",
   "execution_count": 9,
   "metadata": {},
   "outputs": [
    {
     "name": "stdout",
     "output_type": "stream",
     "text": [
      "1j [X1 X3]\n",
      "{((1, 'X'), (3, 'X')): 1j}\n",
      "\n",
      "-0.77j [X1 X3] +\n",
      "3.17 [X3 Z4]\n"
     ]
    }
   ],
   "source": [
    "from openfermion.ops import QubitOperator\n",
    "\n",
    "qubit_op = QubitOperator('X1 Y3 Z3')\n",
    "print(qubit_op)\n",
    "print(qubit_op.terms)\n",
    "\n",
    "op_2 = QubitOperator(((3, 'X'), (4, 'Z')), 3.17)\n",
    "op_2 -= .77 * qubit_op\n",
    "print('')\n",
    "print(op_2)"
   ]
  },
  {
   "cell_type": "markdown",
   "metadata": {},
   "source": [
    "## Jordan-Wigner and Bravyi-Kitaev"
   ]
  },
  {
   "cell_type": "code",
   "execution_count": 10,
   "metadata": {},
   "outputs": [
    {
     "name": "stdout",
     "output_type": "stream",
     "text": [
      "3.17 [0^ 2] +\n",
      "3.17 [2^ 0]\n",
      "\n",
      "(1.585+0j) [X0 Z1 X2] +\n",
      "(1.585+0j) [Y0 Z1 Y2]\n",
      "[-3.17 -3.17  0.    0.    0.    0.    3.17  3.17]\n",
      "\n",
      "(1.585+0j) [X0 Y1 Y2] +\n",
      "(-1.585+0j) [Y0 Y1 X2]\n",
      "[-3.17 -3.17  0.    0.    0.    0.    3.17  3.17]\n"
     ]
    }
   ],
   "source": [
    "from openfermion.transforms import jordan_wigner, bravyi_kitaev\n",
    "from openfermion.utils import eigenspectrum\n",
    "\n",
    "# Initialize operator \n",
    "ferm_op = FermionOperator('2^ 0', 3.17)\n",
    "ferm_op += hermitian_conjugated(ferm_op)\n",
    "print(ferm_op)\n",
    "\n",
    "# Transform to qubits with JW and print its spectrum \n",
    "print('')\n",
    "jw_op = jordan_wigner(ferm_op)\n",
    "print(jw_op)\n",
    "jw_spectrum = eigenspectrum(jw_op)\n",
    "print(jw_spectrum)\n",
    "\n",
    "# Transform to qubits with BK and print its spectrum \n",
    "print('')\n",
    "bk_op = bravyi_kitaev(ferm_op)\n",
    "print(bk_op)\n",
    "bk_spectrum = eigenspectrum(bk_op)\n",
    "print(bk_spectrum)"
   ]
  },
  {
   "cell_type": "markdown",
   "metadata": {},
   "source": [
    "Notice that the spectrum is the same for different representations. We can also reverse the JW transform to get a `FermionOperator`. "
   ]
  },
  {
   "cell_type": "code",
   "execution_count": 11,
   "metadata": {},
   "outputs": [
    {
     "name": "stdout",
     "output_type": "stream",
     "text": [
      "Notice this is the same as what we started with:\n",
      "(3.17+0j) [0^ 2] +\n",
      "(3.17+0j) [2^ 0]\n"
     ]
    }
   ],
   "source": [
    "from openfermion.transforms import reverse_jordan_wigner\n",
    "\n",
    "# Map QubitOperator to FermionOperator\n",
    "mapped_op = normal_ordered(reverse_jordan_wigner(jw_op))\n",
    "\n",
    "print('Notice this is the same as what we started with:')\n",
    "print(mapped_op)"
   ]
  },
  {
   "cell_type": "markdown",
   "metadata": {},
   "source": [
    "## Sparse matrices and the Hubbard model\n",
    "\n",
    "Often, it's useful to obtain a sparse matrix representation of an operator to analyze numerically. `get_sparse_operator()` converts either a `FermionOperator`, `QubitOperator`, or other advanced classes like `InteractionOperator` to a `scipy.sparse.csc` matrix. \n",
    "\n",
    "Once we have this representation, we can use many functions from `openfermion.utils` like `get_gap()`, `get_hartree_fock_state()`, and `get_ground_state()`. \n",
    "\n",
    "Here we'll use some of these to compute the ground state energy of the Hubbard model. "
   ]
  },
  {
   "cell_type": "code",
   "execution_count": 13,
   "metadata": {},
   "outputs": [
    {
     "name": "stdout",
     "output_type": "stream",
     "text": [
      "-0.25 [0^ 0] +\n",
      "1.0 [0^ 0 1^ 1] +\n",
      "1.0 [0^ 0 2^ 2] +\n",
      "-2.0 [0^ 1] +\n",
      "-2.0 [0^ 2] +\n",
      "-2.0 [1^ 0] +\n",
      "-0.25 [1^ 1] +\n",
      "1.0 [1^ 1 3^ 3] +\n",
      "-2.0 [1^ 3] +\n",
      "-2.0 [2^ 0] +\n",
      "-0.25 [2^ 2] +\n",
      "1.0 [2^ 2 3^ 3] +\n",
      "-2.0 [2^ 3] +\n",
      "-2.0 [3^ 1] +\n",
      "-2.0 [3^ 2] +\n",
      "-0.25 [3^ 3]\n",
      "\n",
      "0.5 [] +\n",
      "-1.0 [X0 X1] +\n",
      "-1.0 [X0 Z1 X2] +\n",
      "-1.0 [Y0 Y1] +\n",
      "-1.0 [Y0 Z1 Y2] +\n",
      "-0.375 [Z0] +\n",
      "0.25 [Z0 Z1] +\n",
      "0.25 [Z0 Z2] +\n",
      "-1.0 [X1 Z2 X3] +\n",
      "-1.0 [Y1 Z2 Y3] +\n",
      "-0.375 [Z1] +\n",
      "0.25 [Z1 Z3] +\n",
      "-1.0 [X2 X3] +\n",
      "-1.0 [Y2 Y3] +\n",
      "-0.375 [Z2] +\n",
      "0.25 [Z2 Z3] +\n",
      "-0.375 [Z3]\n",
      "\n",
      "  (1, 1)\t(-0.25+0j)\n",
      "  (2, 1)\t(-2+0j)\n",
      "  (4, 1)\t(-2+0j)\n",
      "  (1, 2)\t(-2+0j)\n",
      "  (2, 2)\t(-0.25+0j)\n",
      "  (8, 2)\t(-2+0j)\n",
      "  (3, 3)\t(0.5+0j)\n",
      "  (6, 3)\t(2+0j)\n",
      "  (9, 3)\t(-2+0j)\n",
      "  (1, 4)\t(-2+0j)\n",
      "  (4, 4)\t(-0.25+0j)\n",
      "  (8, 4)\t(-2+0j)\n",
      "  (5, 5)\t(0.5+0j)\n",
      "  (6, 5)\t(-2+0j)\n",
      "  (9, 5)\t(-2+0j)\n",
      "  (3, 6)\t(2+0j)\n",
      "  (5, 6)\t(-2+0j)\n",
      "  (6, 6)\t(-0.5+0j)\n",
      "  (10, 6)\t(-2+0j)\n",
      "  (12, 6)\t(2+0j)\n",
      "  (7, 7)\t(1.25+0j)\n",
      "  (11, 7)\t(-2+0j)\n",
      "  (13, 7)\t(2+0j)\n",
      "  (2, 8)\t(-2+0j)\n",
      "  (4, 8)\t(-2+0j)\n",
      "  (8, 8)\t(-0.25+0j)\n",
      "  (3, 9)\t(-2+0j)\n",
      "  (5, 9)\t(-2+0j)\n",
      "  (9, 9)\t(-0.5+0j)\n",
      "  (10, 9)\t(-2+0j)\n",
      "  (12, 9)\t(-2+0j)\n",
      "  (6, 10)\t(-2+0j)\n",
      "  (9, 10)\t(-2+0j)\n",
      "  (10, 10)\t(0.5+0j)\n",
      "  (7, 11)\t(-2+0j)\n",
      "  (11, 11)\t(1.25+0j)\n",
      "  (14, 11)\t(2+0j)\n",
      "  (6, 12)\t(2+0j)\n",
      "  (9, 12)\t(-2+0j)\n",
      "  (12, 12)\t(0.5+0j)\n",
      "  (7, 13)\t(2+0j)\n",
      "  (13, 13)\t(1.25+0j)\n",
      "  (14, 13)\t(-2+0j)\n",
      "  (11, 14)\t(2+0j)\n",
      "  (13, 14)\t(-2+0j)\n",
      "  (14, 14)\t(1.25+0j)\n",
      "  (15, 15)\t(3+0j)\n",
      "\n",
      "My kernel keeps dying when calculating ground state, but I         can do up to 10x2 Hubbard on Google Compute!\n"
     ]
    }
   ],
   "source": [
    "from openfermion.hamiltonians import fermi_hubbard \n",
    "from openfermion.transforms import get_sparse_operator \n",
    "from openfermion.utils import get_ground_state\n",
    "\n",
    "# Set model \n",
    "x_n = 2\n",
    "y_n = 2 \n",
    "tunneling = 2. \n",
    "coulomb = 1. \n",
    "mag_field = 0.5 \n",
    "chem_potential = 0.25 \n",
    "periodic = 1\n",
    "spinless = 1 \n",
    "\n",
    "# Get fermionic operator from Hubbard model \n",
    "hubbard = fermi_hubbard(\n",
    "    x_n, y_n, tunneling, coulomb, chem_potential, mag_field, \n",
    "    periodic, spinless    \n",
    ")\n",
    "print(hubbard)\n",
    "\n",
    "# Get qubit operator from JW \n",
    "jw_ham = jordan_wigner(hubbard)\n",
    "jw_ham.compress()\n",
    "print('')\n",
    "print(jw_ham)\n",
    "\n",
    "# Get scipy.sparse.csc representation \n",
    "sparse_op = get_sparse_operator(hubbard)\n",
    "print('')\n",
    "print(sparse_op)\n",
    "print('')\n",
    "print('My kernel keeps dying when calculating ground state, but I \\\n",
    "        can do up to 10x2 Hubbard on Google Compute!')\n",
    "# print('Energy of the model is {} in units of T and J.'.format(\n",
    "#     get_ground_state(sparse_op)[0]\n",
    "# ))"
   ]
  },
  {
   "cell_type": "markdown",
   "metadata": {},
   "source": [
    "## Hamiltonians in the plane wave basis \n",
    "\n"
   ]
  },
  {
   "cell_type": "code",
   "execution_count": null,
   "metadata": {},
   "outputs": [],
   "source": []
  }
 ],
 "metadata": {
  "kernelspec": {
   "display_name": "Python 3",
   "language": "python",
   "name": "python3"
  },
  "language_info": {
   "codemirror_mode": {
    "name": "ipython",
    "version": 3
   },
   "file_extension": ".py",
   "mimetype": "text/x-python",
   "name": "python",
   "nbconvert_exporter": "python",
   "pygments_lexer": "ipython3",
   "version": "3.6.9"
  }
 },
 "nbformat": 4,
 "nbformat_minor": 4
}
