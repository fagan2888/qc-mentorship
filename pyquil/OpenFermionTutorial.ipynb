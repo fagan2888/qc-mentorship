{
 "cells": [
  {
   "cell_type": "markdown",
   "metadata": {},
   "source": [
    "## FermionOperator data structure"
   ]
  },
  {
   "cell_type": "code",
   "execution_count": 1,
   "metadata": {},
   "outputs": [
    {
     "data": {
      "text/plain": [
       "'0.11.1.dev'"
      ]
     },
     "execution_count": 1,
     "metadata": {},
     "output_type": "execute_result"
    }
   ],
   "source": [
    "import openfermion \n",
    "openfermion.__version__"
   ]
  },
  {
   "cell_type": "code",
   "execution_count": 2,
   "metadata": {},
   "outputs": [],
   "source": [
    "from openfermion.ops import FermionOperator"
   ]
  },
  {
   "cell_type": "markdown",
   "metadata": {},
   "source": [
    "Fermionic ladder operators are similar to qubit ladder operators but distinguished by the canonical fermionic *anticommutation* relations. \n",
    "\n",
    "These operators are represented by the `FermionicOperator` data structure, contained in `openfermion.ops`. \n",
    "\n",
    "This is implemented as a hash table for fast addition. The keys encode the strings of ladder operators and values store the coefficients. \n",
    "\n",
    "The strings are encoded as a tuple of 2-tuples, referred to as \"terms tuple.\" Each ladder operator is represented by a 2-tuple. \n",
    "\n",
    "The first element of the 2-tuple is an integer indicated the tensor factor on which the ladder operator acts. The second element is a boolean: 1 means raising and 0 means lowering. $a_8^\\dagger$ = (8, 1). \n",
    "\n",
    "Note that indices start at 0 and the identity operator is an empty list. \n",
    "\n",
    "When initializing a single ladder operator, add the comma after the inner pair because in Python `((a, b)) = (a, b)`."
   ]
  },
  {
   "cell_type": "code",
   "execution_count": 3,
   "metadata": {},
   "outputs": [
    {
     "name": "stdout",
     "output_type": "stream",
     "text": [
      "1.0 [3^]\n",
      "1.0 [3^]\n"
     ]
    }
   ],
   "source": [
    "single_wrong = FermionOperator(((3 ,1)))\n",
    "print(single_wrong)\n",
    "single = FermionOperator(((3, 1), ))\n",
    "print(single)"
   ]
  },
  {
   "cell_type": "code",
   "execution_count": 4,
   "metadata": {},
   "outputs": [
    {
     "name": "stdout",
     "output_type": "stream",
     "text": [
      "1.0 []\n",
      "0\n"
     ]
    }
   ],
   "source": [
    "identity = FermionOperator((),)\n",
    "print(identity)\n",
    "zero = FermionOperator()\n",
    "print(zero)"
   ]
  },
  {
   "cell_type": "markdown",
   "metadata": {},
   "source": [
    "To specify coefficient, provide an optional coefficient argument. DO NOT DO `1.5 * FermionOperator()` because this is slow. "
   ]
  },
  {
   "cell_type": "code",
   "execution_count": 5,
   "metadata": {},
   "outputs": [
    {
     "name": "stdout",
     "output_type": "stream",
     "text": [
      "-1.7 [3^ 1]\n"
     ]
    }
   ],
   "source": [
    "coeff_initialize = FermionOperator('3^ 1', -1.7)\n",
    "print(coeff_initialize)"
   ]
  },
  {
   "cell_type": "markdown",
   "metadata": {},
   "source": [
    "FermionOperator has only one attribute: `terms`, a dictionary that stores the term tuples. "
   ]
  },
  {
   "cell_type": "code",
   "execution_count": 6,
   "metadata": {},
   "outputs": [
    {
     "name": "stdout",
     "output_type": "stream",
     "text": [
      "(1+2j) [4^ 1^ 3 9]\n",
      "{((4, 1), (1, 1), (3, 0), (9, 0)): (1+2j)}\n"
     ]
    }
   ],
   "source": [
    "my_operator = FermionOperator('4^ 1^ 3 9', 1. + 2.j)\n",
    "print(my_operator)\n",
    "print(my_operator.terms)"
   ]
  },
  {
   "cell_type": "markdown",
   "metadata": {},
   "source": [
    "## Manipulating FermionOperator\n",
    "\n",
    "Just use normal addition to combine two `FermionOperator` instances. Using `print()` will print each term on a separate line. "
   ]
  },
  {
   "cell_type": "code",
   "execution_count": 7,
   "metadata": {},
   "outputs": [
    {
     "name": "stdout",
     "output_type": "stream",
     "text": [
      "-1.7 [3^ 1] +\n",
      "(1+2j) [4^ 3^ 9 1]\n"
     ]
    }
   ],
   "source": [
    "my_op = FermionOperator('4^ 3^ 9 1', 1+2j)\n",
    "t_2 = FermionOperator('3^ 1', -1.7)\n",
    "my_op += t_2 # Use += is much more efficient since adds in-place\n",
    "print(my_op)"
   ]
  },
  {
   "cell_type": "markdown",
   "metadata": {},
   "source": [
    "There are many methods that act on the `FermionOperator` data structure. "
   ]
  },
  {
   "cell_type": "code",
   "execution_count": 8,
   "metadata": {},
   "outputs": [
    {
     "name": "stdout",
     "output_type": "stream",
     "text": [
      "Get Hermitian conjugate of a FermionOperator, count its qubit,        check if normal-ordered\n",
      "(1+2j) [4^ 3 3^]\n",
      "(1-2j) [3 3^ 4]\n",
      "False\n",
      "5\n",
      "\n",
      "Normal order the term\n",
      "(1+2j) [4^] +\n",
      "(-1-2j) [4^ 3^ 3]\n",
      "True\n",
      "\n",
      "Compute a commutator of the terms\n",
      "(-3+4j) [4^ 3 3^ 4^] +\n",
      "(3-4j) [4^ 3 3^ 4^ 3^ 3] +\n",
      "(-3+4j) [4^ 3^ 3 4^ 3 3^] +\n",
      "(3-4j) [4^ 4^ 3 3^]\n"
     ]
    }
   ],
   "source": [
    "from openfermion.utils import commutator, count_qubits, \\\n",
    "    hermitian_conjugated, normal_ordered\n",
    "\n",
    "print('Get Hermitian conjugate of a FermionOperator, count its qubit,\\\n",
    "        check if normal-ordered') \n",
    "term_1 = FermionOperator('4^ 3 3^', 1.+2.j)\n",
    "print(term_1)\n",
    "print(hermitian_conjugated(term_1))\n",
    "print(term_1.is_normal_ordered())\n",
    "print(count_qubits(term_1))\n",
    "\n",
    "print('')\n",
    "print('Normal order the term')\n",
    "term_2 = normal_ordered(term_1)\n",
    "print(term_2)\n",
    "print(term_2.is_normal_ordered())\n",
    "\n",
    "print('')\n",
    "print('Compute a commutator of the terms')\n",
    "print(commutator(term_1, term_2))"
   ]
  },
  {
   "cell_type": "markdown",
   "metadata": {},
   "source": [
    "## QubitOperator\n",
    "\n",
    "The `QubitOperator` class has almost the same structure as `FermionOperator`, but it stores qubit operators like $X_0 Z_3 Y_4$. The internal representation of this example would be `((0, 'X'), (3, 'Z'), (4, 'Y'))`. \n",
    "\n",
    "An important difference between `FermionOperator` and `QubitOperator` is that for the latter, we must **always** sort in order of tensor factor. "
   ]
  },
  {
   "cell_type": "code",
   "execution_count": 9,
   "metadata": {},
   "outputs": [
    {
     "name": "stdout",
     "output_type": "stream",
     "text": [
      "1j [X1 X3]\n",
      "{((1, 'X'), (3, 'X')): 1j}\n",
      "\n",
      "-0.77j [X1 X3] +\n",
      "3.17 [X3 Z4]\n"
     ]
    }
   ],
   "source": [
    "from openfermion.ops import QubitOperator\n",
    "\n",
    "qubit_op = QubitOperator('X1 Y3 Z3')\n",
    "print(qubit_op)\n",
    "print(qubit_op.terms)\n",
    "\n",
    "op_2 = QubitOperator(((3, 'X'), (4, 'Z')), 3.17)\n",
    "op_2 -= .77 * qubit_op\n",
    "print('')\n",
    "print(op_2)"
   ]
  },
  {
   "cell_type": "markdown",
   "metadata": {},
   "source": [
    "## Jordan-Wigner and Bravyi-Kitaev"
   ]
  },
  {
   "cell_type": "code",
   "execution_count": 10,
   "metadata": {},
   "outputs": [
    {
     "name": "stdout",
     "output_type": "stream",
     "text": [
      "3.17 [0^ 2] +\n",
      "3.17 [2^ 0]\n",
      "\n",
      "(1.585+0j) [X0 Z1 X2] +\n",
      "(1.585+0j) [Y0 Z1 Y2]\n",
      "[-3.17 -3.17  0.    0.    0.    0.    3.17  3.17]\n",
      "\n",
      "(1.585+0j) [X0 Y1 Y2] +\n",
      "(-1.585+0j) [Y0 Y1 X2]\n",
      "[-3.17 -3.17  0.    0.    0.    0.    3.17  3.17]\n"
     ]
    }
   ],
   "source": [
    "from openfermion.transforms import jordan_wigner, bravyi_kitaev\n",
    "from openfermion.utils import eigenspectrum\n",
    "\n",
    "# Initialize operator \n",
    "ferm_op = FermionOperator('2^ 0', 3.17)\n",
    "ferm_op += hermitian_conjugated(ferm_op)\n",
    "print(ferm_op)\n",
    "\n",
    "# Transform to qubits with JW and print its spectrum \n",
    "print('')\n",
    "jw_op = jordan_wigner(ferm_op)\n",
    "print(jw_op)\n",
    "jw_spectrum = eigenspectrum(jw_op)\n",
    "print(jw_spectrum)\n",
    "\n",
    "# Transform to qubits with BK and print its spectrum \n",
    "print('')\n",
    "bk_op = bravyi_kitaev(ferm_op)\n",
    "print(bk_op)\n",
    "bk_spectrum = eigenspectrum(bk_op)\n",
    "print(bk_spectrum)"
   ]
  },
  {
   "cell_type": "markdown",
   "metadata": {},
   "source": [
    "Notice that the spectrum is the same for different representations. We can also reverse the JW transform to get a `FermionOperator`. "
   ]
  },
  {
   "cell_type": "code",
   "execution_count": 11,
   "metadata": {},
   "outputs": [
    {
     "name": "stdout",
     "output_type": "stream",
     "text": [
      "Notice this is the same as what we started with:\n",
      "(3.17+0j) [0^ 2] +\n",
      "(3.17+0j) [2^ 0]\n"
     ]
    }
   ],
   "source": [
    "from openfermion.transforms import reverse_jordan_wigner\n",
    "\n",
    "# Map QubitOperator to FermionOperator\n",
    "mapped_op = normal_ordered(reverse_jordan_wigner(jw_op))\n",
    "\n",
    "print('Notice this is the same as what we started with:')\n",
    "print(mapped_op)"
   ]
  },
  {
   "cell_type": "markdown",
   "metadata": {},
   "source": [
    "## Sparse matrices and the Hubbard model\n",
    "\n",
    "Often, it's useful to obtain a sparse matrix representation of an operator to analyze numerically. `get_sparse_operator()` converts either a `FermionOperator`, `QubitOperator`, or other advanced classes like `InteractionOperator` to a `scipy.sparse.csc` matrix. \n",
    "\n",
    "Once we have this representation, we can use many functions from `openfermion.utils` like `get_gap()`, `get_hartree_fock_state()`, and `get_ground_state()`. \n",
    "\n",
    "Here we'll use some of these to compute the ground state energy of the Hubbard model. "
   ]
  },
  {
   "cell_type": "code",
   "execution_count": 12,
   "metadata": {},
   "outputs": [
    {
     "name": "stdout",
     "output_type": "stream",
     "text": [
      "-0.25 [0^ 0] +\n",
      "1.0 [0^ 0 1^ 1] +\n",
      "1.0 [0^ 0 2^ 2] +\n",
      "-2.0 [0^ 1] +\n",
      "-2.0 [0^ 2] +\n",
      "-2.0 [1^ 0] +\n",
      "-0.25 [1^ 1] +\n",
      "1.0 [1^ 1 3^ 3] +\n",
      "-2.0 [1^ 3] +\n",
      "-2.0 [2^ 0] +\n",
      "-0.25 [2^ 2] +\n",
      "1.0 [2^ 2 3^ 3] +\n",
      "-2.0 [2^ 3] +\n",
      "-2.0 [3^ 1] +\n",
      "-2.0 [3^ 2] +\n",
      "-0.25 [3^ 3]\n",
      "\n",
      "0.5 [] +\n",
      "-1.0 [X0 X1] +\n",
      "-1.0 [X0 Z1 X2] +\n",
      "-1.0 [Y0 Y1] +\n",
      "-1.0 [Y0 Z1 Y2] +\n",
      "-0.375 [Z0] +\n",
      "0.25 [Z0 Z1] +\n",
      "0.25 [Z0 Z2] +\n",
      "-1.0 [X1 Z2 X3] +\n",
      "-1.0 [Y1 Z2 Y3] +\n",
      "-0.375 [Z1] +\n",
      "0.25 [Z1 Z3] +\n",
      "-1.0 [X2 X3] +\n",
      "-1.0 [Y2 Y3] +\n",
      "-0.375 [Z2] +\n",
      "0.25 [Z2 Z3] +\n",
      "-0.375 [Z3]\n",
      "\n",
      "  (1, 1)\t(-0.25+0j)\n",
      "  (2, 1)\t(-2+0j)\n",
      "  (4, 1)\t(-2+0j)\n",
      "  (1, 2)\t(-2+0j)\n",
      "  (2, 2)\t(-0.25+0j)\n",
      "  (8, 2)\t(-2+0j)\n",
      "  (3, 3)\t(0.5+0j)\n",
      "  (6, 3)\t(2+0j)\n",
      "  (9, 3)\t(-2+0j)\n",
      "  (1, 4)\t(-2+0j)\n",
      "  (4, 4)\t(-0.25+0j)\n",
      "  (8, 4)\t(-2+0j)\n",
      "  (5, 5)\t(0.5+0j)\n",
      "  (6, 5)\t(-2+0j)\n",
      "  (9, 5)\t(-2+0j)\n",
      "  (3, 6)\t(2+0j)\n",
      "  (5, 6)\t(-2+0j)\n",
      "  (6, 6)\t(-0.5+0j)\n",
      "  (10, 6)\t(-2+0j)\n",
      "  (12, 6)\t(2+0j)\n",
      "  (7, 7)\t(1.25+0j)\n",
      "  (11, 7)\t(-2+0j)\n",
      "  (13, 7)\t(2+0j)\n",
      "  (2, 8)\t(-2+0j)\n",
      "  (4, 8)\t(-2+0j)\n",
      "  (8, 8)\t(-0.25+0j)\n",
      "  (3, 9)\t(-2+0j)\n",
      "  (5, 9)\t(-2+0j)\n",
      "  (9, 9)\t(-0.5+0j)\n",
      "  (10, 9)\t(-2+0j)\n",
      "  (12, 9)\t(-2+0j)\n",
      "  (6, 10)\t(-2+0j)\n",
      "  (9, 10)\t(-2+0j)\n",
      "  (10, 10)\t(0.5+0j)\n",
      "  (7, 11)\t(-2+0j)\n",
      "  (11, 11)\t(1.25+0j)\n",
      "  (14, 11)\t(2+0j)\n",
      "  (6, 12)\t(2+0j)\n",
      "  (9, 12)\t(-2+0j)\n",
      "  (12, 12)\t(0.5+0j)\n",
      "  (7, 13)\t(2+0j)\n",
      "  (13, 13)\t(1.25+0j)\n",
      "  (14, 13)\t(-2+0j)\n",
      "  (11, 14)\t(2+0j)\n",
      "  (13, 14)\t(-2+0j)\n",
      "  (14, 14)\t(1.25+0j)\n",
      "  (15, 15)\t(3+0j)\n",
      "\n",
      "My kernel keeps dying when calculating ground state, but I         can do up to 10x2 Hubbard on Google Compute!\n"
     ]
    }
   ],
   "source": [
    "ffrom openfermion.hamiltonians import fermi_hubbard \n",
    "from openfermion.transforms import get_sparse_operator \n",
    "from openfermion.utils import get_ground_state\n",
    "\n",
    "# Set model \n",
    "x_n = 2\n",
    "y_n = 2 \n",
    "tunneling = 2. \n",
    "coulomb = 1. \n",
    "mag_field = 0.5 \n",
    "chem_potential = 0.25 \n",
    "periodic = 1\n",
    "spinless = 1 \n",
    "\n",
    "# Get fermionic operator from Hubbard model \n",
    "hubbard = fermi_hubbard(\n",
    "    x_n, y_n, tunneling, coulomb, chem_potential, mag_field, \n",
    "    periodic, spinless    \n",
    ")\n",
    "print(hubbard)\n",
    "\n",
    "# Get qubit operator from JW \n",
    "jw_ham = jordan_wigner(hubbard)\n",
    "jw_ham.compress()\n",
    "print('')\n",
    "print(jw_ham)\n",
    "\n",
    "# Get scipy.sparse.csc representation \n",
    "sparse_op = get_sparse_operator(hubbard)\n",
    "print('')\n",
    "print(sparse_op)\n",
    "print('')\n",
    "print('My kernel keeps dying when calculating ground state, but I \\\n",
    "        can do up to 10x2 Hubbard on Google Compute!')\n",
    "# print('Energy of the model is {} in units of T and J.'.format(\n",
    "#     get_ground_state(sparse_op)[0]\n",
    "# ))"
   ]
  },
  {
   "cell_type": "markdown",
   "metadata": {},
   "source": [
    "## Hamiltonians in the plane wave basis \n",
    "\n",
    "Users can write plugins on openfermion. Some examples: computing molecular orbitals, Hamiltonians, energies, reduced density matrcies, or coupled cluster amplitudes using Gaussian basis sets. \n",
    "\n",
    "If you only need simpler basis sets, Openfermion comes with code to compute Hamiltonians in the plane wave basis. When using plane waves, one is working with the periodized Coulomb operator, which works best for condensed phase calculations, like studying electronic structure of a solid. \n",
    "\n",
    "To get the Hamiltonians, we must prepare the system to be spinless and specify the dimension in which the calculations are performed, and how many plane waves are in each dimension (`grid_length`), and specify the length scale of the plane wave harmonics in each dimension (`length_scale`), and the locations and charges of the nuclei. \n",
    "\n",
    "We only need to use the `openfermion.hamiltonians.plane_wave_hamiltonian()` function to do this. \n",
    "\n",
    "In the following example, we compute the Hamiltonian in the case of zero external charge (a uniform electron gas aka Jellium). We also demonstrate we can transform the plane wave Hamiltonian using a Fourier transform without effecting the spectrum of the operator. "
   ]
  },
  {
   "cell_type": "code",
   "execution_count": 13,
   "metadata": {},
   "outputs": [
    {
     "name": "stdout",
     "output_type": "stream",
     "text": [
      "Let's check out a tiny model of Jellium in 1D\n",
      "\n",
      "Get the momentum Hamiltonian\n",
      "19.50047638754088 [] +\n",
      "-9.71044945799746 [Z0] +\n",
      "-0.07957747154594767 [Z0 Z1] +\n",
      "-0.07957747154594767 [Z0 Z2] +\n",
      "0.15915494309189535 [Z1] +\n",
      "-0.07957747154594767 [Z1 Z2] +\n",
      "-9.71044945799746 [Z2]\n",
      "\n",
      "Fourier transform the Hamiltonian to the position basis\n",
      "19.500476387540854 [] +\n",
      "-3.289868133696451 [X0 X1] +\n",
      "-3.289868133696454 [X0 Z1 X2] +\n",
      "-3.289868133696451 [Y0 Y1] +\n",
      "-3.289868133696454 [Y0 Z1 Y2] +\n",
      "-6.420581324301009 [Z0] +\n",
      "-0.07957747154594766 [Z0 Z1] +\n",
      "-0.07957747154594763 [Z0 Z2] +\n",
      "-3.289868133696451 [X1 X2] +\n",
      "-3.289868133696451 [Y1 Y2] +\n",
      "-6.4205813243010095 [Z1] +\n",
      "-0.07957747154594766 [Z1 Z2] +\n",
      "-6.420581324301009 [Z2]\n",
      "\n",
      "Check the spectra to make sure these representations are iso-spectral\n",
      "[2.75474088e-14 2.66175970e-14 2.84217094e-14 7.10542736e-15\n",
      " 2.84217094e-14 2.13162821e-14 1.42108547e-14 7.10542736e-15]\n",
      "\n",
      "These values are all close to 0. \n"
     ]
    }
   ],
   "source": [
    "from openfermion.hamiltonians import jellium_model\n",
    "from openfermion.utils import fourier_transform, Grid \n",
    "\n",
    "print(\"Let's check out a tiny model of Jellium in 1D\")\n",
    "grid = Grid(dimensions=1, length=3, scale=1.0)\n",
    "spinless = True \n",
    "\n",
    "print(\"\\nGet the momentum Hamiltonian\") \n",
    "mom_ham = jellium_model(grid, spinless) \n",
    "mom_qubit_op = jordan_wigner(mom_ham)\n",
    "mom_qubit_op.compress() \n",
    "print(mom_qubit_op)\n",
    "\n",
    "print(\"\\nFourier transform the Hamiltonian to the position basis\")\n",
    "pos_ham = fourier_transform(mom_ham, grid, spinless)\n",
    "pos_qubit_op = jordan_wigner(pos_ham)\n",
    "pos_qubit_op.compress()\n",
    "print(pos_qubit_op)\n",
    "\n",
    "print(\"\\nCheck the spectra to make sure these representations are iso-spectral\") \n",
    "spectral_diff = eigenspectrum(mom_qubit_op) - eigenspectrum(pos_qubit_op)\n",
    "print(spectral_diff)\n",
    "print('\\nThese values are all close to 0. ')"
   ]
  },
  {
   "cell_type": "markdown",
   "metadata": {},
   "source": [
    "## MolecularData class\n",
    "\n",
    "We can save data from electronic structure calculations in a data structure called `MolecularData`. \n",
    "\n",
    "We might need to analyze many different Hamiltonians, but because the electronic structure calculations are either expensive to compute or difficult to converge, it'd be nice if there was a way to automatically store results of the calculations to that important data (like the SCF integrals) can be looked up on-the-fly if computed in the past. Openfermion supports a strategy which saves key results of the calculations (including pointers to files containing large amounts of data like molecular integrals) in an HDF5 container. \n",
    "\n",
    "The `MolecularData` class stores info about molecules. We initialize it by specifying parameters of a molecule. Or we can initialize it by providing a string giving a filename where a previous `MolecularData` object was stored in an HDF5 container. We can save our instance by calling `.save()` with an optional filename (stores in data folder specified during OpenFermion installation). \n",
    "\n",
    "When calculations are run, the data files can be automatically updated. \n",
    "\n",
    "To specify parameters for instantiation: \n",
    "- basis functions are strings like \"6-31g\" \n",
    "- geometries are specified using a .txt file (see geometry_from_file() in `molecular_data.py`) or can be passed using a Python list format like in the example below. \n",
    "- atoms are specified using a string for their atomic symbol \n",
    "- distances are provided in angstrom "
   ]
  },
  {
   "cell_type": "code",
   "execution_count": 14,
   "metadata": {},
   "outputs": [
    {
     "name": "stdout",
     "output_type": "stream",
     "text": [
      "Molecule has automatically generated from H2_sto-3g_singlet_0.7414\n",
      "Information about this molecule would be saved at:\n",
      "/home/warren/OpenFermion/src/openfermion/data/H2_sto-3g_singlet_0.7414\n",
      "\n",
      "This molecule has 2 atoms and 2 electrons.\n",
      "Contains H atom, which has 1 protons.\n",
      "Contains H atom, which has 1 protons.\n"
     ]
    }
   ],
   "source": [
    "from openfermion.hamiltonians import MolecularData \n",
    "\n",
    "# Set parameters \n",
    "diatomic_bond_length = .7414 \n",
    "geometry = [('H', (0., 0., 0.)), ('H', (0., 0., diatomic_bond_length))]\n",
    "basis = 'sto-3g'\n",
    "multiplicity = 1 \n",
    "charge = 0 \n",
    "description = str(diatomic_bond_length)\n",
    "\n",
    "# Make molecule and print out a few interesting facts about it. \n",
    "molecule = MolecularData(geometry, basis, multiplicity, charge, description)\n",
    "\n",
    "print('Molecule has automatically generated from {}'.format(\n",
    "    molecule.name))\n",
    "print('Information about this molecule would be saved at:\\n{}\\n'.format(\n",
    "    molecule.filename))\n",
    "print('This molecule has {} atoms and {} electrons.'.format(\n",
    "    molecule.n_atoms, molecule.n_electrons))\n",
    "for atom, atomic_number in zip(molecule.atoms, molecule.protons):\n",
    "    print('Contains {} atom, which has {} protons.'.format(\n",
    "        atom, atomic_number))"
   ]
  },
  {
   "cell_type": "markdown",
   "metadata": {},
   "source": [
    "If we had previously computed this molecule, we can call `molecule.load()` to populate all sorts of interesting fields in the data structure. We assume calculations are saved in OpenFermions's `MolecularData` objects. Plugins are available for Psi4 and PySCF. \n",
    "\n",
    "In the next example, we load data that comes with OpenFermion to plot the energy surface of hydrogen. "
   ]
  },
  {
   "cell_type": "code",
   "execution_count": 15,
   "metadata": {},
   "outputs": [
    {
     "name": "stdout",
     "output_type": "stream",
     "text": [
      "Bond length:  0.3\n",
      "\n",
      "At bond length of 0.30000000000000004 angstrom, molecular hydrogen has:\n",
      "Hartree-Fock energy of -0.59382776458494 Hartree.\n",
      "MP2 energy of -0.5997818888874376 Hartree.\n",
      "FCI energy of -0.6018037168352988 Hartree.\n",
      "Nuclear repulsion energy between protons is 1.7639240286333335 Hartree.\n",
      "Spatial orbital 0 has energy of -0.8028666187118976 Hartree.\n",
      "Spatial orbital 1 has energy of 1.368938795250223 Hartree.\n",
      "Bond length:  0.4\n",
      "\n",
      "At bond length of 0.4 angstrom, molecular hydrogen has:\n",
      "Hartree-Fock energy of -0.904361397713845 Hartree.\n",
      "MP2 energy of -0.9114367296997896 Hartree.\n",
      "FCI energy of -0.9141497082141279 Hartree.\n",
      "Nuclear repulsion energy between protons is 1.322943021475 Hartree.\n",
      "Spatial orbital 0 has energy of -0.7452125332909346 Hartree.\n",
      "Spatial orbital 1 has energy of 1.167416395038123 Hartree.\n",
      "Bond length:  0.5\n",
      "\n",
      "At bond length of 0.5 angstrom, molecular hydrogen has:\n",
      "Hartree-Fock energy of -1.0429962765072203 Hartree.\n",
      "MP2 energy of -1.0514858618835026 Hartree.\n",
      "FCI energy of -1.055159796496619 Hartree.\n",
      "Nuclear repulsion energy between protons is 1.05835441718 Hartree.\n",
      "Spatial orbital 0 has energy of -0.6908223275124182 Hartree.\n",
      "Spatial orbital 1 has energy of 0.9886736693741557 Hartree.\n",
      "Bond length:  0.6\n",
      "\n",
      "At bond length of 0.6000000000000001 angstrom, molecular hydrogen has:\n",
      "Hartree-Fock energy of -1.1011282431368283 Hartree.\n",
      "MP2 energy of -1.1113317674794059 Hartree.\n",
      "FCI energy of -1.1162860078265333 Hartree.\n",
      "Nuclear repulsion energy between protons is 0.8819620143166668 Hartree.\n",
      "Spatial orbital 0 has energy of -0.6408762643991083 Hartree.\n",
      "Spatial orbital 1 has energy of 0.8380849781488554 Hartree.\n",
      "Bond length:  0.7\n",
      "\n",
      "At bond length of 0.7000000000000001 angstrom, molecular hydrogen has:\n",
      "Hartree-Fock energy of -1.1173490350703141 Hartree.\n",
      "MP2 energy of -1.1295815518324286 Hartree.\n",
      "FCI energy of -1.1361894542708848 Hartree.\n",
      "Nuclear repulsion energy between protons is 0.7559674408428572 Hartree.\n",
      "Spatial orbital 0 has energy of -0.5954634716745077 Hartree.\n",
      "Spatial orbital 1 has energy of 0.7141652810054977 Hartree.\n",
      "Bond length:  0.8\n",
      "\n",
      "At bond length of 0.8 angstrom, molecular hydrogen has:\n",
      "Hartree-Fock energy of -1.1108503969854677 Hartree.\n",
      "MP2 energy of -1.125453091983669 Hartree.\n",
      "FCI energy of -1.1341476663578605 Hartree.\n",
      "Nuclear repulsion energy between protons is 0.6614715107375 Hartree.\n",
      "Spatial orbital 0 has energy of -0.5544958797639515 Hartree.\n",
      "Spatial orbital 1 has energy of 0.6126180834930599 Hartree.\n",
      "Bond length:  0.9\n",
      "\n",
      "At bond length of 0.9 angstrom, molecular hydrogen has:\n",
      "Hartree-Fock energy of -1.0919140401071208 Hartree.\n",
      "MP2 energy of -1.1092713614102743 Hartree.\n",
      "FCI energy of -1.1205602806186359 Hartree.\n",
      "Nuclear repulsion energy between protons is 0.5879746762111111 Hartree.\n",
      "Spatial orbital 0 has energy of -0.5176680309627193 Hartree.\n",
      "Spatial orbital 1 has energy of 0.5284772431612719 Hartree.\n",
      "Bond length:  1.0\n",
      "\n",
      "At bond length of 1.0 angstrom, molecular hydrogen has:\n",
      "Hartree-Fock energy of -1.0661086480817525 Hartree.\n",
      "MP2 energy of -1.0866648035682114 Hartree.\n",
      "FCI energy of -1.101150329303588 Hartree.\n",
      "Nuclear repulsion energy between protons is 0.52917720859 Hartree.\n",
      "Spatial orbital 0 has energy of -0.4844416789615343 Hartree.\n",
      "Spatial orbital 1 has energy of 0.4575019361641323 Hartree.\n",
      "Bond length:  1.1\n",
      "\n",
      "At bond length of 1.1 angstrom, molecular hydrogen has:\n",
      "Hartree-Fock energy of -1.0365388735395633 Hartree.\n",
      "MP2 energy of -1.0608057828548 Hartree.\n",
      "FCI energy of -1.0791929438802303 Hartree.\n",
      "Nuclear repulsion energy between protons is 0.4810701896272727 Hartree.\n",
      "Spatial orbital 0 has energy of -0.4542186927189922 Hartree.\n",
      "Spatial orbital 1 has energy of 0.39669590841169317 Hartree.\n",
      "Bond length:  1.2\n",
      "\n",
      "At bond length of 1.2000000000000002 angstrom, molecular hydrogen has:\n",
      "Hartree-Fock energy of -1.0051067048832343 Hartree.\n",
      "MP2 energy of -1.0336620966065275 Hartree.\n",
      "FCI energy of -1.056740745132591 Hartree.\n",
      "Nuclear repulsion energy between protons is 0.4409810071583334 Hartree.\n",
      "Spatial orbital 0 has energy of -0.42650264072324545 Hartree.\n",
      "Spatial orbital 1 has energy of 0.3441268787843519 Hartree.\n",
      "Bond length:  1.3\n",
      "\n",
      "At bond length of 1.3 angstrom, molecular hydrogen has:\n",
      "Hartree-Fock energy of -0.9731106139491602 Hartree.\n",
      "MP2 energy of -1.006590197243068 Hartree.\n",
      "FCI energy of -1.0351862652459827 Hartree.\n",
      "Nuclear repulsion energy between protons is 0.40705939122307694 Hartree.\n",
      "Spatial orbital 0 has energy of -0.40094651614872323 Hartree.\n",
      "Spatial orbital 1 has energy of 0.29851388983893856 Hartree.\n",
      "Bond length:  1.4\n",
      "\n",
      "At bond length of 1.4000000000000001 angstrom, molecular hydrogen has:\n",
      "Hartree-Fock energy of -0.9414806527840186 Hartree.\n",
      "MP2 energy of -0.9805687328589369 Hartree.\n",
      "FCI energy of -1.0154682481426915 Hartree.\n",
      "Nuclear repulsion energy between protons is 0.3779837204214286 Hartree.\n",
      "Spatial orbital 0 has energy of -0.3773228239693589 Hartree.\n",
      "Spatial orbital 1 has energy of 0.2589019723128326 Hartree.\n",
      "Bond length:  1.5\n",
      "\n",
      "At bond length of 1.5 angstrom, molecular hydrogen has:\n",
      "Hartree-Fock energy of -0.9108735526174462 Hartree.\n",
      "MP2 energy of -0.9562942016363287 Hartree.\n",
      "FCI energy of -0.9981493524136993 Hartree.\n",
      "Nuclear repulsion energy between protons is 0.35278480572666665 Hartree.\n",
      "Spatial orbital 0 has energy of -0.3554774880192603 Hartree.\n",
      "Spatial orbital 1 has energy of 0.22449543728518556 Hartree.\n",
      "Bond length:  1.6\n",
      "\n",
      "At bond length of 1.6 angstrom, molecular hydrogen has:\n",
      "Hartree-Fock energy of -0.8817324479521221 Hartree.\n",
      "MP2 energy of -0.9342411695719502 Hartree.\n",
      "FCI energy of -0.9834727280932716 Hartree.\n",
      "Nuclear repulsion energy between protons is 0.33073575536875 Hartree.\n",
      "Spatial orbital 0 has energy of -0.3352963505891839 Hartree.\n",
      "Spatial orbital 1 has energy of 0.19459795539978458 Hartree.\n",
      "Bond length:  1.7\n",
      "\n",
      "At bond length of 1.7000000000000002 angstrom, molecular hydrogen has:\n",
      "Hartree-Fock energy of -0.8543376249706873 Hartree.\n",
      "MP2 energy of -0.9147126228432917 Hartree.\n",
      "FCI energy of -0.9714266876511379 Hartree.\n",
      "Nuclear repulsion energy between protons is 0.31128071093529414 Hartree.\n",
      "Spatial orbital 0 has energy of -0.3166860441012991 Hartree.\n",
      "Spatial orbital 1 has energy of 0.16859732072886116 Hartree.\n",
      "Bond length:  1.8\n",
      "\n",
      "At bond length of 1.8 angstrom, molecular hydrogen has:\n",
      "Hartree-Fock energy of -0.8288481459846262 Hartree.\n",
      "MP2 energy of -0.8978805380405488 Hartree.\n",
      "FCI energy of -0.9618169521199167 Hartree.\n",
      "Nuclear repulsion energy between protons is 0.29398733810555555 Hartree.\n",
      "Spatial orbital 0 has energy of -0.29956322022346127 Hartree.\n",
      "Spatial orbital 1 has energy of 0.1459602966246219 Hartree.\n",
      "Bond length:  1.9\n",
      "\n",
      "At bond length of 1.9000000000000001 angstrom, molecular hydrogen has:\n",
      "Hartree-Fock energy of -0.8053328430090216 Hartree.\n",
      "MP2 energy of -0.8838158086555916 Hartree.\n",
      "FCI energy of -0.9543388534525794 Hartree.\n",
      "Nuclear repulsion energy between protons is 0.2785143203105263 Hartree.\n",
      "Spatial orbital 0 has energy of -0.2838478652114843 Hartree.\n",
      "Spatial orbital 1 has energy of 0.1262260489187021 Hartree.\n",
      "Bond length:  2.0\n",
      "\n",
      "At bond length of 2.0 angstrom, molecular hydrogen has:\n",
      "Hartree-Fock energy of -0.783792652466311 Hartree.\n",
      "MP2 energy of -0.8725100604810707 Hartree.\n",
      "FCI energy of -0.9486411117424077 Hartree.\n",
      "Nuclear repulsion energy between protons is 0.264588604295 Hartree.\n",
      "Spatial orbital 0 has energy of -0.26945922244444087 Hartree.\n",
      "Spatial orbital 1 has energy of 0.1089973681318946 Hartree.\n",
      "Bond length:  2.1\n",
      "\n",
      "At bond length of 2.1 angstrom, molecular hydrogen has:\n",
      "Hartree-Fock energy of -0.7641776498896591 Hartree.\n",
      "MP2 energy of -0.8638929333599986 Hartree.\n",
      "FCI energy of -0.944374680781336 Hartree.\n",
      "Nuclear repulsion energy between protons is 0.25198914694761904 Hartree.\n",
      "Spatial orbital 0 has energy of -0.25631405863438766 Hartree.\n",
      "Spatial orbital 1 has energy of 0.0939315946347687 Hartree.\n",
      "Bond length:  2.2\n",
      "\n",
      "At bond length of 2.2 angstrom, molecular hydrogen has:\n",
      "Hartree-Fock energy of -0.7464013483548488 Hartree.\n",
      "MP2 energy of -0.8578472435835268 Hartree.\n",
      "FCI energy of -0.9412240334330747 Hartree.\n",
      "Nuclear repulsion energy between protons is 0.24053509481363636 Hartree.\n",
      "Spatial orbital 0 has energy of -0.24432699142489445 Hartree.\n",
      "Spatial orbital 1 has energy of 0.08073270789777327 Hartree.\n",
      "Bond length:  2.3\n",
      "\n",
      "At bond length of 2.3000000000000003 angstrom, molecular hydrogen has:\n",
      "Hartree-Fock energy of -0.7303533198131085 Hartree.\n",
      "MP2 energy of -0.854222721280043 Hartree.\n",
      "FCI energy of -0.938922385789505 Hartree.\n",
      "Nuclear repulsion energy between protons is 0.2300770472130435 Hartree.\n",
      "Spatial orbital 0 has energy of -0.2334122089960839 Hartree.\n",
      "Spatial orbital 1 has energy of 0.069144997403965 Hartree.\n",
      "Bond length:  2.4\n",
      "\n",
      "At bond length of 2.4000000000000004 angstrom, molecular hydrogen has:\n",
      "Hartree-Fock energy of -0.7159100590078187 Hartree.\n",
      "MP2 energy of -0.8528478930177863 Hartree.\n",
      "FCI energy of -0.9372549528606704 Hartree.\n",
      "Nuclear repulsion energy between protons is 0.2204905035791667 Hartree.\n",
      "Spatial orbital 0 has energy of -0.22348569714218677 Hartree.\n",
      "Spatial orbital 1 has energy of 0.05894803199690316 Hartree.\n",
      "Bond length:  2.5\n"
     ]
    },
    {
     "name": "stdout",
     "output_type": "stream",
     "text": [
      "\n",
      "At bond length of 2.5 angstrom, molecular hydrogen has:\n",
      "Hartree-Fock energy of -0.7029435983728299 Hartree.\n",
      "MP2 energy of -0.8535394695489013 Hartree.\n",
      "FCI energy of -0.9360549198442759 Hartree.\n",
      "Nuclear repulsion energy between protons is 0.21167088343600005 Hartree.\n",
      "Spatial orbital 0 has energy of -0.2144671917818725 Hartree.\n",
      "Spatial orbital 1 has energy of 0.04995242289757026 Hartree.\n"
     ]
    },
    {
     "data": {
      "image/png": "[encoded data removed]",
      "text/plain": [
       "<Figure size 432x288 with 1 Axes>"
      ]
     },
     "metadata": {
      "needs_background": "light"
     },
     "output_type": "display_data"
    }
   ],
   "source": [
    "# Set molecule parameters \n",
    "basis = 'sto-3g'\n",
    "multiplicity = 1 \n",
    "bond_length_interval = 0.1 \n",
    "n_points = 25 \n",
    "\n",
    "# Generate molecule at different bond lengths \n",
    "hf_energies = []\n",
    "fci_energies = []\n",
    "bond_lengths = []\n",
    "\n",
    "for point in range(3, n_points+1):\n",
    "    bond_length = bond_length_interval * point \n",
    "    bond_lengths.append(bond_length)\n",
    "    description = str(round(bond_length, 2))\n",
    "    print('Bond length: ', description)\n",
    "    geometry = [('H', (0., 0., 0.)), ('H', (0., 0., bond_length))]\n",
    "    molecule = MolecularData(\n",
    "        geometry, basis, multiplicity, description=description)\n",
    "    \n",
    "    # Load data \n",
    "    molecule.load()\n",
    "    \n",
    "    # Print out some results of calculation \n",
    "    print('\\nAt bond length of {} angstrom, molecular hydrogen has:'.format(\n",
    "        bond_length))\n",
    "    print('Hartree-Fock energy of {} Hartree.'.format(molecule.hf_energy))\n",
    "    print('MP2 energy of {} Hartree.'.format(molecule.mp2_energy))\n",
    "    print('FCI energy of {} Hartree.'.format(molecule.fci_energy))\n",
    "    print('Nuclear repulsion energy between protons is {} Hartree.'.format(\n",
    "        molecule.nuclear_repulsion))\n",
    "    for orbital in range(molecule.n_orbitals):\n",
    "        print('Spatial orbital {} has energy of {} Hartree.'.format(\n",
    "            orbital, molecule.orbital_energies[orbital]))\n",
    "    hf_energies.append(molecule.hf_energy)\n",
    "    fci_energies.append(molecule.fci_energy)\n",
    "\n",
    "# Plot \n",
    "import matplotlib.pyplot as plt \n",
    "%matplotlib inline \n",
    "\n",
    "plt.figure(0)\n",
    "plt.plot(bond_lengths, fci_energies, 'x-')\n",
    "plt.plot(bond_lengths, hf_energies, 'o-')\n",
    "plt.ylabel('Energy in Hartree')\n",
    "plt.xlabel('Bond length in angstroms')\n",
    "plt.show()"
   ]
  },
  {
   "cell_type": "markdown",
   "metadata": {},
   "source": [
    "The geometry data needed to generate `MolecularData` can also be retrieved from PubChem online database by inputting the molecule's name. **(Need to look into this)**"
   ]
  },
  {
   "cell_type": "code",
   "execution_count": 16,
   "metadata": {},
   "outputs": [
    {
     "name": "stdout",
     "output_type": "stream",
     "text": [
      "[('C', (0, 0, 0)), ('H', (0.5541, 0.7996, 0.4965)), ('H', (0.6833, -0.8134, -0.2536)), ('H', (-0.7782, -0.3735, 0.6692)), ('H', (-0.4593, 0.3874, -0.9121))]\n"
     ]
    }
   ],
   "source": [
    "from openfermion.utils import geometry_from_pubchem\n",
    "\n",
    "methane_geometry = geometry_from_pubchem('methane')\n",
    "print(methane_geometry)"
   ]
  },
  {
   "cell_type": "markdown",
   "metadata": {},
   "source": [
    "# InteractionOperator and InteractionRDM for efficient numerical representation\n",
    "\n",
    "We can write fermion Hamiltonians as \n",
    "$$ \\large H = h_0 + \\sum_{pq} h_{pq} a_p^\\dagger a_q + \\frac{1}{2} \\sum_{pqrs} h_{pqrs} a_p^\\dagger a_q^\\dagger a_r a_s $$ \n",
    "where $h_0$ is a constant due to the nuclear repulsion, and $h_{pq}$ and $h_{pqrs}$ are molecular integrals. \n",
    "\n",
    "*Way more info to read.* \n",
    "\n",
    "Below, we load `MolecularData` from a saved calculation of LiH, then we obtain an `InteractionOperator` representation of this system in active space (what's active space?), then we map that operator to qubits, then we demonstrate that we can rotate the orbital basis of the `InteractionOperator` using random angles to obtain a totally different operator that is still iso-spectral. "
   ]
  },
  {
   "cell_type": "code",
   "execution_count": 17,
   "metadata": {},
   "outputs": [
    {
     "name": "stdout",
     "output_type": "stream",
     "text": [
      "The JW Hamiltonian in canonical basis follows:\n",
      "-7.49894690201071 [] +\n",
      "-0.0029329964409502266 [X0 X1 Y2 Y3] +\n",
      "0.0029329964409502266 [X0 Y1 Y2 X3] +\n",
      "0.01291078027311749 [X0 Z1 X2] +\n",
      "-0.0013743761078958677 [X0 Z1 X2 Z3] +\n",
      "0.011536413200774975 [X0 X2] +\n",
      "0.0029329964409502266 [Y0 X1 X2 Y3] +\n",
      "-0.0029329964409502266 [Y0 Y1 X2 X3] +\n",
      "0.01291078027311749 [Y0 Z1 Y2] +\n",
      "-0.0013743761078958677 [Y0 Z1 Y2 Z3] +\n",
      "0.011536413200774975 [Y0 Y2] +\n",
      "0.16199475388004184 [Z0] +\n",
      "0.011536413200774975 [Z0 X1 Z2 X3] +\n",
      "0.011536413200774975 [Z0 Y1 Z2 Y3] +\n",
      "0.12444770133137588 [Z0 Z1] +\n",
      "0.054130445793298836 [Z0 Z2] +\n",
      "0.05706344223424907 [Z0 Z3] +\n",
      "0.012910780273117487 [X1 Z2 X3] +\n",
      "-0.0013743761078958677 [X1 X3] +\n",
      "0.012910780273117487 [Y1 Z2 Y3] +\n",
      "-0.0013743761078958677 [Y1 Y3] +\n",
      "0.16199475388004186 [Z1] +\n",
      "0.05706344223424907 [Z1 Z2] +\n",
      "0.054130445793298836 [Z1 Z3] +\n",
      "-0.013243698330265966 [Z2] +\n",
      "0.08479609543670981 [Z2 Z3] +\n",
      "-0.013243698330265952 [Z3]\n",
      "\n",
      "The JW Hamiltonian in rotated basis follows:\n",
      "-7.498946902010707 [] +\n",
      "-0.0027865705768745216 [X0 X1 Y2 Y3] +\n",
      "0.0027865705768745216 [X0 Y1 Y2 X3] +\n",
      "-0.011897230961190665 [X0 Z1 X2] +\n",
      "-0.011178856828434327 [X0 Z1 X2 Z3] +\n",
      "0.0012466414923299883 [X0 X2] +\n",
      "0.0027865705768745216 [Y0 X1 X2 Y3] +\n",
      "-0.0027865705768745216 [Y0 Y1 X2 X3] +\n",
      "-0.011897230961190665 [Y0 Z1 Y2] +\n",
      "-0.011178856828434327 [Y0 Z1 Y2 Z3] +\n",
      "0.0012466414923299883 [Y0 Y2] +\n",
      "-0.013387066341186908 [Z0] +\n",
      "0.0012466414923299883 [Z0 X1 Z2 X3] +\n",
      "0.0012466414923299883 [Z0 Y1 Z2 Y3] +\n",
      "0.08482639457968418 [Z0 Z1] +\n",
      "0.05413044579329885 [Z0 Z2] +\n",
      "0.05691701637017338 [Z0 Z3] +\n",
      "-0.011897230961190665 [X1 Z2 X3] +\n",
      "-0.011178856828434327 [X1 X3] +\n",
      "-0.011897230961190665 [Y1 Z2 Y3] +\n",
      "-0.011178856828434327 [Y1 Y3] +\n",
      "-0.013387066341186908 [Z1] +\n",
      "0.05691701637017338 [Z1 Z2] +\n",
      "0.05413044579329885 [Z1 Z3] +\n",
      "0.1621381218909628 [Z2] +\n",
      "0.12471025391655297 [Z2 Z3] +\n",
      "0.1621381218909628 [Z3]\n",
      "\n",
      "Again, my kernel dies when finding the ground state but it works on Google Compute\n"
     ]
    }
   ],
   "source": [
    "from openfermion.transforms import get_fermion_operator\n",
    "import numpy as np\n",
    "import scipy \n",
    "import scipy.linalg\n",
    "\n",
    "# Load saved file for LiH \n",
    "diatomic_bond_length = 1.45 \n",
    "geometry = [('Li', (0., 0., 0.)), ('H', (0., 0., diatomic_bond_length))]\n",
    "basis = 'sto-3g'\n",
    "multiplicity = 1 \n",
    "\n",
    "# Set Hamiltonian parameters \n",
    "# What are these? \n",
    "active_space_start = 1 \n",
    "active_space_stop = 3 \n",
    "\n",
    "# Generate and populate instance of MolecularData \n",
    "molecule = MolecularData(geometry, basis, multiplicity, description='1.45')\n",
    "molecule.load()\n",
    "\n",
    "# Get Hamiltonian in an active space \n",
    "molecular_ham = molecule.get_molecular_hamiltonian(\n",
    "    occupied_indices=range(active_space_start), \n",
    "    active_indices=range(active_space_start, active_space_stop)\n",
    ")\n",
    "\n",
    "# Map operator to fermions then to qubits \n",
    "ferm_ham = get_fermion_operator(molecular_ham)\n",
    "qubit_ham = jordan_wigner(ferm_ham)\n",
    "qubit_ham.compress()\n",
    "print(\"The JW Hamiltonian in canonical basis follows:\\n{}\".format(qubit_ham))\n",
    "\n",
    "# Get sparse operator and ground state energy \n",
    "sparse_ham = get_sparse_operator(qubit_ham)\n",
    "#energy, state = get_ground_state(sparse_ham)\n",
    "# print('\\nGround state energy before rotation is {} Hartree.\\n'.format(energy))\n",
    "\n",
    "# Randomly rotate \n",
    "n_orbitals = molecular_ham.n_qubits // 2 \n",
    "n_variables = int(n_orbitals * (n_orbitals - 1) / 2)\n",
    "np.random.seed(42)\n",
    "random_angles = np.pi * (1. - 2. * np.random.rand(n_variables))\n",
    "kappa = np.zeros((n_orbitals, n_orbitals))\n",
    "index = 0 \n",
    "for p in range(n_orbitals):\n",
    "    for q in range(p+1, n_orbitals):\n",
    "        kappa[p, q] = random_angles[index]\n",
    "        kappa[q, p] = -np.conjugate(random_angles[index])\n",
    "        index += 1\n",
    "        \n",
    "    # Build unitary rotation matrix \n",
    "    diff_matrix = kappa + kappa.transpose()\n",
    "    rot_matrix = scipy.linalg.expm(kappa)\n",
    "\n",
    "    # Apply the unitary \n",
    "    molecular_ham.rotate_basis(rot_matrix)\n",
    "        \n",
    "# Get qubit Hamiltonian in rotated basis \n",
    "qubit_ham = jordan_wigner(molecular_ham)\n",
    "qubit_ham.compress()\n",
    "print('\\nThe JW Hamiltonian in rotated basis follows:\\n{}'.format(qubit_ham))\n",
    "\n",
    "# Get sparse Hamiltonian and energy in rotated basis \n",
    "sparse_ham = get_sparse_operator(qubit_ham)\n",
    "#energy, state = get_ground_state(sparse_ham)\n",
    "# print('Ground state energy after rotation is {} Hartree.'.format(energy))\n",
    "\n",
    "print('\\nAgain, my kernel dies when finding the ground state but it works on Google Compute')"
   ]
  },
  {
   "cell_type": "markdown",
   "metadata": {},
   "source": [
    "## Quadratic Hamiltonians and Slater determinants \n",
    "\n",
    "In the above decomposition of the general electronic structure Hamiltonian, we had terms that act on 4 sites (quartic in the fermion creation and annihilation operators), but in many situations we can accurately approximate these by replacing them with terms that act on at most 2 fermionic sites (quadratic terms) like in mean-field approximation theory (What's this?). \n",
    "\n",
    "We call these quadratic Hamiltonians, and they have properties which allow for efficient simulation, so we give them their own data structure available with `openfermion.transforms.get_quadratic_hamiltonian()` which gives the `QuadraticHamiltonian` class. \n",
    "\n",
    "Eigenstates of quadratic Hamiltonians can be prepared efficiently on classical and quantum computers. \n",
    "\n",
    "The general case of non-particle conserving terms as in a general Bogoliubov transformation. \n",
    "\n",
    "A general quadratic Hamiltonian takes the form: \n",
    "$$\\large H = \\sum_{pq} (M_{pq} - \\mu \\delta_{pq}) a_p^\\dagger a_q + \\frac{1}{2} \\sum_{pq}(\\Delta_{pq} a_p^\\dagger a_q^\\dagger + \\Delta^{*}_{pq} a_q a_p ) + constant $$\n",
    "\n",
    "where $M$ is Hermitian, $\\Delta$ is an antisymmetric matrix, $\\delta_{pq}$ is the Kronecker delta, and $\\mu$ is a chemical potential term, which is kept separate from $M$ so we can adjust the expectation of the total number of particles. \n",
    "\n",
    "The `QuadraticHamiltonian` class stores $M$, $\\Delta$, $\\mu$, and the constant. It also inherits from `PolynomialTensor` class like `InteractionOperator` and `InteractionRDM`. \n",
    "\n",
    "THE BCS mean-field model of superconductivity is a quadratic Hamiltonian. Below, we create an instance of this model as a `FermionOperator`, convert it to a `QuadraticHamiltonian`, then compute its ground energy: "
   ]
  },
  {
   "cell_type": "code",
   "execution_count": 18,
   "metadata": {},
   "outputs": [
    {
     "name": "stdout",
     "output_type": "stream",
     "text": [
      "-9.99999999999999\n"
     ]
    }
   ],
   "source": [
    "from openfermion.hamiltonians import mean_field_dwave \n",
    "from openfermion.transforms import get_quadratic_hamiltonian \n",
    "\n",
    "# Set model \n",
    "x_n = 2 \n",
    "y_n = 2 \n",
    "tunneling = 2.\n",
    "sc_gap = 1. \n",
    "periodic = True \n",
    "\n",
    "# Get FermionOperator \n",
    "mean_field_model = mean_field_dwave(x_n, y_n, tunneling, sc_gap, periodic=periodic)\n",
    "\n",
    "# Convert to QuadraticHamiltonian \n",
    "quad_ham = get_quadratic_hamiltonian(mean_field_model)\n",
    "\n",
    "# Compute ground energy \n",
    "ground_energy = quad_ham.ground_energy()\n",
    "print(ground_energy)"
   ]
  },
  {
   "cell_type": "markdown",
   "metadata": {},
   "source": [
    "**Wow! To illustrate how much more computationall efficient this is, consider for a moment that my computer was actually able to compute the ground energy for this one quickly.**\n",
    "\n",
    "We can rewrite any quadratic Hamiltonian in the form \n",
    "$$\\large H = \\sum_p \\epsilon_p b_p^\\dagger b_p + constant $$ \n",
    "where $b_p$ are new annihilation operators that satisfy the fermionic anticommutation relations and which are linear combinations of the old fermionic annihilation operators $a_p$. \n",
    "\n",
    "This form allows us to easily find the eigenvalues: they are linear combinations of the $\\epsilon_p$, which we call the orbital energies of $H$. "
   ]
  },
  {
   "cell_type": "code",
   "execution_count": 19,
   "metadata": {},
   "outputs": [
    {
     "name": "stdout",
     "output_type": "stream",
     "text": [
      "[1. 1. 1. 1. 4. 4. 4. 4.]\n",
      "\n",
      "-9.99999999999999\n"
     ]
    }
   ],
   "source": [
    "orbital_energies, constant = quad_ham.orbital_energies()\n",
    "print(orbital_energies)\n",
    "print('')\n",
    "print(constant)"
   ]
  },
  {
   "cell_type": "markdown",
   "metadata": {},
   "source": [
    "Eigenstates of quadratic Hamiltonians are called **fermionic Gaussian states** (are these related to Gaussian basis?) and can be prepared efficiently on a quantum computer. \n",
    "\n",
    "OpenFermion can tell us which circuit to use to prepare these states. Below we obtain the description of a circuit which prepares the ground state and a description of the starting state. \n",
    "\n",
    "Operations that are parallelizable are grouped together. \n",
    "\n",
    "In the circuit description, we either have \n",
    "- a tuple ($i, j, \\theta, \\psi$), which indicates $\\exp( i \\psi a_j^\\dagger a_j) \\exp[ \\theta(a_i^\\dagger a_j - a_j^\\dagger a_i )]$, which is a rotation of modes $i$ and $j$ (how?) \n",
    "- the string 'pht', which indicates the *particle-hole transformation* on the last fermionic mode, which is the operator $B$ such that $B a_N B^\\dagger = a_N^\\dagger$ and leaves the rest of the ladder operators unchanged (why is this guaranteed to exist?) "
   ]
  },
  {
   "cell_type": "code",
   "execution_count": 20,
   "metadata": {},
   "outputs": [
    {
     "name": "stdout",
     "output_type": "stream",
     "text": [
      "('pht',)\n",
      "((6, 7, 1.5707963267948966, 0.0),)\n",
      "('pht', (5, 6, 1.5707963267948966, 0.0))\n",
      "((4, 5, 1.0471975511965976, 3.141592653589792), (6, 7, 1.0471975511965974, -3.1415926535897927))\n",
      "('pht', (3, 4, 1.5707963267948966, 0.0), (5, 6, 1.5707963267948966, 0.0))\n",
      "((2, 3, 1.230959417340775, -5.10702591327572e-15), (4, 5, 1.230959417340775, -5.551115123125783e-16), (6, 7, 1.1071487177940904, -3.1415926535897922))\n",
      "('pht', (1, 2, 1.5707963267948966, 0.0), (3, 4, 1.5707963267948966, 0.0), (5, 6, 1.5707963267948966, 0.0))\n",
      "((0, 1, 1.047197551196598, 3.141592653589793), (2, 3, 1.0471975511965974, 3.141592653589792), (4, 5, 1.3181160716528177, -3.14159265358979), (6, 7, 1.3181160716528177, -3.330669073875469e-16))\n",
      "('pht', (1, 2, 1.5707963267948966, 0.0), (3, 4, 1.5707963267948966, 0.0), (5, 6, 1.5707963267948966, 0.0))\n",
      "((2, 3, 0.9553166181245089, 6.661338147750939e-16), (4, 5, 0.9553166181245096, 3.330669073875469e-16), (6, 7, 1.1071487177940906, -1.1102230246251565e-16))\n",
      "('pht', (3, 4, 1.5707963267948966, 0.0), (5, 6, 1.5707963267948966, 0.0))\n",
      "((4, 5, 0.7853981633974482, 3.1415926535897927), (6, 7, 0.7853981633974481, 1.1657341758564144e-15))\n",
      "((5, 6, 1.5707963267948966, 0.0),)\n",
      "\n",
      "[]\n"
     ]
    }
   ],
   "source": [
    "from openfermion.utils import gaussian_state_preparation_circuit \n",
    "\n",
    "circuit_desc, start_orbitals = gaussian_state_preparation_circuit(quad_ham)\n",
    "for parallel_ops in circuit_desc:\n",
    "    print(parallel_ops)\n",
    "print('')\n",
    "print(start_orbitals)"
   ]
  },
  {
   "cell_type": "markdown",
   "metadata": {},
   "source": [
    "For the special case that a quadratic Hamiltonian conserves particle number ($\\Delta = 0$), its eigenstates take the form: \n",
    "$$ \\mid \\psi_s \\rangle = b_1^\\dagger \\cdots b_N^\\dagger \\mid vac \\rangle $$ \n",
    "where $$ b_p^\\dagger = \\sum_{k=1}^N Q_{pq} a_q^\\dagger$$ \n",
    "where $Q$ is an $N x N$ matrix with orthonormal rows. \n",
    "\n",
    "These states are known as Slater determinants, and OpenFermion provides functionality to obtain circuits for preparing Slater determinants starting with matrix $Q$ as input. "
   ]
  },
  {
   "cell_type": "code",
   "execution_count": null,
   "metadata": {},
   "outputs": [],
   "source": []
  }
 ],
 "metadata": {
  "kernelspec": {
   "display_name": "Python 3",
   "language": "python",
   "name": "python3"
  },
  "language_info": {
   "codemirror_mode": {
    "name": "ipython",
    "version": 3
   },
   "file_extension": ".py",
   "mimetype": "text/x-python",
   "name": "python",
   "nbconvert_exporter": "python",
   "pygments_lexer": "ipython3",
   "version": "3.7.6"
  }
 },
 "nbformat": 4,
 "nbformat_minor": 4
}
