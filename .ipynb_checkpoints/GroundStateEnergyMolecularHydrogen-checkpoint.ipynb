{
 "cells": [
  {
   "cell_type": "code",
   "execution_count": 1,
   "metadata": {},
   "outputs": [],
   "source": [
    "import numpy as np"
   ]
  },
  {
   "cell_type": "markdown",
   "metadata": {},
   "source": [
    "## Using coefficients from Table 1 in [(1512.06860)](https://arxiv.org/pdf/1512.06860.pdf) to see if the lowest energy matches Figure 3 from the paper:\n",
    "\n",
    "![](h2_energy_curve.png)"
   ]
  },
  {
   "cell_type": "code",
   "execution_count": 3,
   "metadata": {},
   "outputs": [],
   "source": [
    "# R (bond length) = 0.4 angstroms \n",
    "v_0 = 1.1182 \n",
    "v_1 = 0.4754 \n",
    "v_2 = -0.9145 \n",
    "v_3 = 0.6438 \n",
    "v_4 = 0.0825 \n",
    "v_5 = 0.0825 "
   ]
  },
  {
   "cell_type": "code",
   "execution_count": 4,
   "metadata": {},
   "outputs": [],
   "source": [
    "I = np.eye(2)\n",
    "X = np.array([[0, 1], [1, 0]])\n",
    "Y = np.array([[0, -1j], [1j, 0]])\n",
    "Z = np.array([[1, 0], [0, -1]])"
   ]
  },
  {
   "cell_type": "code",
   "execution_count": 5,
   "metadata": {},
   "outputs": [],
   "source": [
    "def h2_hamiltonian(v_0, v_1, v_2, v_3, v_4, v_5):\n",
    "    ham = np.zeros((4, 4), dtype=np.complex_)\n",
    "    ham += v_0 * np.kron(I, I)\n",
    "    ham += v_1 * np.kron(Z, I)\n",
    "    ham += v_2 * np.kron(I, Z)\n",
    "    ham += v_3 * np.kron(Z, Z)\n",
    "    ham += v_4 * np.kron(X, X)\n",
    "    ham += v_5 * np.kron(Y, Y)\n",
    "    return ham"
   ]
  },
  {
   "cell_type": "code",
   "execution_count": 6,
   "metadata": {},
   "outputs": [],
   "source": [
    "h = h2_hamiltonian(v_0, v_1, v_2, v_3, v_4, v_5)"
   ]
  },
  {
   "cell_type": "code",
   "execution_count": 7,
   "metadata": {},
   "outputs": [
    {
     "name": "stdout",
     "output_type": "stream",
     "text": [
      "[[ 1.3229+0.j  0.    +0.j  0.    +0.j  0.    +0.j]\n",
      " [ 0.    +0.j  1.8643+0.j  0.165 +0.j  0.    +0.j]\n",
      " [ 0.    +0.j  0.165 +0.j -0.9155+0.j  0.    +0.j]\n",
      " [ 0.    +0.j  0.    +0.j  0.    +0.j  2.2011+0.j]]\n"
     ]
    }
   ],
   "source": [
    "print(h)"
   ]
  },
  {
   "cell_type": "code",
   "execution_count": 8,
   "metadata": {},
   "outputs": [
    {
     "data": {
      "text/plain": [
       "(-0.9252596050468846+0j)"
      ]
     },
     "execution_count": 8,
     "metadata": {},
     "output_type": "execute_result"
    }
   ],
   "source": [
    "min(np.linalg.eig(h)[0])\n",
    "# This seems to match Fig3 in (1512.06860)!!!"
   ]
  },
  {
   "cell_type": "code",
   "execution_count": 15,
   "metadata": {},
   "outputs": [
    {
     "data": {
      "text/plain": [
       "(-0.9448869305338705+0j)"
      ]
     },
     "execution_count": 15,
     "metadata": {},
     "output_type": "execute_result"
    }
   ],
   "source": [
    "# R = 2.5 angstroms \n",
    "v_0 = -0.3051 \n",
    "v_1 = 0.1098 \n",
    "v_2 = 0.0549 \n",
    "v_3 = 0.3521 \n",
    "v_4 = 0.1412 \n",
    "v_5 = 0.1412 \n",
    "h = h2_hamiltonian(v_0, v_1, v_2, v_3, v_4, v_5)\n",
    "min(np.linalg.eig(h)[0])\n",
    "# Seems to match Fig3"
   ]
  },
  {
   "cell_type": "code",
   "execution_count": 10,
   "metadata": {},
   "outputs": [
    {
     "data": {
      "text/plain": [
       "(0.1442103319109907+0j)"
      ]
     },
     "execution_count": 10,
     "metadata": {},
     "output_type": "execute_result"
    }
   ],
   "source": [
    "# R = 0.2 angstroms \n",
    "v_0 = 2.8489 \n",
    "v_1 = 0.5678 \n",
    "v_2 = -1.4508 \n",
    "v_3 = 0.6799 \n",
    "v_4 = 0.0791 \n",
    "v_5 = 0.0791 \n",
    "h = h2_hamiltonian(v_0, v_1, v_2, v_3, v_4, v_5)\n",
    "min(np.linalg.eig(h)[0])\n",
    "# I believe this one is the leftmost on the axis so it seems to match as well"
   ]
  },
  {
   "cell_type": "markdown",
   "metadata": {},
   "source": [
    "## Testing Fidelity of Optimal VQE in Noise"
   ]
  },
  {
   "cell_type": "code",
   "execution_count": 13,
   "metadata": {},
   "outputs": [],
   "source": [
    "def fidelity(rho1, rho2):\n",
    "    return np.trace(np.sqrt(np.sqrt(rho1) * rho2 * np.sqrt(rho1)))\n",
    "\n",
    "# Dephasing channel \n",
    "p = 1 - np.exp(-0.05)\n",
    "\n",
    "def K_0(p):\n",
    "    return np.sqrt(1 - p/2) * np.eye(2)\n",
    "def K_1(p):\n",
    "    return np.sqrt(p/2) * np.array([[1, 0], [0, -1]])\n",
    "\n",
    "def vec_to_density(vec):\n",
    "    rho = np.zeros((len(vec), len(vec)))\n",
    "    for i in range(len(vec)):\n",
    "        for j in range(len(vec)):\n",
    "            rho[i][j] = vec[i] * np.conj(vec[j])\n",
    "    return rho\n",
    "\n",
    "def apply_dephasing(p, rho):\n",
    "    return (np.kron(K_0(p), K_0(p)) * rho * np.conj(np.transpose(np.kron(K_0(p), K_0(p)))) +\n",
    "            np.kron(K_1(p), K_1(p)) * rho * np.conj(np.transpose(np.kron(K_1(p), K_1(p)))))\n",
    "\n",
    "def VCS_ham_dephasing(p, ham):\n",
    "    # recall ham is Hermitian \n",
    "    return np.conj(np.transpose(apply_dephasing(p, ham)))"
   ]
  },
  {
   "cell_type": "code",
   "execution_count": 17,
   "metadata": {},
   "outputs": [
    {
     "name": "stdout",
     "output_type": "stream",
     "text": [
      "0.9759194172768464\n"
     ]
    },
    {
     "name": "stderr",
     "output_type": "stream",
     "text": [
      "/home/warren/anaconda3/lib/python3.6/site-packages/ipykernel_launcher.py:16: ComplexWarning: Casting complex values to real discards the imaginary part\n",
      "  app.launch_new_instance()\n",
      "/home/warren/anaconda3/lib/python3.6/site-packages/ipykernel_launcher.py:2: RuntimeWarning: invalid value encountered in sqrt\n",
      "  \n"
     ]
    }
   ],
   "source": [
    "# Using prev defined h for R = 0.2 angstroms \n",
    "ground_state_h = np.linalg.eigh(h)[1][:,0]\n",
    "print(fidelity(vec_to_density(ground_state_h), apply_dephasing(p, vec_to_density(ground_state_h))))\n",
    "\n",
    "# h_trans = VCS_ham_dephasing(p, h)\n",
    "# ground_state_h_trans = np.linalg.eigh(h_trans)[1][:,0]\n",
    "# fidelity(h, htr)"
   ]
  }
 ],
 "metadata": {
  "kernelspec": {
   "display_name": "Python 3",
   "language": "python",
   "name": "python3"
  },
  "language_info": {
   "codemirror_mode": {
    "name": "ipython",
    "version": 3
   },
   "file_extension": ".py",
   "mimetype": "text/x-python",
   "name": "python",
   "nbconvert_exporter": "python",
   "pygments_lexer": "ipython3",
   "version": "3.6.9"
  }
 },
 "nbformat": 4,
 "nbformat_minor": 2
}
