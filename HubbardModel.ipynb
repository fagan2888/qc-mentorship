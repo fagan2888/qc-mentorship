{
 "cells": [
  {
   "cell_type": "markdown",
   "metadata": {},
   "source": [
    "# Hubbard Model\n",
    "\n",
    "I'm planning on running VQE and Trotter simulation on a Hubbard Hamiltonian to better understand its structure. \n",
    "\n",
    "The Hubbard model is a simplification of the interactions of electrons in a solid. It can be used to explain how these interactions yield insulating, magnetic, and superconducting effects (though I don't understand any of this yet). "
   ]
  },
  {
   "cell_type": "code",
   "execution_count": 1,
   "metadata": {},
   "outputs": [],
   "source": [
    "import numpy as np\n",
    "from utils import *"
   ]
  },
  {
   "cell_type": "markdown",
   "metadata": {},
   "source": [
    "## Defining creation and annihilation operators \n",
    "\n",
    "Since we're describing electrons, the Hubbard Hamiltonian's creation and annihilation operators have the normal fermionic anticommutation relations, namely that for a fermion on site $j,k$ with spin $\\sigma, \\pi$, \n",
    "\n",
    "$$ \\large \\{ c_{j \\sigma}, c^\\dagger_{k \\pi } \\} = \\delta_{jk} \\delta_{\\sigma \\pi} \\qquad \\{ c^\\dagger_{j\\sigma}, c^\\dagger_{k \\pi} \\}= \\{ c_{j\\sigma} c_{k\\pi} \\} = 0  $$"
   ]
  },
  {
   "cell_type": "code",
   "execution_count": 2,
   "metadata": {},
   "outputs": [],
   "source": [
    "class Operator: \n",
    "    def __init__(self, _type, spin, qubit, dim):\n",
    "        self.type = _type \n",
    "        self.spin = spin\n",
    "        self.qubit = qubit\n",
    "        self.dim = dim\n",
    "    \n",
    "#     def __mul__(self, b): \n",
    "#         return 0\n",
    "        \n",
    "class CreationOperator(Operator):\n",
    "    def __init__(self, spin, qubit, dim):\n",
    "        super(CreationOperator, self).__init__('creation', spin, qubit, dim)\n",
    "\n",
    "class AnnihilationOperator(Operator):\n",
    "    def __init__(self, spin, qubit, dim):\n",
    "        super(AnnihilationOperator, self).__init__('annihilation', spin, qubit, dim)"
   ]
  },
  {
   "cell_type": "code",
   "execution_count": 3,
   "metadata": {},
   "outputs": [],
   "source": [
    "c_1 = CreationOperator('down', 0, 5)\n",
    "a_1 = AnnihilationOperator('up', 3, 5)"
   ]
  },
  {
   "cell_type": "markdown",
   "metadata": {},
   "source": [
    "## Jordan-Wigner Transformation"
   ]
  },
  {
   "cell_type": "code",
   "execution_count": 4,
   "metadata": {},
   "outputs": [],
   "source": [
    "def encode_JW(operator):\n",
    "    if not issubclass(type(operator), Operator):\n",
    "        raise TypeError(\"operator must be an Operator\")\n",
    "        \n",
    "    result = np.array([[1.0]], dtype='complex128') \n",
    "    string_repr = ''\n",
    "    # Notice the order of the tensor product: gate on 0th qubit is \"leftmost\" in product\n",
    "    for i in range(operator.dim): \n",
    "        if i < operator.qubit: \n",
    "            result = NKron(result, Z)\n",
    "            string_repr = string_repr + 'Z'\n",
    "        elif i == operator.qubit and operator.type == 'creation': \n",
    "            result = NKron(result, (X -1j*Y) / 2)\n",
    "            string_repr = string_repr + '-'\n",
    "        elif i == operator.qubit and operator.type == 'annihilation': \n",
    "            result = NKron(result, (X +1j*Y) / 2) \n",
    "            string_repr = string_repr + '+'\n",
    "        elif i > operator.qubit: \n",
    "            result = NKron(result, I) \n",
    "            string_repr = string_repr + 'I'\n",
    "        else: \n",
    "            raise ValueError(\"Something is wrong with this code!\")\n",
    "    #print(string_repr)\n",
    "    return result"
   ]
  },
  {
   "cell_type": "code",
   "execution_count": 5,
   "metadata": {},
   "outputs": [],
   "source": [
    "x = encode_JW(c_1)"
   ]
  },
  {
   "cell_type": "code",
   "execution_count": 6,
   "metadata": {},
   "outputs": [
    {
     "data": {
      "text/plain": [
       "(32, 32)"
      ]
     },
     "execution_count": 6,
     "metadata": {},
     "output_type": "execute_result"
    }
   ],
   "source": [
    "x.shape"
   ]
  },
  {
   "cell_type": "markdown",
   "metadata": {},
   "source": [
    "## Defining the Hubbard Hamiltonian\n",
    "\n",
    "Okay, now that we have those preliminaries out of the way, what is the Hubbard Hamiltonian? What's the motivation behind it? How is it useful? \n",
    "\n",
    "Answer these. \n",
    "\n",
    "The Hubbard Hamiltonian: \n",
    "$$ \\large H = -t \\sum_{<j, k>, \\sigma} \\Big( c^\\dagger_{j\\sigma} c_{k\\sigma} + c^\\dagger_{k \\sigma} c_{j \\sigma} \\Big) + U \\sum_j n_{j \\uparrow} n_{j \\downarrow} - \\mu \\sum_j \\Big(n_{j\\uparrow} + n_{j\\downarrow} \\Big) $$\n",
    "\n",
    "The first term is kinetic energy, a fermion moving from one site to another. The symbol $<j, k>$ implies iterating over sites that are adjacent. \n",
    "\n",
    "The second term is interaction energy, additional energy for a doubly-occupied site. \n",
    "\n",
    "The third term is chemical potential, which controls the filling. **Hm, a lot of places don't have this third term (Wikipedia even). Why?**"
   ]
  },
  {
   "cell_type": "markdown",
   "metadata": {},
   "source": [
    "### 2D Hubbard Hamiltonian on a Square Lattice \n",
    "\n",
    "Here is a model of a 2D Hubbard Hamiltontian on a square lattice from [1811.04476](https://arxiv.org/pdf/1811.04476.pdf). We'll represent it by a 2D array: 2D to get the square structure, and in each square `[i][j]`, a dictionary of 4 elements: 'c-up', 'c-down', 'a-up', and 'a-down'. \n",
    "\n",
    "![](2d_hubbard.png)"
   ]
  },
  {
   "cell_type": "code",
   "execution_count": 7,
   "metadata": {},
   "outputs": [],
   "source": [
    "# Make sure N <= 10!!!!!\n",
    "N_X = 2\n",
    "N_Y = 2\n",
    "N = N_X * N_Y"
   ]
  },
  {
   "cell_type": "code",
   "execution_count": 8,
   "metadata": {},
   "outputs": [],
   "source": [
    "# We use this to make iterating over neighbors easier \n",
    "# NOTE: in HubbardHamiltonian2D, we generate the JW transformation instead of the operator class\n",
    "square_lattice = [[ {'i': i, 'j': j, \n",
    "                     'c-up': CreationOperator('UP', N_Y * i + j, N), \n",
    "                     'c-down': CreationOperator('DOWN', N_Y * i + j, N), \n",
    "                     'a-up': AnnihilationOperator('UP', N_Y * i + j, N), \n",
    "                     'a-down': AnnihilationOperator('DOWN', N_Y * i + j, N)\n",
    "                    } for j in range(N_X)] for i in range(N_Y)]"
   ]
  },
  {
   "cell_type": "code",
   "execution_count": 9,
   "metadata": {},
   "outputs": [
    {
     "data": {
      "text/plain": [
       "{'i': 0,\n",
       " 'j': 1,\n",
       " 'c-up': <__main__.CreationOperator at 0x7fde1750d748>,\n",
       " 'c-down': <__main__.CreationOperator at 0x7fde1750d7b8>,\n",
       " 'a-up': <__main__.AnnihilationOperator at 0x7fde1750d7f0>,\n",
       " 'a-down': <__main__.AnnihilationOperator at 0x7fde1750d828>}"
      ]
     },
     "execution_count": 9,
     "metadata": {},
     "output_type": "execute_result"
    }
   ],
   "source": [
    "square_lattice[0][1]"
   ]
  },
  {
   "cell_type": "code",
   "execution_count": 10,
   "metadata": {},
   "outputs": [],
   "source": [
    "class HubbardHamiltonian2D: \n",
    "    def __init__(self, t, U, mu, N_X, N_Y):\n",
    "        self.t = t \n",
    "        self.U = U \n",
    "        self.mu = mu \n",
    "        self.N_X = N_X \n",
    "        self.N_Y = N_Y\n",
    "        self.N = N_X * N_Y \n",
    "        self.square_lattice = self._gen_square_lattice()\n",
    "        self.hamiltonian = self._gen_hamiltonian()\n",
    "        \n",
    "    def _gen_square_lattice(self):\n",
    "        # We use this to make iterating over neighbors easier \n",
    "        return [[ {'i': i, 'j': j, \n",
    "                   'c-up': encode_JW(CreationOperator('UP', self.N_Y * i + j, self.N)), \n",
    "                   'c-down': encode_JW(CreationOperator('DOWN', self.N_Y * i + j, self.N)), \n",
    "                   'a-up': encode_JW(AnnihilationOperator('UP', self.N_Y * i + j, self.N)), \n",
    "                   'a-down': encode_JW(AnnihilationOperator('DOWN', self.N_Y * i + j, self.N))\n",
    "                  } for j in range(self.N_X)] for i in range(self.N_Y)]\n",
    "    \n",
    "    def _gen_hamiltonian(self): \n",
    "        return (-self.t * (self._gen_hor_even_sum() + self._gen_hor_odd_sum() + \n",
    "                           self._gen_ver_even_sum() + self._gen_ver_odd_sum()) + \n",
    "                self.U * self._gen_interaction_energy())\n",
    "    \n",
    "    # I'm calculating the Hamiltonian like this because we'll be separating these terms later for the ansatz\n",
    "    def _gen_hor_even_sum(self): \n",
    "        total = np.eye(2**self.N, dtype='complex128')\n",
    "        for i in range(self.N_Y): \n",
    "            for j in range(self.N_X): \n",
    "                if j % 2 == 0 and j + 1 < self.N_X: \n",
    "                    site = self.square_lattice[i][j]\n",
    "                    next_site = self.square_lattice[i][j+1]\n",
    "                    total += NDot(site['c-up'], next_site['a-up'])\n",
    "                    total += NDot(site['c-down'], next_site['a-down'])\n",
    "                    total += NDot(next_site['c-up'], site['a-up'])\n",
    "                    total += NDot(next_site['c-down'], site['a-down'])\n",
    "        return total \n",
    "    \n",
    "    def _gen_hor_odd_sum(self): \n",
    "        total = np.eye(2**self.N, dtype='complex128')\n",
    "        for i in range(self.N_Y): \n",
    "            for j in range(self.N_X): \n",
    "                if j % 2 == 1 and j + 1 < self.N_X: \n",
    "                    site = self.square_lattice[i][j]\n",
    "                    next_site = self.square_lattice[i][j+1]\n",
    "                    total += NDot(site['c-up'], next_site['a-up'])\n",
    "                    total += NDot(site['c-down'], next_site['a-down'])\n",
    "                    total += NDot(next_site['c-up'], site['a-up'])\n",
    "                    total += NDot(next_site['c-down'], site['a-down'])\n",
    "        return total \n",
    "    \n",
    "    def _gen_ver_even_sum(self):\n",
    "        total = np.eye(2**self.N, dtype='complex128')\n",
    "        for i in range(self.N_Y): \n",
    "            if i % 2 == 0 and i + 1 < self.N_Y: \n",
    "                for j in range(self.N_X): \n",
    "                    site = self.square_lattice[i][j]\n",
    "                    next_site = self.square_lattice[i+1][j]\n",
    "                    total += NDot(site['c-up'], next_site['a-up'])\n",
    "                    total += NDot(site['c-down'], next_site['a-down'])\n",
    "                    total += NDot(next_site['c-up'], site['a-up'])\n",
    "                    total += NDot(next_site['c-down'], site['a-down'])\n",
    "        return total \n",
    "    \n",
    "    def _gen_ver_odd_sum(self): \n",
    "        total = np.eye(2**self.N, dtype='complex128')\n",
    "        for i in range(self.N_Y): \n",
    "            if i % 2 == 1 and i + 1 < self.N_Y: \n",
    "                for j in range(self.N_X): \n",
    "                    site = self.square_lattice[i][j]\n",
    "                    next_site = self.square_lattice[i+1][j]\n",
    "                    total += NDot(site['c-up'], next_site['a-up'])\n",
    "                    total += NDot(site['c-down'], next_site['a-down'])\n",
    "                    total += NDot(next_site['c-up'], site['a-up'])\n",
    "                    total += NDot(next_site['c-down'], site['a-down'])\n",
    "        return total \n",
    "    \n",
    "    def _gen_interaction_energy(self):\n",
    "        total = np.eye(2**self.N, dtype='complex128')\n",
    "        for i in range(self.N_Y): \n",
    "            for j in range(self.N_X): \n",
    "                site = self.square_lattice[i][j] \n",
    "                total += NDot(site['c-up'], site['a-up'], site['c-down'], site['a-down'])\n",
    "        return total"
   ]
  },
  {
   "cell_type": "code",
   "execution_count": 11,
   "metadata": {},
   "outputs": [],
   "source": [
    "x = HubbardHamiltonian2D(3, 4, 5, N_X, N_Y)"
   ]
  },
  {
   "cell_type": "code",
   "execution_count": null,
   "metadata": {},
   "outputs": [],
   "source": []
  }
 ],
 "metadata": {
  "kernelspec": {
   "display_name": "Python 3",
   "language": "python",
   "name": "python3"
  },
  "language_info": {
   "codemirror_mode": {
    "name": "ipython",
    "version": 3
   },
   "file_extension": ".py",
   "mimetype": "text/x-python",
   "name": "python",
   "nbconvert_exporter": "python",
   "pygments_lexer": "ipython3",
   "version": "3.6.9"
  }
 },
 "nbformat": 4,
 "nbformat_minor": 4
}
