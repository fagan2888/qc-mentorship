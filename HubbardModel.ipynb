{
 "cells": [
  {
   "cell_type": "markdown",
   "metadata": {},
   "source": [
    "# Hubbard Model\n",
    "\n",
    "I'm planning on running VQE and Trotter simulation on a Hubbard Hamiltonian to better understand its structure. \n",
    "\n",
    "The Hubbard model is a simplification of the interactions of electrons in a solid. It can be used to explain how these interactions yield insulating, magnetic, and superconducting effects (though I don't understand any of this yet). "
   ]
  },
  {
   "cell_type": "code",
   "execution_count": 1,
   "metadata": {},
   "outputs": [],
   "source": [
    "import numpy as np\n",
    "import scipy.linalg\n",
    "import scipy.optimize \n",
    "\n",
    "from utils import *"
   ]
  },
  {
   "cell_type": "code",
   "execution_count": 2,
   "metadata": {},
   "outputs": [],
   "source": [
    "from decimal import * "
   ]
  },
  {
   "cell_type": "code",
   "execution_count": 3,
   "metadata": {},
   "outputs": [],
   "source": [
    "getcontext().prec=40"
   ]
  },
  {
   "cell_type": "code",
   "execution_count": 4,
   "metadata": {},
   "outputs": [
    {
     "data": {
      "text/plain": [
       "Context(prec=40, rounding=ROUND_HALF_EVEN, Emin=-999999, Emax=999999, capitals=1, clamp=0, flags=[], traps=[InvalidOperation, DivisionByZero, Overflow])"
      ]
     },
     "execution_count": 4,
     "metadata": {},
     "output_type": "execute_result"
    }
   ],
   "source": [
    "getcontext()"
   ]
  },
  {
   "cell_type": "markdown",
   "metadata": {},
   "source": [
    "## Defining creation and annihilation operators \n",
    "\n",
    "Since we're describing electrons, the Hubbard Hamiltonian's creation and annihilation operators have the normal fermionic anticommutation relations, namely that for a fermion on site $j,k$ with spin $\\sigma, \\pi$, \n",
    "\n",
    "$$ \\large \\{ c_{j \\sigma}, c^\\dagger_{k \\pi } \\} = \\delta_{jk} \\delta_{\\sigma \\pi} \\qquad \\{ c^\\dagger_{j\\sigma}, c^\\dagger_{k \\pi} \\}= \\{ c_{j\\sigma} c_{k\\pi} \\} = 0  $$\n",
    "\n",
    "I've defined a FermionicOperator class which subclasses CreationOperator and AnnihilationOperator in operators.py. I tried to document it well so `FermionicOperator?` is helpful. "
   ]
  },
  {
   "cell_type": "code",
   "execution_count": 5,
   "metadata": {},
   "outputs": [],
   "source": [
    "class Operator: \n",
    "    def __init__(self, _type, spin, qubit, dim):\n",
    "        self.type = _type \n",
    "        self.spin = spin\n",
    "        self.qubit = qubit\n",
    "        self.dim = dim\n",
    "        \n",
    "class CreationOperator(Operator):\n",
    "    def __init__(self, spin, qubit, dim):\n",
    "        super(CreationOperator, self).__init__('creation', spin, qubit, dim)\n",
    "\n",
    "class AnnihilationOperator(Operator):\n",
    "    def __init__(self, spin, qubit, dim):\n",
    "        super(AnnihilationOperator, self).__init__('annihilation', spin, qubit, dim)\n"
   ]
  },
  {
   "cell_type": "code",
   "execution_count": 6,
   "metadata": {},
   "outputs": [
    {
     "name": "stdout",
     "output_type": "stream",
     "text": [
      "Object `FermionicOperator` not found.\n"
     ]
    }
   ],
   "source": [
    "FermionicOperator?"
   ]
  },
  {
   "cell_type": "code",
   "execution_count": 7,
   "metadata": {},
   "outputs": [],
   "source": [
    "CreationOperator?"
   ]
  },
  {
   "cell_type": "code",
   "execution_count": 8,
   "metadata": {},
   "outputs": [],
   "source": [
    "c_1 = CreationOperator('down', 0, 5)\n",
    "a_1 = AnnihilationOperator('up', 3, 5)"
   ]
  },
  {
   "cell_type": "markdown",
   "metadata": {},
   "source": [
    "## Jordan-Wigner Transformation\n",
    "\n",
    "This is all done in the FermionicOperator class. Do `FermionicOperator._gen_JW_mapping??` to get the explanation of how I implemented it. Whenever a `FermionicOperator` is initialized, this function is called and stored in the `FermionicOperator.JW` attribute. "
   ]
  },
  {
   "cell_type": "code",
   "execution_count": 9,
   "metadata": {},
   "outputs": [
    {
     "name": "stdout",
     "output_type": "stream",
     "text": [
      "Object `FermionicOperator._gen_JW_mapping` not found.\n"
     ]
    }
   ],
   "source": [
    "FermionicOperator._gen_JW_mapping??"
   ]
  },
  {
   "cell_type": "code",
   "execution_count": 10,
   "metadata": {},
   "outputs": [],
   "source": [
    "def encode_JW(operator):\n",
    "    if not issubclass(type(operator), Operator):\n",
    "        raise TypeError(\"operator must be an Operator\")\n",
    "        \n",
    "    result = np.array([[1.0]], dtype='complex128') \n",
    "    string_repr = ''\n",
    "    # Notice the order of the tensor product: gate on 0th qubit is \"leftmost\" in product\n",
    "    for i in range(operator.dim): \n",
    "        if i < operator.qubit: \n",
    "            result = NKron(result, Z)\n",
    "            string_repr = string_repr + 'Z'\n",
    "        elif i == operator.qubit and operator.type == 'creation': \n",
    "            result = NKron(result, (X -1j*Y) / 2)\n",
    "            string_repr = string_repr + '-'\n",
    "        elif i == operator.qubit and operator.type == 'annihilation': \n",
    "            result = NKron(result, (X +1j*Y) / 2) \n",
    "            string_repr = string_repr + '+'\n",
    "        elif i > operator.qubit: \n",
    "            result = NKron(result, I) \n",
    "            string_repr = string_repr + 'I'\n",
    "        else: \n",
    "            raise ValueError(\"Something is wrong with this code!\")\n",
    "    #print(string_repr)\n",
    "    return result\n"
   ]
  },
  {
   "cell_type": "markdown",
   "metadata": {},
   "source": [
    "## Defining the Hubbard Hamiltonian\n",
    "\n",
    "Okay, now that we have those preliminaries out of the way, what is the Hubbard Hamiltonian? What's the motivation behind it? How is it useful? \n",
    "\n",
    "Answer these. \n",
    "\n",
    "The Hubbard Hamiltonian: \n",
    "$$ \\large H = -t \\sum_{<j, k>, \\sigma} \\Big( c^\\dagger_{j\\sigma} c_{k\\sigma} + c^\\dagger_{k \\sigma} c_{j \\sigma} \\Big) + U \\sum_j n_{j \\uparrow} n_{j \\downarrow} - \\mu \\sum_j \\Big(n_{j\\uparrow} + n_{j\\downarrow} \\Big) $$\n",
    "\n",
    "The first term is kinetic energy, a fermion moving from one site to another. The symbol $<j, k>$ implies iterating over sites that are adjacent. \n",
    "\n",
    "The second term is interaction energy, additional energy for a doubly-occupied site. \n",
    "\n",
    "The third term is chemical potential, which controls the filling. **Hm, a lot of places don't have this third term (Wikipedia even). Why?**"
   ]
  },
  {
   "cell_type": "markdown",
   "metadata": {},
   "source": [
    "### 2D Hubbard Hamiltonian on a Square Lattice \n",
    "\n",
    "Here is a model of a 2D Hubbard Hamiltontian on a square lattice from [1811.04476](https://arxiv.org/pdf/1811.04476.pdf). We'll represent it by a 2D array: 2D to get the square structure, and in each square `[i][j]`, a dictionary of 4 elements: 'c-up', 'c-down', 'a-up', and 'a-down'. \n",
    "\n",
    "![](images/2d_hubbard.png)"
   ]
  },
  {
   "cell_type": "code",
   "execution_count": 11,
   "metadata": {},
   "outputs": [],
   "source": [
    "# Make sure N <= 10 or computer explodes!!!!!\n",
    "N_X = 2\n",
    "N_Y = 2\n",
    "N = N_X * N_Y"
   ]
  },
  {
   "cell_type": "code",
   "execution_count": 12,
   "metadata": {},
   "outputs": [],
   "source": [
    "# We use this to make iterating over neighbors easier \n",
    "# NOTE: in HubbardHamiltonian2D, we generate the JW transformation instead of the operator class\n",
    "square_lattice = [[ {'i': i, 'j': j, \n",
    "                     'c-up': CreationOperator('up', N_Y * i + j, N), \n",
    "                     'c-down': CreationOperator('down', N_Y * i + j, N), \n",
    "                     'a-up': AnnihilationOperator('up', N_Y * i + j, N), \n",
    "                     'a-down': AnnihilationOperator('down', N_Y * i + j, N)\n",
    "                    } for j in range(N_X)] for i in range(N_Y)]"
   ]
  },
  {
   "cell_type": "code",
   "execution_count": 13,
   "metadata": {},
   "outputs": [
    {
     "data": {
      "text/plain": [
       "(2, 2)"
      ]
     },
     "execution_count": 13,
     "metadata": {},
     "output_type": "execute_result"
    }
   ],
   "source": [
    "np.array(square_lattice).shape"
   ]
  },
  {
   "cell_type": "code",
   "execution_count": 14,
   "metadata": {},
   "outputs": [],
   "source": [
    "# TODO: does c-up and c-down act on different qubits? I think they do. But then which qubits are \"next\" to them \n",
    "# in the lattice? \n",
    "# I think they need to be acting on different qubits (otherwise they're the same operator...) and even though I \n",
    "# make the spin DOWN qubits all after the spin UP qubits, as long as I keep this square lattice 2d array, I \n",
    "# should be fine I THINK. Let's try this. So spin DOWN acts on self.N + self.N_Y * i + j and dimension is \n",
    "# 2 * self.N\n",
    "# HOLY COW, I was adding to identity instead of zero!!!!"
   ]
  },
  {
   "cell_type": "code",
   "execution_count": 53,
   "metadata": {},
   "outputs": [],
   "source": [
    "class HubbardHamiltonian2D: \n",
    "    def __init__(self, t, U, mu, N_X, N_Y):\n",
    "        self.t = t \n",
    "        self.U = U \n",
    "        self.mu = mu \n",
    "        self.N_X = N_X \n",
    "        self.N_Y = N_Y\n",
    "        self.N = N_X * N_Y \n",
    "        self.square_lattice = self._gen_square_lattice()\n",
    "        self.ham_sets = [self._gen_hor_even_sum(), self._gen_hor_odd_sum(), \n",
    "                         self._gen_ver_even_sum(), self._gen_ver_odd_sum(), \n",
    "                         self._gen_interaction_energy()]\n",
    "        self.hamiltonian = self._gen_hamiltonian()\n",
    "        \n",
    "    def _gen_square_lattice(self):\n",
    "        # We use this to make iterating over neighbors easier \n",
    "        return [[ {'i': i, 'j': j, \n",
    "                   # LOOK AT COMMENT ABOVE!\n",
    "#                    'c-up': encode_JW(CreationOperator('UP', self.N_Y * i + j, self.N)), \n",
    "#                    'c-down': encode_JW(CreationOperator('DOWN', self.N_Y * i + j, self.N)), \n",
    "#                    'a-up': encode_JW(AnnihilationOperator('UP', self.N_Y * i + j, self.N)), \n",
    "#                    'a-down': encode_JW(AnnihilationOperator('DOWN', self.N_Y * i + j, self.N))\n",
    "                   'c-up': encode_JW(CreationOperator('up', self.N_Y * i + j, 2 * self.N)), \n",
    "                   'c-down': encode_JW(CreationOperator('down', self.N + self.N_Y * i + j, 2 * self.N)), \n",
    "                   'a-up': encode_JW(AnnihilationOperator('up', self.N_Y * i + j, 2 * self.N)), \n",
    "                   'a-down': encode_JW(AnnihilationOperator('down', self.N + self.N_Y * i + j, 2 * self.N))\n",
    "                  } for j in range(self.N_X)] for i in range(self.N_Y)]\n",
    "    \n",
    "    def _gen_hamiltonian(self): \n",
    "        return (-self.t * (self.ham_sets[0] + self.ham_sets[1] + \n",
    "                           self.ham_sets[2] + self.ham_sets[3]) + \n",
    "                self.U * self.ham_sets[4])\n",
    "    \n",
    "    # I'm calculating the Hamiltonian like this because we'll be separating these terms later for the ansatz\n",
    "    def _gen_hor_even_sum(self): \n",
    "#         total = np.eye(2**(2 * self.N), dtype='complex128')\n",
    "        total = np.zeros((2**(2 * self.N), 2**(2*self.N)), dtype='complex128')\n",
    "        test = 0\n",
    "        for i in range(self.N_Y): \n",
    "            for j in range(self.N_X): \n",
    "                if j % 2 == 0 and j + 1 < self.N_X: \n",
    "                    site = self.square_lattice[i][j]\n",
    "                    next_site = self.square_lattice[i][j+1]\n",
    "                    total += NDot(site['c-up'], next_site['a-up'])\n",
    "                    total += NDot(site['c-down'], next_site['a-down'])\n",
    "                    total += NDot(next_site['c-up'], site['a-up'])\n",
    "                    total += NDot(next_site['c-down'], site['a-down'])\n",
    "                    test += 1\n",
    "        print(test)\n",
    "        return -self.t * total \n",
    "    \n",
    "    def _gen_hor_odd_sum(self): \n",
    "#         total = np.eye(2**(2 * self.N), dtype='complex128')\n",
    "        total = np.zeros((2**(2 * self.N), 2**(2*self.N)), dtype='complex128')\n",
    "        test = 0\n",
    "        for i in range(self.N_Y): \n",
    "            for j in range(self.N_X): \n",
    "                if j % 2 == 1 and j + 1 < self.N_X: \n",
    "                    site = self.square_lattice[i][j]\n",
    "                    next_site = self.square_lattice[i][j+1]\n",
    "                    total += NDot(site['c-up'], next_site['a-up'])\n",
    "                    total += NDot(site['c-down'], next_site['a-down'])\n",
    "                    total += NDot(next_site['c-up'], site['a-up'])\n",
    "                    total += NDot(next_site['c-down'], site['a-down'])\n",
    "                    test += 1\n",
    "        print(test)\n",
    "        return -self.t * total \n",
    "    \n",
    "    def _gen_ver_even_sum(self):\n",
    "#         total = np.eye(2**(2 * self.N), dtype='complex128')\n",
    "        total = np.zeros((2**(2 * self.N), 2**(2*self.N)), dtype='complex128')\n",
    "        test = 0\n",
    "        for i in range(self.N_Y): \n",
    "            if i % 2 == 0 and i + 1 < self.N_Y: \n",
    "                for j in range(self.N_X): \n",
    "                    site = self.square_lattice[i][j]\n",
    "                    next_site = self.square_lattice[i+1][j]\n",
    "                    total += NDot(site['c-up'], next_site['a-up'])\n",
    "                    total += NDot(site['c-down'], next_site['a-down'])\n",
    "                    total += NDot(next_site['c-up'], site['a-up'])\n",
    "                    total += NDot(next_site['c-down'], site['a-down'])\n",
    "                    test += 1\n",
    "        print(test)\n",
    "        return -self.t * total \n",
    "    \n",
    "    def _gen_ver_odd_sum(self): \n",
    "#         total = np.eye(2**(2 * self.N), dtype='complex128')\n",
    "        total = np.zeros((2**(2 * self.N), 2**(2*self.N)), dtype='complex128')\n",
    "        test = 0 \n",
    "        for i in range(self.N_Y): \n",
    "            if i % 2 == 1 and i + 1 < self.N_Y: \n",
    "                for j in range(self.N_X): \n",
    "                    site = self.square_lattice[i][j]\n",
    "                    next_site = self.square_lattice[i+1][j]\n",
    "                    total += NDot(site['c-up'], next_site['a-up'])\n",
    "                    total += NDot(site['c-down'], next_site['a-down'])\n",
    "                    total += NDot(next_site['c-up'], site['a-up'])\n",
    "                    total += NDot(next_site['c-down'], site['a-down'])\n",
    "                    test += 1 \n",
    "        print(test)\n",
    "        return -self.t * total \n",
    "    \n",
    "    def _gen_interaction_energy(self):\n",
    "#         total = np.eye(2**(2 * self.N), dtype='complex128')\n",
    "        total = np.zeros((2**(2 * self.N), 2**(2*self.N)), dtype='complex128')\n",
    "        test = 0\n",
    "        for i in range(self.N_Y): \n",
    "            for j in range(self.N_X): \n",
    "                site = self.square_lattice[i][j] \n",
    "                total += NDot(site['c-up'], site['a-up'], site['c-down'], site['a-down'])\n",
    "                test += 1\n",
    "        print(test)\n",
    "        return self.U * total"
   ]
  },
  {
   "cell_type": "code",
   "execution_count": 54,
   "metadata": {},
   "outputs": [
    {
     "name": "stdout",
     "output_type": "stream",
     "text": [
      "2\n",
      "0\n",
      "2\n",
      "0\n",
      "4\n"
     ]
    }
   ],
   "source": [
    "x = HubbardHamiltonian2D(1, 2, 0, N_X, N_Y)"
   ]
  },
  {
   "cell_type": "code",
   "execution_count": 55,
   "metadata": {},
   "outputs": [
    {
     "name": "stdout",
     "output_type": "stream",
     "text": [
      "0\n",
      "0j\n",
      "(256, 256)\n"
     ]
    }
   ],
   "source": [
    "print(np.argmin(x.hamiltonian[10]))\n",
    "print(min(x.hamiltonian[10]))\n",
    "print(x.hamiltonian.shape)"
   ]
  },
  {
   "cell_type": "code",
   "execution_count": 56,
   "metadata": {},
   "outputs": [
    {
     "name": "stdout",
     "output_type": "stream",
     "text": [
      "Ground state energy:  -3.418550718873847\n",
      "Ground state:  [[ 0.00000000e+00+0.j]\n",
      " [ 0.00000000e+00+0.j]\n",
      " [ 0.00000000e+00+0.j]\n",
      " [ 0.00000000e+00+0.j]\n",
      " [ 0.00000000e+00+0.j]\n",
      " [ 0.00000000e+00+0.j]\n",
      " [ 0.00000000e+00+0.j]\n",
      " [ 0.00000000e+00+0.j]\n",
      " [ 0.00000000e+00+0.j]\n",
      " [ 0.00000000e+00+0.j]\n",
      " [ 0.00000000e+00+0.j]\n",
      " [ 0.00000000e+00+0.j]\n",
      " [ 0.00000000e+00+0.j]\n",
      " [ 0.00000000e+00+0.j]\n",
      " [ 0.00000000e+00+0.j]\n",
      " [ 0.00000000e+00+0.j]\n",
      " [ 3.36818413e-18+0.j]\n",
      " [ 1.40922599e-01+0.j]\n",
      " [-2.61360363e-01+0.j]\n",
      " [-5.55111512e-17+0.j]\n",
      " [-2.61360363e-01+0.j]\n",
      " [ 0.00000000e+00+0.j]\n",
      " [ 2.22044605e-16+0.j]\n",
      " [ 0.00000000e+00+0.j]\n",
      " [ 3.05814229e-01+0.j]\n",
      " [ 3.72021310e-17+0.j]\n",
      " [-9.54899728e-17+0.j]\n",
      " [ 6.85840856e-19+0.j]\n",
      " [ 8.29321602e-17+0.j]\n",
      " [-6.85840856e-19+0.j]\n",
      " [ 1.82356827e-18+0.j]\n",
      " [ 0.00000000e+00+0.j]\n",
      " [-2.76138962e-17+0.j]\n",
      " [-2.61360363e-01+0.j]\n",
      " [ 1.40922599e-01+0.j]\n",
      " [ 2.63318488e-18+0.j]\n",
      " [ 3.05814229e-01+0.j]\n",
      " [ 6.87210459e-17+0.j]\n",
      " [-6.34747459e-17+0.j]\n",
      " [ 6.85840856e-19+0.j]\n",
      " [-2.61360363e-01+0.j]\n",
      " [-3.45768283e-17+0.j]\n",
      " [ 2.79352214e-17+0.j]\n",
      " [-2.05820986e-18+0.j]\n",
      " [-4.87435280e-17+0.j]\n",
      " [ 1.82356827e-18+0.j]\n",
      " [ 1.23958429e-18+0.j]\n",
      " [ 0.00000000e+00+0.j]\n",
      " [ 0.00000000e+00+0.j]\n",
      " [ 0.00000000e+00+0.j]\n",
      " [ 0.00000000e+00+0.j]\n",
      " [ 0.00000000e+00+0.j]\n",
      " [ 0.00000000e+00+0.j]\n",
      " [ 0.00000000e+00+0.j]\n",
      " [ 0.00000000e+00+0.j]\n",
      " [ 0.00000000e+00+0.j]\n",
      " [ 0.00000000e+00+0.j]\n",
      " [ 0.00000000e+00+0.j]\n",
      " [ 0.00000000e+00+0.j]\n",
      " [ 0.00000000e+00+0.j]\n",
      " [ 0.00000000e+00+0.j]\n",
      " [ 0.00000000e+00+0.j]\n",
      " [ 0.00000000e+00+0.j]\n",
      " [ 0.00000000e+00+0.j]\n",
      " [-2.76138962e-17+0.j]\n",
      " [-2.61360363e-01+0.j]\n",
      " [ 3.05814229e-01+0.j]\n",
      " [-2.22685067e-18+0.j]\n",
      " [ 1.40922599e-01+0.j]\n",
      " [ 3.62863448e-17+0.j]\n",
      " [-6.17943557e-17+0.j]\n",
      " [ 6.85840856e-19+0.j]\n",
      " [-2.61360363e-01+0.j]\n",
      " [-4.43835364e-17+0.j]\n",
      " [ 7.95356989e-17+0.j]\n",
      " [-1.82356827e-18+0.j]\n",
      " [-2.08016953e-17+0.j]\n",
      " [ 2.05820986e-18+0.j]\n",
      " [ 1.23958429e-18+0.j]\n",
      " [ 0.00000000e+00+0.j]\n",
      " [ 0.00000000e+00+0.j]\n",
      " [ 0.00000000e+00+0.j]\n",
      " [ 0.00000000e+00+0.j]\n",
      " [ 0.00000000e+00+0.j]\n",
      " [ 0.00000000e+00+0.j]\n",
      " [ 0.00000000e+00+0.j]\n",
      " [ 0.00000000e+00+0.j]\n",
      " [ 0.00000000e+00+0.j]\n",
      " [ 0.00000000e+00+0.j]\n",
      " [ 0.00000000e+00+0.j]\n",
      " [ 0.00000000e+00+0.j]\n",
      " [ 0.00000000e+00+0.j]\n",
      " [ 0.00000000e+00+0.j]\n",
      " [ 0.00000000e+00+0.j]\n",
      " [ 0.00000000e+00+0.j]\n",
      " [ 0.00000000e+00+0.j]\n",
      " [ 0.00000000e+00+0.j]\n",
      " [ 0.00000000e+00+0.j]\n",
      " [ 0.00000000e+00+0.j]\n",
      " [ 0.00000000e+00+0.j]\n",
      " [ 0.00000000e+00+0.j]\n",
      " [ 0.00000000e+00+0.j]\n",
      " [ 0.00000000e+00+0.j]\n",
      " [ 0.00000000e+00+0.j]\n",
      " [ 0.00000000e+00+0.j]\n",
      " [ 0.00000000e+00+0.j]\n",
      " [ 0.00000000e+00+0.j]\n",
      " [ 0.00000000e+00+0.j]\n",
      " [ 0.00000000e+00+0.j]\n",
      " [ 0.00000000e+00+0.j]\n",
      " [ 0.00000000e+00+0.j]\n",
      " [ 0.00000000e+00+0.j]\n",
      " [ 0.00000000e+00+0.j]\n",
      " [ 0.00000000e+00+0.j]\n",
      " [ 0.00000000e+00+0.j]\n",
      " [ 0.00000000e+00+0.j]\n",
      " [ 0.00000000e+00+0.j]\n",
      " [ 0.00000000e+00+0.j]\n",
      " [ 0.00000000e+00+0.j]\n",
      " [ 0.00000000e+00+0.j]\n",
      " [ 0.00000000e+00+0.j]\n",
      " [ 0.00000000e+00+0.j]\n",
      " [ 0.00000000e+00+0.j]\n",
      " [ 0.00000000e+00+0.j]\n",
      " [ 0.00000000e+00+0.j]\n",
      " [ 0.00000000e+00+0.j]\n",
      " [ 0.00000000e+00+0.j]\n",
      " [ 0.00000000e+00+0.j]\n",
      " [ 1.27737098e-17+0.j]\n",
      " [ 3.05814229e-01+0.j]\n",
      " [-2.61360363e-01+0.j]\n",
      " [ 1.51582349e-17+0.j]\n",
      " [-2.61360363e-01+0.j]\n",
      " [-6.12011285e-17+0.j]\n",
      " [ 7.86258227e-17+0.j]\n",
      " [-1.82356827e-18+0.j]\n",
      " [ 1.40922599e-01+0.j]\n",
      " [ 2.20167414e-17+0.j]\n",
      " [-2.54699104e-17+0.j]\n",
      " [-1.23958429e-18+0.j]\n",
      " [ 2.03969119e-17+0.j]\n",
      " [ 1.23958429e-18+0.j]\n",
      " [ 3.19080927e-18+0.j]\n",
      " [ 0.00000000e+00+0.j]\n",
      " [ 0.00000000e+00+0.j]\n",
      " [ 0.00000000e+00+0.j]\n",
      " [ 0.00000000e+00+0.j]\n",
      " [ 0.00000000e+00+0.j]\n",
      " [ 0.00000000e+00+0.j]\n",
      " [ 0.00000000e+00+0.j]\n",
      " [ 0.00000000e+00+0.j]\n",
      " [ 0.00000000e+00+0.j]\n",
      " [ 0.00000000e+00+0.j]\n",
      " [ 0.00000000e+00+0.j]\n",
      " [ 0.00000000e+00+0.j]\n",
      " [ 0.00000000e+00+0.j]\n",
      " [ 0.00000000e+00+0.j]\n",
      " [ 0.00000000e+00+0.j]\n",
      " [ 0.00000000e+00+0.j]\n",
      " [ 0.00000000e+00+0.j]\n",
      " [ 0.00000000e+00+0.j]\n",
      " [ 0.00000000e+00+0.j]\n",
      " [ 0.00000000e+00+0.j]\n",
      " [ 0.00000000e+00+0.j]\n",
      " [ 0.00000000e+00+0.j]\n",
      " [ 0.00000000e+00+0.j]\n",
      " [ 0.00000000e+00+0.j]\n",
      " [ 0.00000000e+00+0.j]\n",
      " [ 0.00000000e+00+0.j]\n",
      " [ 0.00000000e+00+0.j]\n",
      " [ 0.00000000e+00+0.j]\n",
      " [ 0.00000000e+00+0.j]\n",
      " [ 0.00000000e+00+0.j]\n",
      " [ 0.00000000e+00+0.j]\n",
      " [ 0.00000000e+00+0.j]\n",
      " [ 0.00000000e+00+0.j]\n",
      " [ 0.00000000e+00+0.j]\n",
      " [ 0.00000000e+00+0.j]\n",
      " [ 0.00000000e+00+0.j]\n",
      " [ 0.00000000e+00+0.j]\n",
      " [ 0.00000000e+00+0.j]\n",
      " [ 0.00000000e+00+0.j]\n",
      " [ 0.00000000e+00+0.j]\n",
      " [ 0.00000000e+00+0.j]\n",
      " [ 0.00000000e+00+0.j]\n",
      " [ 0.00000000e+00+0.j]\n",
      " [ 0.00000000e+00+0.j]\n",
      " [ 0.00000000e+00+0.j]\n",
      " [ 0.00000000e+00+0.j]\n",
      " [ 0.00000000e+00+0.j]\n",
      " [ 0.00000000e+00+0.j]\n",
      " [ 0.00000000e+00+0.j]\n",
      " [ 0.00000000e+00+0.j]\n",
      " [ 0.00000000e+00+0.j]\n",
      " [ 0.00000000e+00+0.j]\n",
      " [ 0.00000000e+00+0.j]\n",
      " [ 0.00000000e+00+0.j]\n",
      " [ 0.00000000e+00+0.j]\n",
      " [ 0.00000000e+00+0.j]\n",
      " [ 0.00000000e+00+0.j]\n",
      " [ 0.00000000e+00+0.j]\n",
      " [ 0.00000000e+00+0.j]\n",
      " [ 0.00000000e+00+0.j]\n",
      " [ 0.00000000e+00+0.j]\n",
      " [ 0.00000000e+00+0.j]\n",
      " [ 0.00000000e+00+0.j]\n",
      " [ 0.00000000e+00+0.j]\n",
      " [ 0.00000000e+00+0.j]\n",
      " [ 0.00000000e+00+0.j]\n",
      " [ 0.00000000e+00+0.j]\n",
      " [ 0.00000000e+00+0.j]\n",
      " [ 0.00000000e+00+0.j]\n",
      " [ 0.00000000e+00+0.j]\n",
      " [ 0.00000000e+00+0.j]\n",
      " [ 0.00000000e+00+0.j]\n",
      " [ 0.00000000e+00+0.j]\n",
      " [ 0.00000000e+00+0.j]\n",
      " [ 0.00000000e+00+0.j]\n",
      " [ 0.00000000e+00+0.j]\n",
      " [ 0.00000000e+00+0.j]\n",
      " [ 0.00000000e+00+0.j]\n",
      " [ 0.00000000e+00+0.j]\n",
      " [ 0.00000000e+00+0.j]\n",
      " [ 0.00000000e+00+0.j]\n",
      " [ 0.00000000e+00+0.j]\n",
      " [ 0.00000000e+00+0.j]\n",
      " [ 0.00000000e+00+0.j]\n",
      " [ 0.00000000e+00+0.j]\n",
      " [ 0.00000000e+00+0.j]\n",
      " [ 0.00000000e+00+0.j]\n",
      " [ 0.00000000e+00+0.j]\n",
      " [ 0.00000000e+00+0.j]\n",
      " [ 0.00000000e+00+0.j]\n",
      " [ 0.00000000e+00+0.j]\n",
      " [ 0.00000000e+00+0.j]\n",
      " [ 0.00000000e+00+0.j]\n",
      " [ 0.00000000e+00+0.j]\n",
      " [ 0.00000000e+00+0.j]\n",
      " [ 0.00000000e+00+0.j]\n",
      " [ 0.00000000e+00+0.j]\n",
      " [ 0.00000000e+00+0.j]\n",
      " [ 0.00000000e+00+0.j]\n",
      " [ 0.00000000e+00+0.j]\n",
      " [ 0.00000000e+00+0.j]\n",
      " [ 0.00000000e+00+0.j]\n",
      " [ 0.00000000e+00+0.j]\n",
      " [ 0.00000000e+00+0.j]\n",
      " [ 0.00000000e+00+0.j]\n",
      " [ 0.00000000e+00+0.j]\n",
      " [ 0.00000000e+00+0.j]\n",
      " [ 0.00000000e+00+0.j]\n",
      " [ 0.00000000e+00+0.j]\n",
      " [ 0.00000000e+00+0.j]\n",
      " [ 0.00000000e+00+0.j]\n",
      " [ 0.00000000e+00+0.j]\n",
      " [ 0.00000000e+00+0.j]]\n",
      "(256, 1)\n"
     ]
    }
   ],
   "source": [
    "eig = np.linalg.eigh(x.hamiltonian)\n",
    "index = np.argmin(eig[0])\n",
    "print('Ground state energy: ', eig[0][index])\n",
    "gstate = np.transpose(NKron(eig[1][:,index]))\n",
    "gstate = gstate / np.linalg.norm(gstate)\n",
    "print('Ground state: ', gstate)\n",
    "print(gstate.shape)"
   ]
  },
  {
   "cell_type": "code",
   "execution_count": 57,
   "metadata": {},
   "outputs": [
    {
     "data": {
      "text/plain": [
       "array([[-3.41855072+0.j]])"
      ]
     },
     "execution_count": 57,
     "metadata": {},
     "output_type": "execute_result"
    }
   ],
   "source": [
    "np.dot(np.transpose(np.conj(gstate)), np.dot(x.hamiltonian, gstate))"
   ]
  },
  {
   "cell_type": "markdown",
   "metadata": {},
   "source": [
    "## Variational Hamiltonian Ansatz\n",
    "\n",
    "The VHA is an ansatz deeply connected to time-evolution of the system. It splits the Hamiltonian into sub-operators and then does time-evolution for those operators: \n",
    "$$\\large U(\\theta) = \\prod_{k=1}^n \\prod_{\\alpha=1}^N \\exp \\Big( i\\theta_{\\alpha, k} H_{\\alpha} \\Big) $$\n",
    "where $H_\\alpha$ are the sub-Hamiltonians and $\\theta$ are the parameters being optimized. \n",
    "\n",
    "**Question:** Is product from $k=1$ to $n$ meant to indicate multiple iterations of the algorithm? So are there only $N$ parameters, or are there $n \\cdot N$? I think it's the former, because $\\Big( \\exp (i \\theta_{1 k} H_1) \\cdots \\exp (i \\theta_{N k} H_N) \\Big)$ commutes with itself, so we can combine terms.  \n",
    "\n",
    "**Question:** Why is this a good ansatz? It seems it only has access to states that are evolutions of the state we start with. Why is that a guarantee that it'll approximate the ground state? \n",
    "\n",
    "In [1811.04476](https://arxiv.org/pdf/1811.04476.pdf) they use $N=5$, splitting it as I did above: even and odd horizontal hopping terms, even and odd vertical horizontal terms, and the on-site interaction terms. "
   ]
  },
  {
   "cell_type": "code",
   "execution_count": 58,
   "metadata": {},
   "outputs": [
    {
     "data": {
      "text/plain": [
       "array([[1.54308063+0.j, 1.17520119+0.j],\n",
       "       [1.17520119+0.j, 1.54308063+0.j]])"
      ]
     },
     "execution_count": 58,
     "metadata": {},
     "output_type": "execute_result"
    }
   ],
   "source": [
    "def time_evo(ham, t): \n",
    "    # returns e^{i*t*ham}\n",
    "    # scipy.linalg.expm() uses the Pade approximant; try to understand more of how it works because it seems \n",
    "    # pretty useful: https://en.wikipedia.org/wiki/Pad%C3%A9_approximant\n",
    "    return scipy.linalg.expm(-1j * t * ham)\n",
    "\n",
    "def prod_time_evo(ham_sets, ts):\n",
    "    result = 1 \n",
    "    for pair in zip(ham_sets, ts): \n",
    "        result *= time_evo(pair[0], pair[1])\n",
    "    return result\n",
    "\n",
    "def test_linalg_expm():\n",
    "    return scipy.linalg.expm(X)\n",
    "\n",
    "test_linalg_expm()"
   ]
  },
  {
   "cell_type": "code",
   "execution_count": 41,
   "metadata": {},
   "outputs": [],
   "source": [
    "scipy.linalg?"
   ]
  },
  {
   "cell_type": "code",
   "execution_count": 67,
   "metadata": {},
   "outputs": [
    {
     "data": {
      "text/plain": [
       "[1, 1, 1, 1]"
      ]
     },
     "execution_count": 67,
     "metadata": {},
     "output_type": "execute_result"
    }
   ],
   "source": [
    "y = [1, 1]\n",
    "2 * y"
   ]
  },
  {
   "cell_type": "code",
   "execution_count": 77,
   "metadata": {},
   "outputs": [],
   "source": [
    "class VHA: \n",
    "    def __init__(self, hubbard, start_state): \n",
    "        self.ham_sets = hubbard.ham_sets \n",
    "        self.hamiltonian = hubbard.hamiltonian\n",
    "        self.start_state = start_state\n",
    "        self.start_params = np.array([5e30 for i in range(5)])\n",
    "            \n",
    "    def optimize(self):  \n",
    "        self.energies = []\n",
    "        \n",
    "        def energy(t_params): \n",
    "            unitary = prod_time_evo(2 * self.ham_sets, np.real(t_params))\n",
    "            state = np.dot(unitary, self.start_state)\n",
    "            curr_energy = np.dot(np.transpose(np.conj(state)), np.dot(self.hamiltonian, state))[0][0]\n",
    "            #print(curr_energy)\n",
    "            self.energies.append(curr_energy)\n",
    "            return curr_energy\n",
    "                    \n",
    "        self.sol = scipy.optimize.minimize(energy, 2 * self.start_params, method='Powell', \n",
    "                                           bounds=[(0, 3) for i in range(2 * len(self.start_params))])"
   ]
  },
  {
   "cell_type": "code",
   "execution_count": 69,
   "metadata": {},
   "outputs": [],
   "source": [
    "vha = VHA(x, gstate)"
   ]
  },
  {
   "cell_type": "code",
   "execution_count": 70,
   "metadata": {},
   "outputs": [
    {
     "ename": "KeyboardInterrupt",
     "evalue": "",
     "output_type": "error",
     "traceback": [
      "\u001b[0;31m---------------------------------------------------------------------------\u001b[0m",
      "\u001b[0;31mKeyboardInterrupt\u001b[0m                         Traceback (most recent call last)",
      "\u001b[0;32m<ipython-input-70-9345418ad63a>\u001b[0m in \u001b[0;36m<module>\u001b[0;34m\u001b[0m\n\u001b[0;32m----> 1\u001b[0;31m \u001b[0mvha\u001b[0m\u001b[0;34m.\u001b[0m\u001b[0moptimize\u001b[0m\u001b[0;34m(\u001b[0m\u001b[0;34m)\u001b[0m\u001b[0;34m\u001b[0m\u001b[0;34m\u001b[0m\u001b[0m\n\u001b[0m",
      "\u001b[0;32m<ipython-input-68-4cd24ab264c4>\u001b[0m in \u001b[0;36moptimize\u001b[0;34m(self)\u001b[0m\n\u001b[1;32m     18\u001b[0m \u001b[0;34m\u001b[0m\u001b[0m\n\u001b[1;32m     19\u001b[0m         self.sol = scipy.optimize.minimize(energy, 2 * self.start_params, method='Powell', \n\u001b[0;32m---> 20\u001b[0;31m                                            bounds=[(0, 3) for i in range(2 * len(self.start_params))])\n\u001b[0m",
      "\u001b[0;32m~/anaconda3/lib/python3.6/site-packages/scipy/optimize/_minimize.py\u001b[0m in \u001b[0;36mminimize\u001b[0;34m(fun, x0, args, method, jac, hess, hessp, bounds, constraints, tol, callback, options)\u001b[0m\n\u001b[1;32m    598\u001b[0m         \u001b[0;32mreturn\u001b[0m \u001b[0m_minimize_neldermead\u001b[0m\u001b[0;34m(\u001b[0m\u001b[0mfun\u001b[0m\u001b[0;34m,\u001b[0m \u001b[0mx0\u001b[0m\u001b[0;34m,\u001b[0m \u001b[0margs\u001b[0m\u001b[0;34m,\u001b[0m \u001b[0mcallback\u001b[0m\u001b[0;34m,\u001b[0m \u001b[0;34m**\u001b[0m\u001b[0moptions\u001b[0m\u001b[0;34m)\u001b[0m\u001b[0;34m\u001b[0m\u001b[0;34m\u001b[0m\u001b[0m\n\u001b[1;32m    599\u001b[0m     \u001b[0;32melif\u001b[0m \u001b[0mmeth\u001b[0m \u001b[0;34m==\u001b[0m \u001b[0;34m'powell'\u001b[0m\u001b[0;34m:\u001b[0m\u001b[0;34m\u001b[0m\u001b[0;34m\u001b[0m\u001b[0m\n\u001b[0;32m--> 600\u001b[0;31m         \u001b[0;32mreturn\u001b[0m \u001b[0m_minimize_powell\u001b[0m\u001b[0;34m(\u001b[0m\u001b[0mfun\u001b[0m\u001b[0;34m,\u001b[0m \u001b[0mx0\u001b[0m\u001b[0;34m,\u001b[0m \u001b[0margs\u001b[0m\u001b[0;34m,\u001b[0m \u001b[0mcallback\u001b[0m\u001b[0;34m,\u001b[0m \u001b[0;34m**\u001b[0m\u001b[0moptions\u001b[0m\u001b[0;34m)\u001b[0m\u001b[0;34m\u001b[0m\u001b[0;34m\u001b[0m\u001b[0m\n\u001b[0m\u001b[1;32m    601\u001b[0m     \u001b[0;32melif\u001b[0m \u001b[0mmeth\u001b[0m \u001b[0;34m==\u001b[0m \u001b[0;34m'cg'\u001b[0m\u001b[0;34m:\u001b[0m\u001b[0;34m\u001b[0m\u001b[0;34m\u001b[0m\u001b[0m\n\u001b[1;32m    602\u001b[0m         \u001b[0;32mreturn\u001b[0m \u001b[0m_minimize_cg\u001b[0m\u001b[0;34m(\u001b[0m\u001b[0mfun\u001b[0m\u001b[0;34m,\u001b[0m \u001b[0mx0\u001b[0m\u001b[0;34m,\u001b[0m \u001b[0margs\u001b[0m\u001b[0;34m,\u001b[0m \u001b[0mjac\u001b[0m\u001b[0;34m,\u001b[0m \u001b[0mcallback\u001b[0m\u001b[0;34m,\u001b[0m \u001b[0;34m**\u001b[0m\u001b[0moptions\u001b[0m\u001b[0;34m)\u001b[0m\u001b[0;34m\u001b[0m\u001b[0;34m\u001b[0m\u001b[0m\n",
      "\u001b[0;32m~/anaconda3/lib/python3.6/site-packages/scipy/optimize/optimize.py\u001b[0m in \u001b[0;36m_minimize_powell\u001b[0;34m(func, x0, args, callback, xtol, ftol, maxiter, maxfev, disp, direc, return_all, **unknown_options)\u001b[0m\n\u001b[1;32m   2641\u001b[0m             \u001b[0mfx2\u001b[0m \u001b[0;34m=\u001b[0m \u001b[0mfval\u001b[0m\u001b[0;34m\u001b[0m\u001b[0;34m\u001b[0m\u001b[0m\n\u001b[1;32m   2642\u001b[0m             fval, x, direc1 = _linesearch_powell(func, x, direc1,\n\u001b[0;32m-> 2643\u001b[0;31m                                                  tol=xtol * 100)\n\u001b[0m\u001b[1;32m   2644\u001b[0m             \u001b[0;32mif\u001b[0m \u001b[0;34m(\u001b[0m\u001b[0mfx2\u001b[0m \u001b[0;34m-\u001b[0m \u001b[0mfval\u001b[0m\u001b[0;34m)\u001b[0m \u001b[0;34m>\u001b[0m \u001b[0mdelta\u001b[0m\u001b[0;34m:\u001b[0m\u001b[0;34m\u001b[0m\u001b[0;34m\u001b[0m\u001b[0m\n\u001b[1;32m   2645\u001b[0m                 \u001b[0mdelta\u001b[0m \u001b[0;34m=\u001b[0m \u001b[0mfx2\u001b[0m \u001b[0;34m-\u001b[0m \u001b[0mfval\u001b[0m\u001b[0;34m\u001b[0m\u001b[0;34m\u001b[0m\u001b[0m\n",
      "\u001b[0;32m~/anaconda3/lib/python3.6/site-packages/scipy/optimize/optimize.py\u001b[0m in \u001b[0;36m_linesearch_powell\u001b[0;34m(func, p, xi, tol)\u001b[0m\n\u001b[1;32m   2426\u001b[0m     \u001b[0;32mdef\u001b[0m \u001b[0mmyfunc\u001b[0m\u001b[0;34m(\u001b[0m\u001b[0malpha\u001b[0m\u001b[0;34m)\u001b[0m\u001b[0;34m:\u001b[0m\u001b[0;34m\u001b[0m\u001b[0;34m\u001b[0m\u001b[0m\n\u001b[1;32m   2427\u001b[0m         \u001b[0;32mreturn\u001b[0m \u001b[0mfunc\u001b[0m\u001b[0;34m(\u001b[0m\u001b[0mp\u001b[0m \u001b[0;34m+\u001b[0m \u001b[0malpha\u001b[0m\u001b[0;34m*\u001b[0m\u001b[0mxi\u001b[0m\u001b[0;34m)\u001b[0m\u001b[0;34m\u001b[0m\u001b[0;34m\u001b[0m\u001b[0m\n\u001b[0;32m-> 2428\u001b[0;31m     \u001b[0malpha_min\u001b[0m\u001b[0;34m,\u001b[0m \u001b[0mfret\u001b[0m\u001b[0;34m,\u001b[0m \u001b[0miter\u001b[0m\u001b[0;34m,\u001b[0m \u001b[0mnum\u001b[0m \u001b[0;34m=\u001b[0m \u001b[0mbrent\u001b[0m\u001b[0;34m(\u001b[0m\u001b[0mmyfunc\u001b[0m\u001b[0;34m,\u001b[0m \u001b[0mfull_output\u001b[0m\u001b[0;34m=\u001b[0m\u001b[0;36m1\u001b[0m\u001b[0;34m,\u001b[0m \u001b[0mtol\u001b[0m\u001b[0;34m=\u001b[0m\u001b[0mtol\u001b[0m\u001b[0;34m)\u001b[0m\u001b[0;34m\u001b[0m\u001b[0;34m\u001b[0m\u001b[0m\n\u001b[0m\u001b[1;32m   2429\u001b[0m     \u001b[0mxi\u001b[0m \u001b[0;34m=\u001b[0m \u001b[0malpha_min\u001b[0m\u001b[0;34m*\u001b[0m\u001b[0mxi\u001b[0m\u001b[0;34m\u001b[0m\u001b[0;34m\u001b[0m\u001b[0m\n\u001b[1;32m   2430\u001b[0m     \u001b[0;32mreturn\u001b[0m \u001b[0msqueeze\u001b[0m\u001b[0;34m(\u001b[0m\u001b[0mfret\u001b[0m\u001b[0;34m)\u001b[0m\u001b[0;34m,\u001b[0m \u001b[0mp\u001b[0m \u001b[0;34m+\u001b[0m \u001b[0mxi\u001b[0m\u001b[0;34m,\u001b[0m \u001b[0mxi\u001b[0m\u001b[0;34m\u001b[0m\u001b[0;34m\u001b[0m\u001b[0m\n",
      "\u001b[0;32m~/anaconda3/lib/python3.6/site-packages/scipy/optimize/optimize.py\u001b[0m in \u001b[0;36mbrent\u001b[0;34m(func, args, brack, tol, full_output, maxiter)\u001b[0m\n\u001b[1;32m   2132\u001b[0m     options = {'xtol': tol,\n\u001b[1;32m   2133\u001b[0m                'maxiter': maxiter}\n\u001b[0;32m-> 2134\u001b[0;31m     \u001b[0mres\u001b[0m \u001b[0;34m=\u001b[0m \u001b[0m_minimize_scalar_brent\u001b[0m\u001b[0;34m(\u001b[0m\u001b[0mfunc\u001b[0m\u001b[0;34m,\u001b[0m \u001b[0mbrack\u001b[0m\u001b[0;34m,\u001b[0m \u001b[0margs\u001b[0m\u001b[0;34m,\u001b[0m \u001b[0;34m**\u001b[0m\u001b[0moptions\u001b[0m\u001b[0;34m)\u001b[0m\u001b[0;34m\u001b[0m\u001b[0;34m\u001b[0m\u001b[0m\n\u001b[0m\u001b[1;32m   2135\u001b[0m     \u001b[0;32mif\u001b[0m \u001b[0mfull_output\u001b[0m\u001b[0;34m:\u001b[0m\u001b[0;34m\u001b[0m\u001b[0;34m\u001b[0m\u001b[0m\n\u001b[1;32m   2136\u001b[0m         \u001b[0;32mreturn\u001b[0m \u001b[0mres\u001b[0m\u001b[0;34m[\u001b[0m\u001b[0;34m'x'\u001b[0m\u001b[0;34m]\u001b[0m\u001b[0;34m,\u001b[0m \u001b[0mres\u001b[0m\u001b[0;34m[\u001b[0m\u001b[0;34m'fun'\u001b[0m\u001b[0;34m]\u001b[0m\u001b[0;34m,\u001b[0m \u001b[0mres\u001b[0m\u001b[0;34m[\u001b[0m\u001b[0;34m'nit'\u001b[0m\u001b[0;34m]\u001b[0m\u001b[0;34m,\u001b[0m \u001b[0mres\u001b[0m\u001b[0;34m[\u001b[0m\u001b[0;34m'nfev'\u001b[0m\u001b[0;34m]\u001b[0m\u001b[0;34m\u001b[0m\u001b[0;34m\u001b[0m\u001b[0m\n",
      "\u001b[0;32m~/anaconda3/lib/python3.6/site-packages/scipy/optimize/optimize.py\u001b[0m in \u001b[0;36m_minimize_scalar_brent\u001b[0;34m(func, brack, args, xtol, maxiter, **unknown_options)\u001b[0m\n\u001b[1;32m   2164\u001b[0m                   full_output=True, maxiter=maxiter)\n\u001b[1;32m   2165\u001b[0m     \u001b[0mbrent\u001b[0m\u001b[0;34m.\u001b[0m\u001b[0mset_bracket\u001b[0m\u001b[0;34m(\u001b[0m\u001b[0mbrack\u001b[0m\u001b[0;34m)\u001b[0m\u001b[0;34m\u001b[0m\u001b[0;34m\u001b[0m\u001b[0m\n\u001b[0;32m-> 2166\u001b[0;31m     \u001b[0mbrent\u001b[0m\u001b[0;34m.\u001b[0m\u001b[0moptimize\u001b[0m\u001b[0;34m(\u001b[0m\u001b[0;34m)\u001b[0m\u001b[0;34m\u001b[0m\u001b[0;34m\u001b[0m\u001b[0m\n\u001b[0m\u001b[1;32m   2167\u001b[0m     \u001b[0mx\u001b[0m\u001b[0;34m,\u001b[0m \u001b[0mfval\u001b[0m\u001b[0;34m,\u001b[0m \u001b[0mnit\u001b[0m\u001b[0;34m,\u001b[0m \u001b[0mnfev\u001b[0m \u001b[0;34m=\u001b[0m \u001b[0mbrent\u001b[0m\u001b[0;34m.\u001b[0m\u001b[0mget_result\u001b[0m\u001b[0;34m(\u001b[0m\u001b[0mfull_output\u001b[0m\u001b[0;34m=\u001b[0m\u001b[0;32mTrue\u001b[0m\u001b[0;34m)\u001b[0m\u001b[0;34m\u001b[0m\u001b[0;34m\u001b[0m\u001b[0m\n\u001b[1;32m   2168\u001b[0m \u001b[0;34m\u001b[0m\u001b[0m\n",
      "\u001b[0;32m~/anaconda3/lib/python3.6/site-packages/scipy/optimize/optimize.py\u001b[0m in \u001b[0;36moptimize\u001b[0;34m(self)\u001b[0m\n\u001b[1;32m   2015\u001b[0m             \u001b[0;32melse\u001b[0m\u001b[0;34m:\u001b[0m\u001b[0;34m\u001b[0m\u001b[0;34m\u001b[0m\u001b[0m\n\u001b[1;32m   2016\u001b[0m                 \u001b[0mu\u001b[0m \u001b[0;34m=\u001b[0m \u001b[0mx\u001b[0m \u001b[0;34m+\u001b[0m \u001b[0mrat\u001b[0m\u001b[0;34m\u001b[0m\u001b[0;34m\u001b[0m\u001b[0m\n\u001b[0;32m-> 2017\u001b[0;31m             \u001b[0mfu\u001b[0m \u001b[0;34m=\u001b[0m \u001b[0mfunc\u001b[0m\u001b[0;34m(\u001b[0m\u001b[0;34m*\u001b[0m\u001b[0;34m(\u001b[0m\u001b[0;34m(\u001b[0m\u001b[0mu\u001b[0m\u001b[0;34m,\u001b[0m\u001b[0;34m)\u001b[0m \u001b[0;34m+\u001b[0m \u001b[0mself\u001b[0m\u001b[0;34m.\u001b[0m\u001b[0margs\u001b[0m\u001b[0;34m)\u001b[0m\u001b[0;34m)\u001b[0m      \u001b[0;31m# calculate new output value\u001b[0m\u001b[0;34m\u001b[0m\u001b[0;34m\u001b[0m\u001b[0m\n\u001b[0m\u001b[1;32m   2018\u001b[0m             \u001b[0mfuncalls\u001b[0m \u001b[0;34m+=\u001b[0m \u001b[0;36m1\u001b[0m\u001b[0;34m\u001b[0m\u001b[0;34m\u001b[0m\u001b[0m\n\u001b[1;32m   2019\u001b[0m \u001b[0;34m\u001b[0m\u001b[0m\n",
      "\u001b[0;32m~/anaconda3/lib/python3.6/site-packages/scipy/optimize/optimize.py\u001b[0m in \u001b[0;36mmyfunc\u001b[0;34m(alpha)\u001b[0m\n\u001b[1;32m   2425\u001b[0m     \"\"\"\n\u001b[1;32m   2426\u001b[0m     \u001b[0;32mdef\u001b[0m \u001b[0mmyfunc\u001b[0m\u001b[0;34m(\u001b[0m\u001b[0malpha\u001b[0m\u001b[0;34m)\u001b[0m\u001b[0;34m:\u001b[0m\u001b[0;34m\u001b[0m\u001b[0;34m\u001b[0m\u001b[0m\n\u001b[0;32m-> 2427\u001b[0;31m         \u001b[0;32mreturn\u001b[0m \u001b[0mfunc\u001b[0m\u001b[0;34m(\u001b[0m\u001b[0mp\u001b[0m \u001b[0;34m+\u001b[0m \u001b[0malpha\u001b[0m\u001b[0;34m*\u001b[0m\u001b[0mxi\u001b[0m\u001b[0;34m)\u001b[0m\u001b[0;34m\u001b[0m\u001b[0;34m\u001b[0m\u001b[0m\n\u001b[0m\u001b[1;32m   2428\u001b[0m     \u001b[0malpha_min\u001b[0m\u001b[0;34m,\u001b[0m \u001b[0mfret\u001b[0m\u001b[0;34m,\u001b[0m \u001b[0miter\u001b[0m\u001b[0;34m,\u001b[0m \u001b[0mnum\u001b[0m \u001b[0;34m=\u001b[0m \u001b[0mbrent\u001b[0m\u001b[0;34m(\u001b[0m\u001b[0mmyfunc\u001b[0m\u001b[0;34m,\u001b[0m \u001b[0mfull_output\u001b[0m\u001b[0;34m=\u001b[0m\u001b[0;36m1\u001b[0m\u001b[0;34m,\u001b[0m \u001b[0mtol\u001b[0m\u001b[0;34m=\u001b[0m\u001b[0mtol\u001b[0m\u001b[0;34m)\u001b[0m\u001b[0;34m\u001b[0m\u001b[0;34m\u001b[0m\u001b[0m\n\u001b[1;32m   2429\u001b[0m     \u001b[0mxi\u001b[0m \u001b[0;34m=\u001b[0m \u001b[0malpha_min\u001b[0m\u001b[0;34m*\u001b[0m\u001b[0mxi\u001b[0m\u001b[0;34m\u001b[0m\u001b[0;34m\u001b[0m\u001b[0m\n",
      "\u001b[0;32m~/anaconda3/lib/python3.6/site-packages/scipy/optimize/optimize.py\u001b[0m in \u001b[0;36mfunction_wrapper\u001b[0;34m(*wrapper_args)\u001b[0m\n\u001b[1;32m    325\u001b[0m     \u001b[0;32mdef\u001b[0m \u001b[0mfunction_wrapper\u001b[0m\u001b[0;34m(\u001b[0m\u001b[0;34m*\u001b[0m\u001b[0mwrapper_args\u001b[0m\u001b[0;34m)\u001b[0m\u001b[0;34m:\u001b[0m\u001b[0;34m\u001b[0m\u001b[0;34m\u001b[0m\u001b[0m\n\u001b[1;32m    326\u001b[0m         \u001b[0mncalls\u001b[0m\u001b[0;34m[\u001b[0m\u001b[0;36m0\u001b[0m\u001b[0;34m]\u001b[0m \u001b[0;34m+=\u001b[0m \u001b[0;36m1\u001b[0m\u001b[0;34m\u001b[0m\u001b[0;34m\u001b[0m\u001b[0m\n\u001b[0;32m--> 327\u001b[0;31m         \u001b[0;32mreturn\u001b[0m \u001b[0mfunction\u001b[0m\u001b[0;34m(\u001b[0m\u001b[0;34m*\u001b[0m\u001b[0;34m(\u001b[0m\u001b[0mwrapper_args\u001b[0m \u001b[0;34m+\u001b[0m \u001b[0margs\u001b[0m\u001b[0;34m)\u001b[0m\u001b[0;34m)\u001b[0m\u001b[0;34m\u001b[0m\u001b[0;34m\u001b[0m\u001b[0m\n\u001b[0m\u001b[1;32m    328\u001b[0m \u001b[0;34m\u001b[0m\u001b[0m\n\u001b[1;32m    329\u001b[0m     \u001b[0;32mreturn\u001b[0m \u001b[0mncalls\u001b[0m\u001b[0;34m,\u001b[0m \u001b[0mfunction_wrapper\u001b[0m\u001b[0;34m\u001b[0m\u001b[0;34m\u001b[0m\u001b[0m\n",
      "\u001b[0;32m<ipython-input-68-4cd24ab264c4>\u001b[0m in \u001b[0;36menergy\u001b[0;34m(t_params)\u001b[0m\n\u001b[1;32m     10\u001b[0m \u001b[0;34m\u001b[0m\u001b[0m\n\u001b[1;32m     11\u001b[0m         \u001b[0;32mdef\u001b[0m \u001b[0menergy\u001b[0m\u001b[0;34m(\u001b[0m\u001b[0mt_params\u001b[0m\u001b[0;34m)\u001b[0m\u001b[0;34m:\u001b[0m\u001b[0;34m\u001b[0m\u001b[0;34m\u001b[0m\u001b[0m\n\u001b[0;32m---> 12\u001b[0;31m             \u001b[0munitary\u001b[0m \u001b[0;34m=\u001b[0m \u001b[0mprod_time_evo\u001b[0m\u001b[0;34m(\u001b[0m\u001b[0;36m2\u001b[0m \u001b[0;34m*\u001b[0m \u001b[0mself\u001b[0m\u001b[0;34m.\u001b[0m\u001b[0mham_sets\u001b[0m\u001b[0;34m,\u001b[0m \u001b[0mnp\u001b[0m\u001b[0;34m.\u001b[0m\u001b[0mreal\u001b[0m\u001b[0;34m(\u001b[0m\u001b[0mt_params\u001b[0m\u001b[0;34m)\u001b[0m\u001b[0;34m)\u001b[0m\u001b[0;34m\u001b[0m\u001b[0;34m\u001b[0m\u001b[0m\n\u001b[0m\u001b[1;32m     13\u001b[0m             \u001b[0mstate\u001b[0m \u001b[0;34m=\u001b[0m \u001b[0mnp\u001b[0m\u001b[0;34m.\u001b[0m\u001b[0mdot\u001b[0m\u001b[0;34m(\u001b[0m\u001b[0munitary\u001b[0m\u001b[0;34m,\u001b[0m \u001b[0mself\u001b[0m\u001b[0;34m.\u001b[0m\u001b[0mstart_state\u001b[0m\u001b[0;34m)\u001b[0m\u001b[0;34m\u001b[0m\u001b[0;34m\u001b[0m\u001b[0m\n\u001b[1;32m     14\u001b[0m             \u001b[0mcurr_energy\u001b[0m \u001b[0;34m=\u001b[0m \u001b[0mnp\u001b[0m\u001b[0;34m.\u001b[0m\u001b[0mdot\u001b[0m\u001b[0;34m(\u001b[0m\u001b[0mnp\u001b[0m\u001b[0;34m.\u001b[0m\u001b[0mtranspose\u001b[0m\u001b[0;34m(\u001b[0m\u001b[0mnp\u001b[0m\u001b[0;34m.\u001b[0m\u001b[0mconj\u001b[0m\u001b[0;34m(\u001b[0m\u001b[0mstate\u001b[0m\u001b[0;34m)\u001b[0m\u001b[0;34m)\u001b[0m\u001b[0;34m,\u001b[0m \u001b[0mnp\u001b[0m\u001b[0;34m.\u001b[0m\u001b[0mdot\u001b[0m\u001b[0;34m(\u001b[0m\u001b[0mself\u001b[0m\u001b[0;34m.\u001b[0m\u001b[0mhamiltonian\u001b[0m\u001b[0;34m,\u001b[0m \u001b[0mstate\u001b[0m\u001b[0;34m)\u001b[0m\u001b[0;34m)\u001b[0m\u001b[0;34m[\u001b[0m\u001b[0;36m0\u001b[0m\u001b[0;34m]\u001b[0m\u001b[0;34m[\u001b[0m\u001b[0;36m0\u001b[0m\u001b[0;34m]\u001b[0m\u001b[0;34m\u001b[0m\u001b[0;34m\u001b[0m\u001b[0m\n",
      "\u001b[0;32m<ipython-input-58-6d23b4e9024f>\u001b[0m in \u001b[0;36mprod_time_evo\u001b[0;34m(ham_sets, ts)\u001b[0m\n\u001b[1;32m      8\u001b[0m     \u001b[0mresult\u001b[0m \u001b[0;34m=\u001b[0m \u001b[0;36m1\u001b[0m\u001b[0;34m\u001b[0m\u001b[0;34m\u001b[0m\u001b[0m\n\u001b[1;32m      9\u001b[0m     \u001b[0;32mfor\u001b[0m \u001b[0mpair\u001b[0m \u001b[0;32min\u001b[0m \u001b[0mzip\u001b[0m\u001b[0;34m(\u001b[0m\u001b[0mham_sets\u001b[0m\u001b[0;34m,\u001b[0m \u001b[0mts\u001b[0m\u001b[0;34m)\u001b[0m\u001b[0;34m:\u001b[0m\u001b[0;34m\u001b[0m\u001b[0;34m\u001b[0m\u001b[0m\n\u001b[0;32m---> 10\u001b[0;31m         \u001b[0mresult\u001b[0m \u001b[0;34m*=\u001b[0m \u001b[0mtime_evo\u001b[0m\u001b[0;34m(\u001b[0m\u001b[0mpair\u001b[0m\u001b[0;34m[\u001b[0m\u001b[0;36m0\u001b[0m\u001b[0;34m]\u001b[0m\u001b[0;34m,\u001b[0m \u001b[0mpair\u001b[0m\u001b[0;34m[\u001b[0m\u001b[0;36m1\u001b[0m\u001b[0;34m]\u001b[0m\u001b[0;34m)\u001b[0m\u001b[0;34m\u001b[0m\u001b[0;34m\u001b[0m\u001b[0m\n\u001b[0m\u001b[1;32m     11\u001b[0m     \u001b[0;32mreturn\u001b[0m \u001b[0mresult\u001b[0m\u001b[0;34m\u001b[0m\u001b[0;34m\u001b[0m\u001b[0m\n\u001b[1;32m     12\u001b[0m \u001b[0;34m\u001b[0m\u001b[0m\n",
      "\u001b[0;32m<ipython-input-58-6d23b4e9024f>\u001b[0m in \u001b[0;36mtime_evo\u001b[0;34m(ham, t)\u001b[0m\n\u001b[1;32m      3\u001b[0m     \u001b[0;31m# scipy.linalg.expm() uses the Pade approximant; try to understand more of how it works because it seems\u001b[0m\u001b[0;34m\u001b[0m\u001b[0;34m\u001b[0m\u001b[0;34m\u001b[0m\u001b[0m\n\u001b[1;32m      4\u001b[0m     \u001b[0;31m# pretty useful: https://en.wikipedia.org/wiki/Pad%C3%A9_approximant\u001b[0m\u001b[0;34m\u001b[0m\u001b[0;34m\u001b[0m\u001b[0;34m\u001b[0m\u001b[0m\n\u001b[0;32m----> 5\u001b[0;31m     \u001b[0;32mreturn\u001b[0m \u001b[0mscipy\u001b[0m\u001b[0;34m.\u001b[0m\u001b[0mlinalg\u001b[0m\u001b[0;34m.\u001b[0m\u001b[0mexpm\u001b[0m\u001b[0;34m(\u001b[0m\u001b[0;34m-\u001b[0m\u001b[0;36m1j\u001b[0m \u001b[0;34m*\u001b[0m \u001b[0mt\u001b[0m \u001b[0;34m*\u001b[0m \u001b[0mham\u001b[0m\u001b[0;34m)\u001b[0m\u001b[0;34m\u001b[0m\u001b[0;34m\u001b[0m\u001b[0m\n\u001b[0m\u001b[1;32m      6\u001b[0m \u001b[0;34m\u001b[0m\u001b[0m\n\u001b[1;32m      7\u001b[0m \u001b[0;32mdef\u001b[0m \u001b[0mprod_time_evo\u001b[0m\u001b[0;34m(\u001b[0m\u001b[0mham_sets\u001b[0m\u001b[0;34m,\u001b[0m \u001b[0mts\u001b[0m\u001b[0;34m)\u001b[0m\u001b[0;34m:\u001b[0m\u001b[0;34m\u001b[0m\u001b[0;34m\u001b[0m\u001b[0m\n",
      "\u001b[0;32m~/anaconda3/lib/python3.6/site-packages/scipy/linalg/matfuncs.py\u001b[0m in \u001b[0;36mexpm\u001b[0;34m(A)\u001b[0m\n\u001b[1;32m    254\u001b[0m     \u001b[0;31m# Input checking and conversion is provided by sparse.linalg.expm().\u001b[0m\u001b[0;34m\u001b[0m\u001b[0;34m\u001b[0m\u001b[0;34m\u001b[0m\u001b[0m\n\u001b[1;32m    255\u001b[0m     \u001b[0;32mimport\u001b[0m \u001b[0mscipy\u001b[0m\u001b[0;34m.\u001b[0m\u001b[0msparse\u001b[0m\u001b[0;34m.\u001b[0m\u001b[0mlinalg\u001b[0m\u001b[0;34m\u001b[0m\u001b[0;34m\u001b[0m\u001b[0m\n\u001b[0;32m--> 256\u001b[0;31m     \u001b[0;32mreturn\u001b[0m \u001b[0mscipy\u001b[0m\u001b[0;34m.\u001b[0m\u001b[0msparse\u001b[0m\u001b[0;34m.\u001b[0m\u001b[0mlinalg\u001b[0m\u001b[0;34m.\u001b[0m\u001b[0mexpm\u001b[0m\u001b[0;34m(\u001b[0m\u001b[0mA\u001b[0m\u001b[0;34m)\u001b[0m\u001b[0;34m\u001b[0m\u001b[0;34m\u001b[0m\u001b[0m\n\u001b[0m\u001b[1;32m    257\u001b[0m \u001b[0;34m\u001b[0m\u001b[0m\n\u001b[1;32m    258\u001b[0m \u001b[0;34m\u001b[0m\u001b[0m\n",
      "\u001b[0;32m~/anaconda3/lib/python3.6/site-packages/scipy/sparse/linalg/matfuncs.py\u001b[0m in \u001b[0;36mexpm\u001b[0;34m(A)\u001b[0m\n\u001b[1;32m    593\u001b[0m             [  0.        ,   0.        ,  20.08553692]])\n\u001b[1;32m    594\u001b[0m     \"\"\"\n\u001b[0;32m--> 595\u001b[0;31m     \u001b[0;32mreturn\u001b[0m \u001b[0m_expm\u001b[0m\u001b[0;34m(\u001b[0m\u001b[0mA\u001b[0m\u001b[0;34m,\u001b[0m \u001b[0muse_exact_onenorm\u001b[0m\u001b[0;34m=\u001b[0m\u001b[0;34m'auto'\u001b[0m\u001b[0;34m)\u001b[0m\u001b[0;34m\u001b[0m\u001b[0;34m\u001b[0m\u001b[0m\n\u001b[0m\u001b[1;32m    596\u001b[0m \u001b[0;34m\u001b[0m\u001b[0m\n\u001b[1;32m    597\u001b[0m \u001b[0;34m\u001b[0m\u001b[0m\n",
      "\u001b[0;32m~/anaconda3/lib/python3.6/site-packages/scipy/sparse/linalg/matfuncs.py\u001b[0m in \u001b[0;36m_expm\u001b[0;34m(A, use_exact_onenorm)\u001b[0m\n\u001b[1;32m    674\u001b[0m         \u001b[0;31m# X = r_13(A)^(2^s) by repeated squaring.\u001b[0m\u001b[0;34m\u001b[0m\u001b[0;34m\u001b[0m\u001b[0;34m\u001b[0m\u001b[0m\n\u001b[1;32m    675\u001b[0m         \u001b[0;32mfor\u001b[0m \u001b[0mi\u001b[0m \u001b[0;32min\u001b[0m \u001b[0mrange\u001b[0m\u001b[0;34m(\u001b[0m\u001b[0ms\u001b[0m\u001b[0;34m)\u001b[0m\u001b[0;34m:\u001b[0m\u001b[0;34m\u001b[0m\u001b[0;34m\u001b[0m\u001b[0m\n\u001b[0;32m--> 676\u001b[0;31m             \u001b[0mX\u001b[0m \u001b[0;34m=\u001b[0m \u001b[0mX\u001b[0m\u001b[0;34m.\u001b[0m\u001b[0mdot\u001b[0m\u001b[0;34m(\u001b[0m\u001b[0mX\u001b[0m\u001b[0;34m)\u001b[0m\u001b[0;34m\u001b[0m\u001b[0;34m\u001b[0m\u001b[0m\n\u001b[0m\u001b[1;32m    677\u001b[0m     \u001b[0;32mreturn\u001b[0m \u001b[0mX\u001b[0m\u001b[0;34m\u001b[0m\u001b[0;34m\u001b[0m\u001b[0m\n\u001b[1;32m    678\u001b[0m \u001b[0;34m\u001b[0m\u001b[0m\n",
      "\u001b[0;31mKeyboardInterrupt\u001b[0m: "
     ]
    }
   ],
   "source": [
    "vha.optimize()"
   ]
  },
  {
   "cell_type": "code",
   "execution_count": 62,
   "metadata": {
    "scrolled": true
   },
   "outputs": [
    {
     "name": "stdout",
     "output_type": "stream",
     "text": [
      "Minimum energy:  (-3.418550718873846-5.169878828456423e-26j)\n",
      "Number of iterations:  619\n",
      "Estimated ground state:  [[ 0.00000000e+00+0.00000000e+00j]\n",
      " [ 0.00000000e+00+0.00000000e+00j]\n",
      " [ 0.00000000e+00+0.00000000e+00j]\n",
      " [ 0.00000000e+00+0.00000000e+00j]\n",
      " [ 0.00000000e+00+0.00000000e+00j]\n",
      " [ 0.00000000e+00+0.00000000e+00j]\n",
      " [ 0.00000000e+00+0.00000000e+00j]\n",
      " [ 0.00000000e+00+0.00000000e+00j]\n",
      " [ 0.00000000e+00+0.00000000e+00j]\n",
      " [ 0.00000000e+00+0.00000000e+00j]\n",
      " [ 0.00000000e+00+0.00000000e+00j]\n",
      " [ 0.00000000e+00+0.00000000e+00j]\n",
      " [ 0.00000000e+00+0.00000000e+00j]\n",
      " [ 0.00000000e+00+0.00000000e+00j]\n",
      " [ 0.00000000e+00+0.00000000e+00j]\n",
      " [ 0.00000000e+00+0.00000000e+00j]\n",
      " [ 3.36818413e-18-4.53712633e-44j]\n",
      " [ 1.40922599e-01+1.78469690e-10j]\n",
      " [-2.61360363e-01+7.04133110e-27j]\n",
      " [-5.55111512e-17-7.03014137e-26j]\n",
      " [-2.61360363e-01+7.04133110e-27j]\n",
      " [ 0.00000000e+00+0.00000000e+00j]\n",
      " [ 2.22044605e-16-8.97318303e-42j]\n",
      " [ 0.00000000e+00+0.00000000e+00j]\n",
      " [ 3.05814229e-01-8.23896636e-27j]\n",
      " [ 3.72021310e-17+4.71141806e-26j]\n",
      " [-9.54899728e-17+3.61722797e-42j]\n",
      " [ 6.85840856e-19+8.68574704e-28j]\n",
      " [ 8.29321602e-17-1.32703523e-42j]\n",
      " [-6.85840856e-19-8.68574704e-28j]\n",
      " [ 1.82356827e-18-4.91289032e-44j]\n",
      " [ 0.00000000e+00+0.00000000e+00j]\n",
      " [-2.76138962e-17+3.71974128e-43j]\n",
      " [-2.61360363e-01+7.04133110e-27j]\n",
      " [ 1.40922599e-01+1.78469690e-10j]\n",
      " [ 2.63318488e-18+3.33476455e-27j]\n",
      " [ 3.05814229e-01-8.23896636e-27j]\n",
      " [ 6.87210459e-17-2.60320201e-42j]\n",
      " [-6.34747459e-17-8.03868100e-26j]\n",
      " [ 6.85840856e-19+8.68574704e-28j]\n",
      " [-2.61360363e-01+7.04133110e-27j]\n",
      " [-3.45768283e-17+1.39730577e-42j]\n",
      " [ 2.79352214e-17+3.53782171e-26j]\n",
      " [-2.05820986e-18-2.60659453e-27j]\n",
      " [-4.87435280e-17+7.79967367e-43j]\n",
      " [ 1.82356827e-18-4.91289032e-44j]\n",
      " [ 1.23958428e-18+1.56985625e-27j]\n",
      " [ 0.00000000e+00+0.00000000e+00j]\n",
      " [ 0.00000000e+00+0.00000000e+00j]\n",
      " [ 0.00000000e+00+0.00000000e+00j]\n",
      " [ 0.00000000e+00+0.00000000e+00j]\n",
      " [ 0.00000000e+00+0.00000000e+00j]\n",
      " [ 0.00000000e+00+0.00000000e+00j]\n",
      " [ 0.00000000e+00+0.00000000e+00j]\n",
      " [ 0.00000000e+00+0.00000000e+00j]\n",
      " [ 0.00000000e+00+0.00000000e+00j]\n",
      " [ 0.00000000e+00+0.00000000e+00j]\n",
      " [ 0.00000000e+00+0.00000000e+00j]\n",
      " [ 0.00000000e+00+0.00000000e+00j]\n",
      " [ 0.00000000e+00+0.00000000e+00j]\n",
      " [ 0.00000000e+00+0.00000000e+00j]\n",
      " [ 0.00000000e+00+0.00000000e+00j]\n",
      " [ 0.00000000e+00+0.00000000e+00j]\n",
      " [ 0.00000000e+00+0.00000000e+00j]\n",
      " [-2.76138962e-17+3.71974128e-43j]\n",
      " [-2.61360363e-01+7.04133110e-27j]\n",
      " [ 3.05814229e-01-8.23896636e-27j]\n",
      " [-2.22685067e-18+3.56328508e-44j]\n",
      " [ 1.40922599e-01+1.78469690e-10j]\n",
      " [ 3.62863448e-17+4.59543944e-26j]\n",
      " [-6.17943557e-17-7.82587006e-26j]\n",
      " [ 6.85840856e-19+8.68574704e-28j]\n",
      " [-2.61360363e-01+7.04133110e-27j]\n",
      " [-4.43835364e-17+1.79361077e-42j]\n",
      " [ 7.95356989e-17-3.01286875e-42j]\n",
      " [-1.82356827e-18+4.91289032e-44j]\n",
      " [-2.08016953e-17-2.63440508e-26j]\n",
      " [ 2.05820986e-18+2.60659453e-27j]\n",
      " [ 1.23958428e-18+1.56985625e-27j]\n",
      " [ 0.00000000e+00+0.00000000e+00j]\n",
      " [ 0.00000000e+00+0.00000000e+00j]\n",
      " [ 0.00000000e+00+0.00000000e+00j]\n",
      " [ 0.00000000e+00+0.00000000e+00j]\n",
      " [ 0.00000000e+00+0.00000000e+00j]\n",
      " [ 0.00000000e+00+0.00000000e+00j]\n",
      " [ 0.00000000e+00+0.00000000e+00j]\n",
      " [ 0.00000000e+00+0.00000000e+00j]\n",
      " [ 0.00000000e+00+0.00000000e+00j]\n",
      " [ 0.00000000e+00+0.00000000e+00j]\n",
      " [ 0.00000000e+00+0.00000000e+00j]\n",
      " [ 0.00000000e+00+0.00000000e+00j]\n",
      " [ 0.00000000e+00+0.00000000e+00j]\n",
      " [ 0.00000000e+00+0.00000000e+00j]\n",
      " [ 0.00000000e+00+0.00000000e+00j]\n",
      " [ 0.00000000e+00+0.00000000e+00j]\n",
      " [ 0.00000000e+00+0.00000000e+00j]\n",
      " [ 0.00000000e+00+0.00000000e+00j]\n",
      " [ 0.00000000e+00+0.00000000e+00j]\n",
      " [ 0.00000000e+00+0.00000000e+00j]\n",
      " [ 0.00000000e+00+0.00000000e+00j]\n",
      " [ 0.00000000e+00+0.00000000e+00j]\n",
      " [ 0.00000000e+00+0.00000000e+00j]\n",
      " [ 0.00000000e+00+0.00000000e+00j]\n",
      " [ 0.00000000e+00+0.00000000e+00j]\n",
      " [ 0.00000000e+00+0.00000000e+00j]\n",
      " [ 0.00000000e+00+0.00000000e+00j]\n",
      " [ 0.00000000e+00+0.00000000e+00j]\n",
      " [ 0.00000000e+00+0.00000000e+00j]\n",
      " [ 0.00000000e+00+0.00000000e+00j]\n",
      " [ 0.00000000e+00+0.00000000e+00j]\n",
      " [ 0.00000000e+00+0.00000000e+00j]\n",
      " [ 0.00000000e+00+0.00000000e+00j]\n",
      " [ 0.00000000e+00+0.00000000e+00j]\n",
      " [ 0.00000000e+00+0.00000000e+00j]\n",
      " [ 0.00000000e+00+0.00000000e+00j]\n",
      " [ 0.00000000e+00+0.00000000e+00j]\n",
      " [ 0.00000000e+00+0.00000000e+00j]\n",
      " [ 0.00000000e+00+0.00000000e+00j]\n",
      " [ 0.00000000e+00+0.00000000e+00j]\n",
      " [ 0.00000000e+00+0.00000000e+00j]\n",
      " [ 0.00000000e+00+0.00000000e+00j]\n",
      " [ 0.00000000e+00+0.00000000e+00j]\n",
      " [ 0.00000000e+00+0.00000000e+00j]\n",
      " [ 0.00000000e+00+0.00000000e+00j]\n",
      " [ 0.00000000e+00+0.00000000e+00j]\n",
      " [ 0.00000000e+00+0.00000000e+00j]\n",
      " [ 0.00000000e+00+0.00000000e+00j]\n",
      " [ 0.00000000e+00+0.00000000e+00j]\n",
      " [ 1.27737098e-17-1.72068785e-43j]\n",
      " [ 3.05814229e-01-8.23896636e-27j]\n",
      " [-2.61360363e-01+7.04133110e-27j]\n",
      " [ 1.51582349e-17-2.42553813e-43j]\n",
      " [-2.61360363e-01+7.04133110e-27j]\n",
      " [-6.12011285e-17+2.31834220e-42j]\n",
      " [ 7.86258227e-17-3.17739717e-42j]\n",
      " [-1.82356827e-18+4.91289032e-44j]\n",
      " [ 1.40922599e-01+1.78469690e-10j]\n",
      " [ 2.20167414e-17+2.78828310e-26j]\n",
      " [-2.54699104e-17-3.22560543e-26j]\n",
      " [-1.23958428e-18-1.56985625e-27j]\n",
      " [ 2.03969119e-17+2.58314179e-26j]\n",
      " [ 1.23958428e-18+1.56985625e-27j]\n",
      " [ 3.19080927e-18+4.04096110e-27j]\n",
      " [ 0.00000000e+00+0.00000000e+00j]\n",
      " [ 0.00000000e+00+0.00000000e+00j]\n",
      " [ 0.00000000e+00+0.00000000e+00j]\n",
      " [ 0.00000000e+00+0.00000000e+00j]\n",
      " [ 0.00000000e+00+0.00000000e+00j]\n",
      " [ 0.00000000e+00+0.00000000e+00j]\n",
      " [ 0.00000000e+00+0.00000000e+00j]\n",
      " [ 0.00000000e+00+0.00000000e+00j]\n",
      " [ 0.00000000e+00+0.00000000e+00j]\n",
      " [ 0.00000000e+00+0.00000000e+00j]\n",
      " [ 0.00000000e+00+0.00000000e+00j]\n",
      " [ 0.00000000e+00+0.00000000e+00j]\n",
      " [ 0.00000000e+00+0.00000000e+00j]\n",
      " [ 0.00000000e+00+0.00000000e+00j]\n",
      " [ 0.00000000e+00+0.00000000e+00j]\n",
      " [ 0.00000000e+00+0.00000000e+00j]\n",
      " [ 0.00000000e+00+0.00000000e+00j]\n",
      " [ 0.00000000e+00+0.00000000e+00j]\n",
      " [ 0.00000000e+00+0.00000000e+00j]\n",
      " [ 0.00000000e+00+0.00000000e+00j]\n",
      " [ 0.00000000e+00+0.00000000e+00j]\n",
      " [ 0.00000000e+00+0.00000000e+00j]\n",
      " [ 0.00000000e+00+0.00000000e+00j]\n",
      " [ 0.00000000e+00+0.00000000e+00j]\n",
      " [ 0.00000000e+00+0.00000000e+00j]\n",
      " [ 0.00000000e+00+0.00000000e+00j]\n",
      " [ 0.00000000e+00+0.00000000e+00j]\n",
      " [ 0.00000000e+00+0.00000000e+00j]\n",
      " [ 0.00000000e+00+0.00000000e+00j]\n",
      " [ 0.00000000e+00+0.00000000e+00j]\n",
      " [ 0.00000000e+00+0.00000000e+00j]\n",
      " [ 0.00000000e+00+0.00000000e+00j]\n",
      " [ 0.00000000e+00+0.00000000e+00j]\n",
      " [ 0.00000000e+00+0.00000000e+00j]\n",
      " [ 0.00000000e+00+0.00000000e+00j]\n",
      " [ 0.00000000e+00+0.00000000e+00j]\n",
      " [ 0.00000000e+00+0.00000000e+00j]\n",
      " [ 0.00000000e+00+0.00000000e+00j]\n",
      " [ 0.00000000e+00+0.00000000e+00j]\n",
      " [ 0.00000000e+00+0.00000000e+00j]\n",
      " [ 0.00000000e+00+0.00000000e+00j]\n",
      " [ 0.00000000e+00+0.00000000e+00j]\n",
      " [ 0.00000000e+00+0.00000000e+00j]\n",
      " [ 0.00000000e+00+0.00000000e+00j]\n",
      " [ 0.00000000e+00+0.00000000e+00j]\n",
      " [ 0.00000000e+00+0.00000000e+00j]\n",
      " [ 0.00000000e+00+0.00000000e+00j]\n",
      " [ 0.00000000e+00+0.00000000e+00j]\n",
      " [ 0.00000000e+00+0.00000000e+00j]\n",
      " [ 0.00000000e+00+0.00000000e+00j]\n",
      " [ 0.00000000e+00+0.00000000e+00j]\n",
      " [ 0.00000000e+00+0.00000000e+00j]\n",
      " [ 0.00000000e+00+0.00000000e+00j]\n",
      " [ 0.00000000e+00+0.00000000e+00j]\n",
      " [ 0.00000000e+00+0.00000000e+00j]\n",
      " [ 0.00000000e+00+0.00000000e+00j]\n",
      " [ 0.00000000e+00+0.00000000e+00j]\n",
      " [ 0.00000000e+00+0.00000000e+00j]\n",
      " [ 0.00000000e+00+0.00000000e+00j]\n",
      " [ 0.00000000e+00+0.00000000e+00j]\n",
      " [ 0.00000000e+00+0.00000000e+00j]\n",
      " [ 0.00000000e+00+0.00000000e+00j]\n",
      " [ 0.00000000e+00+0.00000000e+00j]\n",
      " [ 0.00000000e+00+0.00000000e+00j]\n",
      " [ 0.00000000e+00+0.00000000e+00j]\n",
      " [ 0.00000000e+00+0.00000000e+00j]\n",
      " [ 0.00000000e+00+0.00000000e+00j]\n",
      " [ 0.00000000e+00+0.00000000e+00j]\n",
      " [ 0.00000000e+00+0.00000000e+00j]\n",
      " [ 0.00000000e+00+0.00000000e+00j]\n",
      " [ 0.00000000e+00+0.00000000e+00j]\n",
      " [ 0.00000000e+00+0.00000000e+00j]\n",
      " [ 0.00000000e+00+0.00000000e+00j]\n",
      " [ 0.00000000e+00+0.00000000e+00j]\n",
      " [ 0.00000000e+00+0.00000000e+00j]\n",
      " [ 0.00000000e+00+0.00000000e+00j]\n",
      " [ 0.00000000e+00+0.00000000e+00j]\n",
      " [ 0.00000000e+00+0.00000000e+00j]\n",
      " [ 0.00000000e+00+0.00000000e+00j]\n",
      " [ 0.00000000e+00+0.00000000e+00j]\n",
      " [ 0.00000000e+00+0.00000000e+00j]\n",
      " [ 0.00000000e+00+0.00000000e+00j]\n",
      " [ 0.00000000e+00+0.00000000e+00j]\n",
      " [ 0.00000000e+00+0.00000000e+00j]\n",
      " [ 0.00000000e+00+0.00000000e+00j]\n",
      " [ 0.00000000e+00+0.00000000e+00j]\n",
      " [ 0.00000000e+00+0.00000000e+00j]\n",
      " [ 0.00000000e+00+0.00000000e+00j]\n",
      " [ 0.00000000e+00+0.00000000e+00j]\n",
      " [ 0.00000000e+00+0.00000000e+00j]\n",
      " [ 0.00000000e+00+0.00000000e+00j]\n",
      " [ 0.00000000e+00+0.00000000e+00j]\n",
      " [ 0.00000000e+00+0.00000000e+00j]\n",
      " [ 0.00000000e+00+0.00000000e+00j]\n",
      " [ 0.00000000e+00+0.00000000e+00j]\n",
      " [ 0.00000000e+00+0.00000000e+00j]\n",
      " [ 0.00000000e+00+0.00000000e+00j]\n",
      " [ 0.00000000e+00+0.00000000e+00j]\n",
      " [ 0.00000000e+00+0.00000000e+00j]\n",
      " [ 0.00000000e+00+0.00000000e+00j]\n",
      " [ 0.00000000e+00+0.00000000e+00j]\n",
      " [ 0.00000000e+00+0.00000000e+00j]\n",
      " [ 0.00000000e+00+0.00000000e+00j]\n",
      " [ 0.00000000e+00+0.00000000e+00j]\n",
      " [ 0.00000000e+00+0.00000000e+00j]\n",
      " [ 0.00000000e+00+0.00000000e+00j]\n",
      " [ 0.00000000e+00+0.00000000e+00j]\n",
      " [ 0.00000000e+00+0.00000000e+00j]\n",
      " [ 0.00000000e+00+0.00000000e+00j]\n",
      " [ 0.00000000e+00+0.00000000e+00j]\n",
      " [ 0.00000000e+00+0.00000000e+00j]\n",
      " [ 0.00000000e+00+0.00000000e+00j]\n",
      " [ 0.00000000e+00+0.00000000e+00j]]\n",
      "[ 1.49025378e-09+8.18993687e-18j  5.67585792e+00+0.00000000e+00j\n",
      "  8.43699646e-11+1.49989023e-17j  5.67585792e+00+0.00000000e+00j\n",
      " -6.33218841e-10-1.48394231e-10j]\n"
     ]
    }
   ],
   "source": [
    "print('Minimum energy: ', vha.sol.fun)\n",
    "print('Number of iterations: ', vha.sol.nfev)\n",
    "est_g_state = np.dot(prod_time_evo(vha.ham_sets, vha.sol.x), vha.start_state)\n",
    "print('Estimated ground state: ', est_g_state)\n",
    "print(vha.sol.x)"
   ]
  },
  {
   "cell_type": "markdown",
   "metadata": {},
   "source": [
    "### Finding Ground State of Non-interacting Terms\n",
    "\n",
    "VHA works because finding the ground state of non-interacting terms is efficiently computable on a QC and the VHA can evolve from that ground state to the ground state of the entire Hubbard Hamiltonian. \n",
    "\n",
    "We'll start by finding the ground state by using numpy to see if this actually work. "
   ]
  },
  {
   "cell_type": "code",
   "execution_count": 63,
   "metadata": {},
   "outputs": [],
   "source": [
    "non_interacting_ham = 0\n",
    "for i in range(4): \n",
    "    non_interacting_ham += x.ham_sets[i]"
   ]
  },
  {
   "cell_type": "code",
   "execution_count": 64,
   "metadata": {},
   "outputs": [
    {
     "name": "stdout",
     "output_type": "stream",
     "text": [
      "index 1\n",
      "Lowest energy:  (-16.670114579201226+4.123375222843512j)\n",
      "(256, 1)\n",
      "(256, 256)\n"
     ]
    }
   ],
   "source": [
    "non_int_ham_noise = non_interacting_ham + np.random.normal(size=(256,256))\n",
    "eig_non = np.linalg.eig(non_int_ham_noise)\n",
    "index = np.argmin(eig_non[0])\n",
    "genergy_non = eig_non[0][index]\n",
    "print('index', index)\n",
    "print('Lowest energy: ', genergy_non)\n",
    "gstate_non = np.transpose(NKron(eig_non[1][:,index]))\n",
    "print(gstate_non.shape)\n",
    "print(non_int_ham_noise.shape)"
   ]
  },
  {
   "cell_type": "code",
   "execution_count": 65,
   "metadata": {},
   "outputs": [
    {
     "data": {
      "text/plain": [
       "(-16.670114579201226+4.123375222843512j)"
      ]
     },
     "execution_count": 65,
     "metadata": {},
     "output_type": "execute_result"
    }
   ],
   "source": [
    "eig_non[0][index]"
   ]
  },
  {
   "cell_type": "code",
   "execution_count": 66,
   "metadata": {},
   "outputs": [
    {
     "data": {
      "text/plain": [
       "array([-8.97280997])"
      ]
     },
     "execution_count": 66,
     "metadata": {},
     "output_type": "execute_result"
    }
   ],
   "source": [
    "test_prod = np.dot(non_int_ham_noise, gstate_non)\n",
    "conj = np.conjugate(gstate_non)\n",
    "res = 0\n",
    "for i in range(len(conj)):\n",
    "    con = np.real(conj[i])\n",
    "    pro = np.real(test_prod[i])\n",
    "    if np.abs(con) < 1e-20: \n",
    "        continue\n",
    "    elif np.abs(pro) < 1e-20: \n",
    "        continue\n",
    "    else: \n",
    "        res += con * pro\n",
    "#     print(con)\n",
    "#     print(pro)\n",
    "#     print(res)\n",
    "#     print('---') \n",
    "#print('Where does the e-31 come from?!?')\n",
    "res"
   ]
  },
  {
   "cell_type": "code",
   "execution_count": 78,
   "metadata": {},
   "outputs": [
    {
     "name": "stderr",
     "output_type": "stream",
     "text": [
      "/home/warren/anaconda3/lib/python3.6/site-packages/scipy/sparse/linalg/_onenormest.py:156: RuntimeWarning: invalid value encountered in true_divide\n",
      "  Y /= np.abs(Y)\n",
      "/home/warren/anaconda3/lib/python3.6/site-packages/numpy/core/fromnumeric.py:90: RuntimeWarning: overflow encountered in reduce\n",
      "  return ufunc.reduce(obj, axis, dtype, out, **passkwargs)\n"
     ]
    }
   ],
   "source": [
    "# Choose one of the eigenvectors from lowest eigenvalue\n",
    "vha = VHA(x, gstate_non)\n",
    "vha.optimize()"
   ]
  },
  {
   "cell_type": "code",
   "execution_count": 79,
   "metadata": {},
   "outputs": [
    {
     "data": {
      "text/plain": [
       "(nan+nanj)"
      ]
     },
     "execution_count": 79,
     "metadata": {},
     "output_type": "execute_result"
    }
   ],
   "source": [
    "vha.sol.fun"
   ]
  },
  {
   "cell_type": "code",
   "execution_count": 75,
   "metadata": {},
   "outputs": [
    {
     "data": {
      "text/plain": [
       "(-7.2417873441946315e-22-3.9822028703557743e-22j)"
      ]
     },
     "execution_count": 75,
     "metadata": {},
     "output_type": "execute_result"
    }
   ],
   "source": [
    "est_g_state = np.dot(prod_time_evo(2 * vha.ham_sets, vha.sol.x), vha.start_state)\n",
    "overlap = np.dot(adjoint(est_g_state), gstate)\n",
    "overlap[0][0]"
   ]
  },
  {
   "cell_type": "code",
   "execution_count": 76,
   "metadata": {},
   "outputs": [
    {
     "data": {
      "text/plain": [
       "array([1.57080033+3.28644404e-10j, 6.17585792+0.00000000e+00j,\n",
       "       1.57076724-1.65767261e-10j, 6.17585792+0.00000000e+00j,\n",
       "       1.03003953+1.59421843e-02j])"
      ]
     },
     "execution_count": 76,
     "metadata": {},
     "output_type": "execute_result"
    }
   ],
   "source": [
    "vha.sol.x"
   ]
  },
  {
   "cell_type": "code",
   "execution_count": null,
   "metadata": {
    "scrolled": true
   },
   "outputs": [],
   "source": [
    "for ind in range(0, 80): \n",
    "    vha = VHA(x, np.transpose(NKron(eig_non[1][:,ind])))\n",
    "    vha.optimize()\n",
    "    print(ind, ' : ', np.real(vha.sol.fun))\n",
    "    if np.real(vha.sol.fun) < -5: \n",
    "        print('Got it! Index is', ind)"
   ]
  },
  {
   "cell_type": "code",
   "execution_count": null,
   "metadata": {},
   "outputs": [],
   "source": []
  },
  {
   "cell_type": "code",
   "execution_count": null,
   "metadata": {},
   "outputs": [],
   "source": []
  }
 ],
 "metadata": {
  "kernelspec": {
   "display_name": "Python 3",
   "language": "python",
   "name": "python3"
  },
  "language_info": {
   "codemirror_mode": {
    "name": "ipython",
    "version": 3
   },
   "file_extension": ".py",
   "mimetype": "text/x-python",
   "name": "python",
   "nbconvert_exporter": "python",
   "pygments_lexer": "ipython3",
   "version": "3.6.9"
  }
 },
 "nbformat": 4,
 "nbformat_minor": 4
}
