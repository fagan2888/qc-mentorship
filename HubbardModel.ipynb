{
 "cells": [
  {
   "cell_type": "markdown",
   "metadata": {},
   "source": [
    "# Hubbard Model\n",
    "\n",
    "I'm planning on running VQE and Trotter simulation on a Hubbard Hamiltonian to better understand its structure. \n",
    "\n",
    "The Hubbard model is a simplification of the interactions of electrons in a solid. It can be used to explain how these interactions yield insulating, magnetic, and superconducting effects (though I don't understand any of this yet). \n",
    "\n",
    "**Update 1**: I started by defining my own classes/functions for creation/annihilation operators, the Jordan-Wigner transform, the square lattice for the Hubbard Hamiltonian, the Hubbard Hamiltonian's matrix representation, and the Variational Hamiltonian Ansatz (VHA). As expected, my code and computer's RAM wasn't enough to work with anything more than a 2x2 square lattice (which has 8 qubits, so exists 256-dimensional Hilbert space). What did surprise me was how much more efficient OpenFermion was, because when I tried it when SSHing onto a Google Cloud computer, I was able to quickly solve the ground state of up to a 2x10 square lattice Hubbard Hamiltonian. Most of the functions/classes I defined are still available in the tools/ folder if you want to take a look. "
   ]
  },
  {
   "cell_type": "code",
   "execution_count": 1,
   "metadata": {},
   "outputs": [],
   "source": [
    "import numpy as np\n",
    "import scipy.linalg\n",
    "import scipy.optimize \n",
    "\n",
    "from tools.utils import *\n",
    "tol = 0.005 # Tolerance for elementwise equality of matrices"
   ]
  },
  {
   "cell_type": "markdown",
   "metadata": {},
   "source": [
    "### Defining creation and annihilation operators \n",
    "\n",
    "Since we're describing electrons, the Hubbard Hamiltonian's creation and annihilation operators have the normal fermionic anticommutation relations, namely that for a fermion on site $j,k$ with spin $\\sigma, \\pi$, \n",
    "\n",
    "$$ \\large \\{ c_{j \\sigma}, c^\\dagger_{k \\pi } \\} = \\delta_{jk} \\delta_{\\sigma \\pi} \\qquad \\{ c^\\dagger_{j\\sigma}, c^\\dagger_{k \\pi} \\}= \\{ c_{j\\sigma} c_{k\\pi} \\} = 0  $$"
   ]
  },
  {
   "cell_type": "markdown",
   "metadata": {},
   "source": [
    "### Jordan-Wigner Transformation\n",
    "\n",
    "We let $\\mid 0 \\rangle$ represent no electron in a spin-orbital, and we let $\\mid 1 \\rangle$ represent an electron existing in a spin-orbital. This allows us to define the creation operator as $(X-iY)/2$ and the annihilation operator as $(X+iY)/2$. The main problem with this is that the creation and annihilation operators don't anti-commute. To fix this, we prepend the operator with Pauli-$Z$ tensors. Because the Pauli operators anti-commute, this preserves our desired anti-commutation relation. "
   ]
  },
  {
   "cell_type": "markdown",
   "metadata": {},
   "source": [
    "## Defining the Hubbard Hamiltonian\n",
    "\n",
    "Okay, now that we have those preliminaries out of the way, what is the Hubbard Hamiltonian? What's the motivation behind it? How is it useful? \n",
    "\n",
    "Answer these. \n",
    "\n",
    "The Hubbard Hamiltonian: \n",
    "$$ \\large H = -t \\sum_{<j, k>, \\sigma} \\Big( c^\\dagger_{j\\sigma} c_{k\\sigma} + c^\\dagger_{k \\sigma} c_{j \\sigma} \\Big) + U \\sum_j n_{j \\uparrow} n_{j \\downarrow} - \\mu \\sum_j \\Big(n_{j\\uparrow} + n_{j\\downarrow} \\Big) $$\n",
    "\n",
    "The first term is kinetic energy, a fermion moving from one site to another. The symbol $<j, k>$ implies iterating over sites that are adjacent. \n",
    "\n",
    "The second term is interaction energy, additional energy for a doubly-occupied site. \n",
    "\n",
    "The third term is chemical potential, which controls the filling. **Hm, a lot of places don't have this third term (Wikipedia even). Why?**"
   ]
  },
  {
   "cell_type": "markdown",
   "metadata": {},
   "source": [
    "### 2D Hubbard Hamiltonian on a Square Lattice \n",
    "\n",
    "Here is a model of a 2D Hubbard Hamiltontian on a square lattice from [1811.04476](https://arxiv.org/pdf/1811.04476.pdf). \n",
    "\n",
    "![](images/2d_hubbard.png)\n",
    "\n",
    "We'll use OpenFermion's `HubbardSquareLattice` class to define our lattice. OpenFermion has a simpler function `fermi_hubbard()` to create a `FermionOperator` to describe our system, but this doesn't give us access to the specific hopping terms in the Hamiltonian (the terms in the first summation above), which we'll need for the Variational Hamiltonian Ansatz. \n",
    "\n",
    "The `HubbardSquareLattice` class has a useful method: `site_pair_iter(edge_type)`. We'll use the 'horizontal_neighbor' and 'vertical_neighbor' edge types. But we also need to differentiate between \"even\" and \"odd\" horizontal and vertical neighbors: even horizontal neighbors will be horizontal neighbors whose leftmost site has even index, and likewise for horizontal odd, vertical even, and vertical odd neighbors. To get this added specificity, we'll need to examine each item in the iterable generated by `site_pair_iter()` or call the `to_site_index(site)` method.   "
   ]
  },
  {
   "cell_type": "code",
   "execution_count": 2,
   "metadata": {},
   "outputs": [],
   "source": [
    "from openfermion.utils import HubbardSquareLattice\n",
    "HubbardSquareLattice?"
   ]
  },
  {
   "cell_type": "code",
   "execution_count": 3,
   "metadata": {},
   "outputs": [],
   "source": [
    "# HubbardSquareLattice parameters\n",
    "x_n = 2 \n",
    "y_n = 2 \n",
    "n_dofs = 1 # 1 degree of freedom for spin\n",
    "periodic = 1 # Not sure what this is, periodic boundary conditions?\n",
    "spinless = 0 # Has spin\n",
    "\n",
    "lattice = HubbardSquareLattice(x_n, y_n, n_dofs=n_dofs, periodic=periodic, spinless=spinless)"
   ]
  },
  {
   "cell_type": "markdown",
   "metadata": {},
   "source": [
    "Now, we'll create a `FermiHubbardModel` instance by passing it our `HubbardSquareLattice` instance defined above. \n",
    "\n",
    "To get the `FermionOperator` instance, we need to call `FermiHubbardModel.hamiltonian()`. The [documentation](https://openfermion.readthedocs.io/en/latest/openfermion.html#openfermion.hamiltonians.FermiHubbardModel) isn't that great here, but the [source code](https://github.com/quantumlib/OpenFermion/blob/master/src/openfermion/hamiltonians/_general_hubbard.py) indicates we do indeed get a `FermionOperator` instance which we'll need for calculating ground state, etc. \n",
    "\n",
    "We can't just pass an integer for $t$, $U$, or $\\mu$ in this class. Instead, we have to specify the *specific* coefficient for each pair and edge type ($t_{ij}^{\\textrm{horizontal neighbor}}$). This will be useful later on, I think, because [1506.05135](https://arxiv.org/abs/1506.05135) says we'll need the indices for different values during adiabatic evolution. "
   ]
  },
  {
   "cell_type": "code",
   "execution_count": 4,
   "metadata": {},
   "outputs": [],
   "source": [
    "from openfermion.hamiltonians import FermiHubbardModel\n",
    "FermiHubbardModel??"
   ]
  },
  {
   "cell_type": "code",
   "execution_count": 5,
   "metadata": {},
   "outputs": [],
   "source": [
    "from openfermion.utils import SpinPairs\n",
    "tunneling = [('neighbor', (0, 0), 1.)] # Not sure if this is right\n",
    "interaction = [('onsite', (0, 0), 2., SpinPairs.DIFF)] # Not sure if this is right\n",
    "potential = None \n",
    "mag_field = 0. \n",
    "particle_hole_sym = False # Not sure if this is right"
   ]
  },
  {
   "cell_type": "code",
   "execution_count": 6,
   "metadata": {},
   "outputs": [],
   "source": [
    "hubbard = FermiHubbardModel(lattice , tunneling_parameters=tunneling, interaction_parameters=interaction, \n",
    "                            potential_parameters=potential, magnetic_field=mag_field, \n",
    "                            particle_hole_symmetry=particle_hole_sym)"
   ]
  },
  {
   "cell_type": "code",
   "execution_count": 7,
   "metadata": {},
   "outputs": [
    {
     "name": "stdout",
     "output_type": "stream",
     "text": [
      "Spectrums are the same:  True\n"
     ]
    }
   ],
   "source": [
    "# Test: Make sure the above Hamiltonian is iso-spectral with a Hubbard Hamiltonian with same parameters \n",
    "from openfermion.hamiltonians import fermi_hubbard\n",
    "from openfermion.utils import eigenspectrum\n",
    "test_hub = fermi_hubbard(x_n, y_n, 1. , 2., chemical_potential=0.0, magnetic_field=mag_field, \n",
    "                         periodic=periodic, spinless=spinless, particle_hole_symmetry=particle_hole_sym)\n",
    "print(\"Spectrums are the same: \", array_eq(eigenspectrum(test_hub), eigenspectrum(hubbard.hamiltonian()), tol))"
   ]
  },
  {
   "cell_type": "code",
   "execution_count": null,
   "metadata": {},
   "outputs": [],
   "source": [
    "\"\"\"\n",
    "The full FermionOperator of the Hubbard model is in hubbard.ham. \n",
    "We also need to break the non-interacting part into 4 terms: horizontal even hopping, horizontal odd opping, \n",
    "vertical even hopping, and vertical odd hopping. \n",
    "I do this with the function _gen_non_interacting_dict(ham), which returns a dictionary with 4 keys \n",
    "corresponding to the values we want. \n",
    "\"\"\"\n",
    "hubbard = {\n",
    "    ham: fermi_hubbard(x_n, y_n, tunneling, coulomb, chem_potential, \n",
    "                        mag_field, periodic, spinless), \n",
    "    ham_non_interacting: fermi_hubbard(x_n, y_n, tunneling, 0, chem_potential, \n",
    "                                        mag_field, periodic, spinless), \n",
    "    ham_non_interacting_dict: _gen_non_interacting_dict(hubbard.ham_non_interacting), \n",
    "    hor_even: ham_non_interacting_dict['hor_even'], \n",
    "    hor_odd: ham_non_interacting_dict['hor_odd'], \n",
    "    ver_even: ham_non_interacting_dict['ver_even'], \n",
    "    ver_odd: ham_non_interacting_dict['ver_odd']\n",
    "}\n",
    "\n",
    "def _gen_non_interacting_dict(ham):\n",
    "    \"\"\"\n",
    "    Return a dictonary of FermionOperators with keys hor_even, hor_odd, ver_even, ver_odd. \n",
    "    ham: FermionOperator \n",
    "    \"\"\"\n",
    "    for term_tuple in ham.terms: \n",
    "        "
   ]
  },
  {
   "cell_type": "code",
   "execution_count": null,
   "metadata": {},
   "outputs": [],
   "source": [
    "eig = np.linalg.eigh(x.hamiltonian)\n",
    "index = np.argmin(eig[0])\n",
    "print('Ground state energy: ', eig[0][index])\n",
    "gstate = np.transpose(NKron(eig[1][:,index]))\n",
    "gstate = gstate / np.linalg.norm(gstate)\n",
    "print('Ground state: ', gstate)\n",
    "print(gstate.shape)"
   ]
  },
  {
   "cell_type": "code",
   "execution_count": null,
   "metadata": {},
   "outputs": [],
   "source": [
    "np.dot(np.transpose(np.conj(gstate)), np.dot(x.hamiltonian, gstate))"
   ]
  },
  {
   "cell_type": "markdown",
   "metadata": {},
   "source": [
    "## Variational Hamiltonian Ansatz\n",
    "\n",
    "The VHA is an ansatz deeply connected to time-evolution of the system. It splits the Hamiltonian into sub-operators and then does time-evolution for those operators: \n",
    "$$\\large U(\\theta) = \\prod_{k=1}^n \\prod_{\\alpha=1}^N \\exp \\Big( i\\theta_{\\alpha, k} H_{\\alpha} \\Big) $$\n",
    "where $H_\\alpha$ are the sub-Hamiltonians and $\\theta$ are the parameters being optimized. \n",
    "\n",
    "**Question:** Is product from $k=1$ to $n$ meant to indicate multiple iterations of the algorithm? So are there only $N$ parameters, or are there $n \\cdot N$? I think it's the former, because $\\Big( \\exp (i \\theta_{1 k} H_1) \\cdots \\exp (i \\theta_{N k} H_N) \\Big)$ commutes with itself, so we can combine terms.  \n",
    "\n",
    "**Question:** Why is this a good ansatz? It seems it only has access to states that are evolutions of the state we start with. Why is that a guarantee that it'll approximate the ground state? \n",
    "\n",
    "In [1811.04476](https://arxiv.org/pdf/1811.04476.pdf) they use $N=5$, splitting it as I did above: even and odd horizontal hopping terms, even and odd vertical horizontal terms, and the on-site interaction terms. "
   ]
  },
  {
   "cell_type": "code",
   "execution_count": null,
   "metadata": {},
   "outputs": [],
   "source": [
    "def time_evo(ham, t): \n",
    "    # returns e^{i*t*ham}\n",
    "    # scipy.linalg.expm() uses the Pade approximant; try to understand more of how it works because it seems \n",
    "    # pretty useful: https://en.wikipedia.org/wiki/Pad%C3%A9_approximant\n",
    "    return scipy.linalg.expm(-1j * t * ham)\n",
    "\n",
    "def prod_time_evo(ham_sets, ts):\n",
    "    result = 1 \n",
    "    for pair in zip(ham_sets, ts): \n",
    "        result *= time_evo(pair[0], pair[1])\n",
    "    return result\n",
    "\n",
    "def test_linalg_expm():\n",
    "    return scipy.linalg.expm(X)\n",
    "\n",
    "test_linalg_expm()"
   ]
  },
  {
   "cell_type": "code",
   "execution_count": null,
   "metadata": {},
   "outputs": [],
   "source": [
    "scipy.linalg?"
   ]
  },
  {
   "cell_type": "code",
   "execution_count": null,
   "metadata": {},
   "outputs": [],
   "source": [
    "y = [1, 1]\n",
    "2 * y"
   ]
  },
  {
   "cell_type": "code",
   "execution_count": null,
   "metadata": {},
   "outputs": [],
   "source": [
    "class VHA: \n",
    "    def __init__(self, hubbard, start_state): \n",
    "        self.ham_sets = hubbard.ham_sets \n",
    "        self.hamiltonian = hubbard.hamiltonian\n",
    "        self.start_state = start_state\n",
    "        self.start_params = np.array([5e30 for i in range(5)])\n",
    "            \n",
    "    def optimize(self):  \n",
    "        self.energies = []\n",
    "        \n",
    "        def energy(t_params): \n",
    "            unitary = prod_time_evo(2 * self.ham_sets, np.real(t_params))\n",
    "            state = np.dot(unitary, self.start_state)\n",
    "            curr_energy = np.dot(np.transpose(np.conj(state)), np.dot(self.hamiltonian, state))[0][0]\n",
    "            #print(curr_energy)\n",
    "            self.energies.append(curr_energy)\n",
    "            return curr_energy\n",
    "                    \n",
    "        self.sol = scipy.optimize.minimize(energy, 2 * self.start_params, method='Powell', \n",
    "                                           bounds=[(0, 3) for i in range(2 * len(self.start_params))])"
   ]
  },
  {
   "cell_type": "code",
   "execution_count": null,
   "metadata": {},
   "outputs": [],
   "source": [
    "vha = VHA(x, gstate)"
   ]
  },
  {
   "cell_type": "code",
   "execution_count": null,
   "metadata": {},
   "outputs": [],
   "source": [
    "vha.optimize()"
   ]
  },
  {
   "cell_type": "code",
   "execution_count": null,
   "metadata": {
    "scrolled": true
   },
   "outputs": [],
   "source": [
    "print('Minimum energy: ', vha.sol.fun)\n",
    "print('Number of iterations: ', vha.sol.nfev)\n",
    "est_g_state = np.dot(prod_time_evo(vha.ham_sets, vha.sol.x), vha.start_state)\n",
    "print('Estimated ground state: ', est_g_state)\n",
    "print(vha.sol.x)"
   ]
  },
  {
   "cell_type": "markdown",
   "metadata": {},
   "source": [
    "### Finding Ground State of Non-interacting Terms\n",
    "\n",
    "VHA works because finding the ground state of non-interacting terms is efficiently computable on a QC and the VHA can evolve from that ground state to the ground state of the entire Hubbard Hamiltonian. \n",
    "\n",
    "We'll start by finding the ground state by using numpy to see if this actually work. "
   ]
  },
  {
   "cell_type": "code",
   "execution_count": null,
   "metadata": {},
   "outputs": [],
   "source": [
    "non_interacting_ham = 0\n",
    "for i in range(4): \n",
    "    non_interacting_ham += x.ham_sets[i]"
   ]
  },
  {
   "cell_type": "code",
   "execution_count": null,
   "metadata": {},
   "outputs": [],
   "source": [
    "non_int_ham_noise = non_interacting_ham + np.random.normal(size=(256,256))\n",
    "eig_non = np.linalg.eig(non_int_ham_noise)\n",
    "index = np.argmin(eig_non[0])\n",
    "genergy_non = eig_non[0][index]\n",
    "print('index', index)\n",
    "print('Lowest energy: ', genergy_non)\n",
    "gstate_non = np.transpose(NKron(eig_non[1][:,index]))\n",
    "print(gstate_non.shape)\n",
    "print(non_int_ham_noise.shape)"
   ]
  },
  {
   "cell_type": "code",
   "execution_count": null,
   "metadata": {},
   "outputs": [],
   "source": [
    "eig_non[0][index]"
   ]
  },
  {
   "cell_type": "code",
   "execution_count": null,
   "metadata": {},
   "outputs": [],
   "source": [
    "test_prod = np.dot(non_int_ham_noise, gstate_non)\n",
    "conj = np.conjugate(gstate_non)\n",
    "res = 0\n",
    "for i in range(len(conj)):\n",
    "    con = np.real(conj[i])\n",
    "    pro = np.real(test_prod[i])\n",
    "    if np.abs(con) < 1e-20: \n",
    "        continue\n",
    "    elif np.abs(pro) < 1e-20: \n",
    "        continue\n",
    "    else: \n",
    "        res += con * pro\n",
    "#     print(con)\n",
    "#     print(pro)\n",
    "#     print(res)\n",
    "#     print('---') \n",
    "#print('Where does the e-31 come from?!?')\n",
    "res"
   ]
  },
  {
   "cell_type": "code",
   "execution_count": null,
   "metadata": {},
   "outputs": [],
   "source": [
    "# Choose one of the eigenvectors from lowest eigenvalue\n",
    "vha = VHA(x, gstate_non)\n",
    "vha.optimize()"
   ]
  },
  {
   "cell_type": "code",
   "execution_count": null,
   "metadata": {},
   "outputs": [],
   "source": [
    "vha.sol.fun"
   ]
  },
  {
   "cell_type": "code",
   "execution_count": null,
   "metadata": {},
   "outputs": [],
   "source": [
    "est_g_state = np.dot(prod_time_evo(2 * vha.ham_sets, vha.sol.x), vha.start_state)\n",
    "overlap = np.dot(adjoint(est_g_state), gstate)\n",
    "overlap[0][0]"
   ]
  },
  {
   "cell_type": "code",
   "execution_count": null,
   "metadata": {},
   "outputs": [],
   "source": [
    "vha.sol.x"
   ]
  },
  {
   "cell_type": "code",
   "execution_count": null,
   "metadata": {
    "scrolled": true
   },
   "outputs": [],
   "source": [
    "for ind in range(0, 80): \n",
    "    vha = VHA(x, np.transpose(NKron(eig_non[1][:,ind])))\n",
    "    vha.optimize()\n",
    "    print(ind, ' : ', np.real(vha.sol.fun))\n",
    "    if np.real(vha.sol.fun) < -5: \n",
    "        print('Got it! Index is', ind)"
   ]
  }
 ],
 "metadata": {
  "kernelspec": {
   "display_name": "Python 3",
   "language": "python",
   "name": "python3"
  },
  "language_info": {
   "codemirror_mode": {
    "name": "ipython",
    "version": 3
   },
   "file_extension": ".py",
   "mimetype": "text/x-python",
   "name": "python",
   "nbconvert_exporter": "python",
   "pygments_lexer": "ipython3",
   "version": "3.6.9"
  }
 },
 "nbformat": 4,
 "nbformat_minor": 4
}
