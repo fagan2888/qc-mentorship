{
 "cells": [
  {
   "cell_type": "markdown",
   "metadata": {},
   "source": [
    "This notebook uses code from `VHA.ipynb`. It's much more concise and doesn't do VQE; we just get the ground state so I can quickly analyze its properties. "
   ]
  },
  {
   "cell_type": "markdown",
   "metadata": {},
   "source": [
    "### Get ground state"
   ]
  },
  {
   "cell_type": "code",
   "execution_count": 19,
   "metadata": {},
   "outputs": [],
   "source": [
    "import numpy as np\n",
    "import scipy.linalg \n",
    "\n",
    "from tools.utils import * \n",
    "tol = 0.005"
   ]
  },
  {
   "cell_type": "code",
   "execution_count": 225,
   "metadata": {},
   "outputs": [],
   "source": [
    "# Define lattice and model \n",
    "from openfermion.utils import HubbardSquareLattice\n",
    "# HubbardSquareLattice parameters\n",
    "x_n = 8\n",
    "y_n = 1\n",
    "n_dofs = 1 # 1 degree of freedom for spin, this might be wrong. Having only one dof means ordered=False. \n",
    "periodic = 0 # Not sure what this is, periodic boundary conditions?\n",
    "spinless = 0 # Has spin\n",
    "\n",
    "lattice = HubbardSquareLattice(x_n, y_n, n_dofs=n_dofs, periodic=periodic, spinless=spinless)"
   ]
  },
  {
   "cell_type": "code",
   "execution_count": 226,
   "metadata": {},
   "outputs": [],
   "source": [
    "from openfermion.hamiltonians import FermiHubbardModel\n",
    "from openfermion.utils import SpinPairs\n",
    "tunneling = [('neighbor', (0, 0), 1.)] # Not sure if this is right\n",
    "interaction = [('onsite', (0, 0), 6., SpinPairs.DIFF)] # Not sure if this is right\n",
    "potential = [(0, 0.)]\n",
    "# potential = None\n",
    "mag_field = 0. \n",
    "particle_hole_sym = False # Not sure if this is right"
   ]
  },
  {
   "cell_type": "code",
   "execution_count": 227,
   "metadata": {},
   "outputs": [],
   "source": [
    "hubbard = FermiHubbardModel(lattice , tunneling_parameters=tunneling, interaction_parameters=interaction, \n",
    "                            potential_parameters=potential, magnetic_field=mag_field, \n",
    "                            particle_hole_symmetry=particle_hole_sym)"
   ]
  },
  {
   "cell_type": "code",
   "execution_count": 228,
   "metadata": {},
   "outputs": [
    {
     "name": "stdout",
     "output_type": "stream",
     "text": [
      "Ground state energy:  -5.581939204022831\n"
     ]
    }
   ],
   "source": [
    "# Get ground state and energy \n",
    "from openfermion import get_sparse_operator, get_ground_state\n",
    "hub_sparse = get_sparse_operator(hubbard.hamiltonian())\n",
    "genergy, gstate = get_ground_state(hub_sparse)\n",
    "print(\"Ground state energy: \", genergy)\n",
    "\n",
    "# w, v = scipy.sparse.linalg.eigsh(hub_sparse, k=200, which='SA')\n",
    "# gstate=v[:, 199]"
   ]
  },
  {
   "cell_type": "markdown",
   "metadata": {},
   "source": [
    "### Analyze ground state"
   ]
  },
  {
   "cell_type": "code",
   "execution_count": 229,
   "metadata": {},
   "outputs": [
    {
     "data": {
      "text/plain": [
       "array([0.3044, 0.2959, 0.3171, 0.3108, 0.3196, 0.3358, 0.3024, 0.3084,\n",
       "       0.3173, 0.303 , 0.3261, 0.3276, 0.3164, 0.3191, 0.299 , 0.2971])"
      ]
     },
     "execution_count": 229,
     "metadata": {},
     "output_type": "execute_result"
    }
   ],
   "source": [
    "# Get average measurement of each qubit \n",
    "from cirq import measure_state_vector \n",
    "measurements = [measure_state_vector(gstate, range(2 * x_n * y_n))[0] for _ in range(10000)]\n",
    "np.mean(measurements, axis=0)"
   ]
  },
  {
   "cell_type": "markdown",
   "metadata": {},
   "source": [
    "In Scalettar notes, magnetization $m$ is defined as $$m = \\frac{\\rho_\\uparrow - \\rho_\\downarrow}{\\rho_\\uparrow + \\rho_\\downarrow}$$"
   ]
  },
  {
   "cell_type": "code",
   "execution_count": 230,
   "metadata": {},
   "outputs": [
    {
     "data": {
      "text/plain": [
       "0.625"
      ]
     },
     "execution_count": 230,
     "metadata": {},
     "output_type": "execute_result"
    }
   ],
   "source": [
    "# Calculate density \n",
    "sum(np.mean(measurements, axis=0)) / (x_n * y_n)"
   ]
  },
  {
   "cell_type": "code",
   "execution_count": 231,
   "metadata": {},
   "outputs": [
    {
     "name": "stdout",
     "output_type": "stream",
     "text": [
      "m = -0.00224\n"
     ]
    }
   ],
   "source": [
    "# Check spin balance \n",
    "up_spins = 0 \n",
    "down_spins = 0\n",
    "unequal = 0\n",
    "for trial in measurements:\n",
    "    up_spins += sum(trial[:x_n * y_n])\n",
    "    down_spins += sum(trial[x_n * y_n:])\n",
    "    if up_spins != down_spins:\n",
    "        unequal += 1\n",
    "print(\"m =\", (up_spins - down_spins) / (up_spins + down_spins))"
   ]
  },
  {
   "cell_type": "code",
   "execution_count": 224,
   "metadata": {},
   "outputs": [
    {
     "data": {
      "text/plain": [
       "9398"
      ]
     },
     "execution_count": 224,
     "metadata": {},
     "output_type": "execute_result"
    }
   ],
   "source": [
    "unequal"
   ]
  },
  {
   "cell_type": "code",
   "execution_count": 123,
   "metadata": {},
   "outputs": [],
   "source": [
    "pos = 0 \n",
    "neg = 0 \n",
    "\n",
    "for trial in measurements: \n",
    "    up_spins = sum(trial[:x_n * y_n])\n",
    "    down_spins = sum(trial[x_n * y_n:])\n",
    "    m = (up_spins - down_spins) / (up_spins + down_spins)\n",
    "    if np.abs(m) > tol:  \n",
    "        if m > 0: \n",
    "            pos += 1 \n",
    "        else: \n",
    "            neg += 1"
   ]
  },
  {
   "cell_type": "code",
   "execution_count": 124,
   "metadata": {},
   "outputs": [
    {
     "data": {
      "text/plain": [
       "520"
      ]
     },
     "execution_count": 124,
     "metadata": {},
     "output_type": "execute_result"
    }
   ],
   "source": [
    "pos"
   ]
  },
  {
   "cell_type": "code",
   "execution_count": 125,
   "metadata": {},
   "outputs": [
    {
     "data": {
      "text/plain": [
       "483"
      ]
     },
     "execution_count": 125,
     "metadata": {},
     "output_type": "execute_result"
    }
   ],
   "source": [
    "neg"
   ]
  },
  {
   "cell_type": "code",
   "execution_count": null,
   "metadata": {},
   "outputs": [],
   "source": []
  }
 ],
 "metadata": {
  "kernelspec": {
   "display_name": "Python 3",
   "language": "python",
   "name": "python3"
  },
  "language_info": {
   "codemirror_mode": {
    "name": "ipython",
    "version": 3
   },
   "file_extension": ".py",
   "mimetype": "text/x-python",
   "name": "python",
   "nbconvert_exporter": "python",
   "pygments_lexer": "ipython3",
   "version": "3.6.9"
  }
 },
 "nbformat": 4,
 "nbformat_minor": 4
}
