{
 "cells": [
  {
   "cell_type": "markdown",
   "metadata": {},
   "source": [
    "# Hubbard Hamiltonian\n",
    "\n",
    "I'm planning on running VQE and Trotter simulation on a Hubbard Hamiltonian to better understand its structure. "
   ]
  },
  {
   "cell_type": "code",
   "execution_count": 7,
   "metadata": {},
   "outputs": [],
   "source": [
    "import numpy as np\n",
    "from utils import *"
   ]
  },
  {
   "cell_type": "markdown",
   "metadata": {},
   "source": [
    "## Defining creation and annihilation operators "
   ]
  },
  {
   "cell_type": "code",
   "execution_count": 2,
   "metadata": {},
   "outputs": [],
   "source": [
    "class Operator: \n",
    "    def __init__(self, annihilation, spin): \n",
    "        self.annihilation = annihilation \n",
    "        self.spin = spin \n",
    "        \n",
    "class CreationOperator:\n",
    "    def __init__(self, spin, qubit, dim):\n",
    "        self.type = 'creation'\n",
    "        self.spin = spin\n",
    "        self.qubit = qubit\n",
    "        self.dim = dim\n",
    "\n",
    "class AnnihilationOperator:\n",
    "    def __init__(self, spin, qubit, dim):\n",
    "        self.type = 'annihilation'\n",
    "        self.spin = spin\n",
    "        self.qubit = qubit\n",
    "        self.dim = dim"
   ]
  },
  {
   "cell_type": "code",
   "execution_count": 3,
   "metadata": {},
   "outputs": [],
   "source": [
    "c_1 = CreationOperator('down', 0, 5)\n",
    "a_1 = AnnihilationOperator('up', 3, 5)"
   ]
  },
  {
   "cell_type": "markdown",
   "metadata": {},
   "source": [
    "## Jordan-Wigner Transformation"
   ]
  },
  {
   "cell_type": "code",
   "execution_count": 4,
   "metadata": {},
   "outputs": [],
   "source": [
    "def encode_JW(operator):\n",
    "    if type(operator) != CreationOperator and type(operator) != AnnihilationOperator:\n",
    "        raise Error(\"operator must be a CreationOperator or AnnihilationOperator\")\n",
    "        \n",
    "    result = np.array([[1.0]], dtype='complex128') \n",
    "    string_repr = ''\n",
    "    # Notice the order of the tensor product: gate on 0th qubit is \"leftmost\" in product\n",
    "    for i in range(operator.dim): \n",
    "        if i < operator.qubit: \n",
    "            result = NKron(result, Z)\n",
    "            string_repr = string_repr + 'Z'\n",
    "        elif i == operator.qubit and operator.type == 'creation': \n",
    "            result = NKron(result, (X -1j*Y) / 2)\n",
    "            string_repr = string_repr + '-'\n",
    "        elif i == operator.qubit and operator.type == 'annihilation': \n",
    "            result = NKron(result, (X +1j*Y) / 2) \n",
    "            string_repr = string_repr + '+'\n",
    "        elif i > operator.qubit: \n",
    "            result = NKron(result, I) \n",
    "            string_repr = string_repr + 'I'\n",
    "        else: \n",
    "            raise Error(\"Something is wrong with this code!\")\n",
    "    #print(string_repr)\n",
    "    return result"
   ]
  },
  {
   "cell_type": "code",
   "execution_count": 5,
   "metadata": {},
   "outputs": [],
   "source": [
    "x = encode_JW(c_1)"
   ]
  },
  {
   "cell_type": "code",
   "execution_count": 6,
   "metadata": {},
   "outputs": [
    {
     "data": {
      "text/plain": [
       "(32, 32)"
      ]
     },
     "execution_count": 6,
     "metadata": {},
     "output_type": "execute_result"
    }
   ],
   "source": [
    "x.shape"
   ]
  },
  {
   "cell_type": "markdown",
   "metadata": {},
   "source": [
    "## Defining the Hubbard Hamiltonian\n",
    "\n",
    "Okay, now that we have those preliminaries out of the way, what is the Hubbard Hamiltonian? What's the motivation behind it? How is it useful? \n",
    "\n",
    "Answer these. "
   ]
  },
  {
   "cell_type": "markdown",
   "metadata": {},
   "source": [
    "### 2D Hubbard Hamiltonian on a Square Lattice \n",
    "\n",
    "Here is a model of a 2D Hubbard Hamiltontian on a square lattice from [1811.04476](https://arxiv.org/pdf/1811.04476.pdf). We'll represent it by a 2D array: 2D to get the square structure, and in each square `[i][j]`, a dictionary of 2 elements: 'creation' and 'annihilation'. \n",
    "\n",
    "![](2d_hubbard.png)"
   ]
  },
  {
   "cell_type": "code",
   "execution_count": 47,
   "metadata": {},
   "outputs": [],
   "source": [
    "N_X = 5 \n",
    "N_Y = 5\n",
    "N = N_X * N_Y\n",
    "square_lattice = [[ {'i': i, 'j': j, \n",
    "                     'creation': CreationOperator('UP', N_Y * i + j, N), \n",
    "                     'annihilation': AnnihilationOperator('UP', N_Y * i + j, N) \n",
    "                    } for j in range(N_X)] for i in range(N_Y)]"
   ]
  },
  {
   "cell_type": "code",
   "execution_count": 50,
   "metadata": {},
   "outputs": [
    {
     "data": {
      "text/plain": [
       "3"
      ]
     },
     "execution_count": 50,
     "metadata": {},
     "output_type": "execute_result"
    }
   ],
   "source": [
    "square_lattice[0][3]['creation'].qubit"
   ]
  },
  {
   "cell_type": "code",
   "execution_count": null,
   "metadata": {},
   "outputs": [],
   "source": []
  }
 ],
 "metadata": {
  "kernelspec": {
   "display_name": "Python 3",
   "language": "python",
   "name": "python3"
  },
  "language_info": {
   "codemirror_mode": {
    "name": "ipython",
    "version": 3
   },
   "file_extension": ".py",
   "mimetype": "text/x-python",
   "name": "python",
   "nbconvert_exporter": "python",
   "pygments_lexer": "ipython3",
   "version": "3.6.9"
  }
 },
 "nbformat": 4,
 "nbformat_minor": 4
}
