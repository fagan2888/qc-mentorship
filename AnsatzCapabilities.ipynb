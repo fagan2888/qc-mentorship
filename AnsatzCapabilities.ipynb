{
 "cells": [
  {
   "cell_type": "code",
   "execution_count": 3,
   "metadata": {},
   "outputs": [],
   "source": [
    "import numpy as np\n",
    "import cirq"
   ]
  },
  {
   "cell_type": "code",
   "execution_count": 4,
   "metadata": {},
   "outputs": [
    {
     "data": {
      "text/plain": [
       "0.11571775657104855"
      ]
     },
     "execution_count": 4,
     "metadata": {},
     "output_type": "execute_result"
    }
   ],
   "source": [
    "# Kullback-Leibler divergence\n",
    "from scipy.special import kl_div\n",
    "kl_div(5, 4)"
   ]
  },
  {
   "cell_type": "code",
   "execution_count": 9,
   "metadata": {},
   "outputs": [],
   "source": [
    "# Create a few simple ansatze\n",
    "from openfermioncirq import VariationalAnsatz \n",
    "from openfermioncirq.variational.letter_with_subscripts import LetterWithSubscripts\n",
    "\n",
    "class BoundedAnsatz(VariationalAnsatz): \n",
    "    def param_bounds(self): \n",
    "        bounds = []\n",
    "        for param in self.params():\n",
    "            bounds.append((-2*np.pi, 2*np.pi))\n",
    "        return bounds\n",
    "    \n",
    "class Idle(BoundedAnsatz):\n",
    "    def __init__(self, num_qubits): \n",
    "        self.num_qubits = num_qubits \n",
    "        super().__init__(None)\n",
    "    def params(self): \n",
    "        # Dummy parameter\n",
    "        yield LetterWithSubscripts('dummy') \n",
    "    def _generate_qubits(self):\n",
    "        return cirq.LineQubit.range(self.num_qubits)\n",
    "    def operations(self, qubits): \n",
    "        for q in range(self.num_qubits):\n",
    "            yield cirq.ops.I.on(self.qubits[q])"
   ]
  },
  {
   "cell_type": "code",
   "execution_count": 10,
   "metadata": {},
   "outputs": [
    {
     "data": {
      "text/plain": [
       "'0: ───I───'"
      ]
     },
     "execution_count": 10,
     "metadata": {},
     "output_type": "execute_result"
    }
   ],
   "source": [
    "eye = Idle(1)\n",
    "eye.circuit.to_text_diagram()"
   ]
  },
  {
   "cell_type": "code",
   "execution_count": 27,
   "metadata": {},
   "outputs": [],
   "source": [
    "def place_fid_into_bin(fid, n_bins): \n",
    "    # Return index of bin 0 to n_bins-1 of bin fid belongs in\n",
    "    if fid > 1 or fid < 0: \n",
    "        raise ValueError(\"Fidelity cannot be greater than 1 or less than 0. Fidelity is {}\".format(fid))\n",
    "    if fid < 1.0/n_bins: return 0\n",
    "    if fid == 1.0: return n_bins - 1\n",
    "    return int(fid * n_bins)"
   ]
  },
  {
   "cell_type": "code",
   "execution_count": 30,
   "metadata": {},
   "outputs": [],
   "source": [
    "def haar_fid(f, n):\n",
    "    # Returns prob density of fidelity f\n",
    "    return (n-1) * (1-f)**(n-2)\n",
    "\n",
    "n_hist = 75 \n",
    "n_params = 1\n",
    "n_samples = 1000\n",
    "hist = [0 for i in range(n_hist)]\n",
    "params = np.linspace(0, 1, n_samples)\n",
    "\n",
    "for i in range(n_samples):\n",
    "    hist[place_fid_into_bin(params[i], n_hist)] += haar_fid(params[i], 2)/n_samples"
   ]
  },
  {
   "cell_type": "code",
   "execution_count": null,
   "metadata": {},
   "outputs": [],
   "source": [
    "def uniform_params(ansatz): \n",
    "    # All params must have same bounds\n",
    "    bounds = ansatz.param_bounds()\n",
    "    #NOT DONE YET"
   ]
  },
  {
   "cell_type": "code",
   "execution_count": 60,
   "metadata": {},
   "outputs": [],
   "source": [
    "import itertools\n",
    "def uniformly_random_params(ansatz):\n",
    "    # All params must have same bounds\n",
    "    bounds = ansatz.param_bounds() \n",
    "    num_bounds = len(bounds)\n",
    "    samples = 1000\n",
    "    samples_per_bound = samples // num_bounds \n",
    "    params = []\n",
    "    loop = range(samples_per_bound)\n",
    "    for x in loop:\n",
    "        p = [x / samples_per_bound * (bounds[0][1] - bounds[0][0]) + bounds[0][0]]\n",
    "        params.append(p)\n",
    "    return params"
   ]
  },
  {
   "cell_type": "code",
   "execution_count": null,
   "metadata": {},
   "outputs": [],
   "source": [
    "# def gen_pdf(ansatz):\n",
    "#     fid_pdf = {}\n",
    "#     params = uniformly_random_params(ansatz)\n",
    "#     for i in range(1000):\n",
    "#         j = i / 1000 \n",
    "#         fid_pdf[j] = fid_pdf.get(j, 0) + "
   ]
  },
  {
   "cell_type": "code",
   "execution_count": 42,
   "metadata": {},
   "outputs": [
    {
     "name": "stdout",
     "output_type": "stream",
     "text": [
      "4.268697949366879\n"
     ]
    }
   ],
   "source": [
    "eye_prob = [0 for i in range(74)] + [1]\n",
    "total_kl_div = 0\n",
    "for i in range(len(hist)): \n",
    "    total_kl_div += kl_div(eye_prob[i], hist[i])\n",
    "print(total_kl_div)"
   ]
  },
  {
   "cell_type": "code",
   "execution_count": null,
   "metadata": {},
   "outputs": [],
   "source": []
  }
 ],
 "metadata": {
  "kernelspec": {
   "display_name": "Python 3",
   "language": "python",
   "name": "python3"
  },
  "language_info": {
   "codemirror_mode": {
    "name": "ipython",
    "version": 3
   },
   "file_extension": ".py",
   "mimetype": "text/x-python",
   "name": "python",
   "nbconvert_exporter": "python",
   "pygments_lexer": "ipython3",
   "version": "3.6.9"
  }
 },
 "nbformat": 4,
 "nbformat_minor": 4
}
