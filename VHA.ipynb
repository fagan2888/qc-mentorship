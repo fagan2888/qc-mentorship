{
 "cells": [
  {
   "cell_type": "markdown",
   "metadata": {},
   "source": [
    "# Using the Variational Hamiltonian Ansatz on the Hubbard model\n",
    "\n",
    "The Hubbard model is a simplification of correlated electrons. Despite its simplistic structure, the Hubbard model is able to capture some interesting physics, such as the transition of a solid from a conducting to insulating state and some superconducting effects (though I don't yet understand any of this). \n",
    "\n",
    "In this notebook, we'll briefly describe the Hubbard model and then try to use the VHA to solve it. \n",
    "\n",
    "$\\newcommand{\\ket}[1]{\\lvert #1 \\rangle}$\n",
    "$\\newcommand{\\bra}[1]{\\langle #1 \\rvert}$\n",
    "$\\newcommand{\\braket}[1]{\\langle #1 \\rangle}$\n",
    "\n",
    "**Update 1**: I started by defining my own classes/functions for creation/annihilation operators, the Jordan-Wigner transform, the square lattice for the Hubbard Hamiltonian, the Hubbard Hamiltonian's matrix representation, and the Variational Hamiltonian Ansatz (VHA). As expected, my code and computer's RAM wasn't enough to work with anything more than a 2x2 square lattice (which has 8 qubits, so exists 256-dimensional Hilbert space). What did surprise me was how much more efficient OpenFermion was, because when I tried it when SSHing onto a Google Cloud computer, I was able to quickly solve the ground state of up to a 2x10 square lattice Hubbard Hamiltonian. Most of the functions/classes I defined are still available in the tools/ folder if you want to take a look. "
   ]
  },
  {
   "cell_type": "code",
   "execution_count": 1,
   "metadata": {},
   "outputs": [],
   "source": [
    "import numpy as np\n",
    "import scipy.linalg\n",
    "import scipy.optimize \n",
    "\n",
    "from tools.utils import * \n",
    "tol = 0.005 # Tolerance for elementwise equality of matrices"
   ]
  },
  {
   "cell_type": "markdown",
   "metadata": {},
   "source": [
    "<a id=\"hubbard-ham\"></a>\n",
    "### Defining the Hubbard Hamiltonian \n",
    "\n",
    "The Hubbard Hamiltonian: \n",
    "$$ H = -t \\sum_{\\braket{j, k}, \\sigma} \\Big( c^\\dagger_{j\\sigma} c_{k\\sigma} + c^\\dagger_{k \\sigma} c_{j \\sigma} \\Big) + U \\sum_j n_{j \\uparrow} n_{j \\downarrow} - \\mu \\sum_j \\Big(n_{j\\uparrow} + n_{j\\downarrow} \\Big) $$\n",
    "\n",
    "The first term is kinetic energy, a fermion moving from one site to another. The symbol $\\braket{j, k}$ implies iterating over sites that are adjacent. \n",
    "\n",
    "The second term is interaction energy, additional energy for a doubly-occupied site. \n",
    "\n",
    "The third term is chemical potential, which controls the filling. "
   ]
  },
  {
   "cell_type": "markdown",
   "metadata": {},
   "source": [
    "### 2D Hubbard Hamiltonian on a Square Lattice \n",
    "\n",
    "We'll use OpenFermion's `HubbardSquareLattice` class to define our lattice. OpenFermion has a simpler function `fermi_hubbard()` to create a `FermionOperator` to describe our system, but this doesn't give us access to the specific hopping terms in the Hamiltonian (the terms in the first summation above), which we'll need for the Variational Hamiltonian Ansatz. "
   ]
  },
  {
   "cell_type": "code",
   "execution_count": 9,
   "metadata": {},
   "outputs": [],
   "source": [
    "from openfermion.utils import HubbardSquareLattice\n",
    "# HubbardSquareLattice parameters\n",
    "x_n = 2\n",
    "y_n = 2\n",
    "n_dofs = 1 # 1 degree of freedom for spin, this might be wrong. Having only one dof means ordered=False. \n",
    "periodic = 0 # Not sure what this is, periodic boundary conditions?\n",
    "spinless = 0 # Has spin\n",
    "\n",
    "lattice = HubbardSquareLattice(x_n, y_n, n_dofs=n_dofs, periodic=periodic, spinless=spinless)"
   ]
  },
  {
   "cell_type": "markdown",
   "metadata": {},
   "source": [
    "Now, we'll create a `FermiHubbardModel` instance by passing it our `HubbardSquareLattice` instance defined above. \n",
    "\n",
    "To get the `FermionOperator` instance, we need to call `FermiHubbardModel.hamiltonian()`. The [documentation](https://openfermion.readthedocs.io/en/latest/openfermion.html#openfermion.hamiltonians.FermiHubbardModel) isn't that great here, but the [source code](https://github.com/quantumlib/OpenFermion/blob/master/src/openfermion/hamiltonians/_general_hubbard.py) indicates we do indeed get a `FermionOperator` instance which we'll need for calculating ground state, etc. \n",
    "\n",
    "We can't just pass an integer for $t$, $U$, or $\\mu$ in this class. Instead, we have to specify the *specific* coefficient for each pair and edge type ($t_{ij}^{\\textrm{horizontal neighbor}}$). This will be useful later on, I think, because [1506.05135](https://arxiv.org/abs/1506.05135) says we'll need the indices for different values during adiabatic evolution. "
   ]
  },
  {
   "cell_type": "code",
   "execution_count": 10,
   "metadata": {},
   "outputs": [],
   "source": [
    "from openfermion.hamiltonians import FermiHubbardModel\n",
    "from openfermion.utils import SpinPairs\n",
    "tunneling = [('neighbor', (0, 0), 1.)] # Not sure if this is right\n",
    "interaction = [('onsite', (0, 0), 2., SpinPairs.DIFF)] # Not sure if this is right\n",
    "potential = [(0, 1.)]\n",
    "mag_field = 0. \n",
    "particle_hole_sym = False # Not sure if this is right"
   ]
  },
  {
   "cell_type": "code",
   "execution_count": 11,
   "metadata": {},
   "outputs": [],
   "source": [
    "hubbard = FermiHubbardModel(lattice , tunneling_parameters=tunneling, interaction_parameters=interaction, \n",
    "                            potential_parameters=potential, magnetic_field=mag_field, \n",
    "                            particle_hole_symmetry=particle_hole_sym)"
   ]
  },
  {
   "cell_type": "markdown",
   "metadata": {},
   "source": [
    "## Use adiabatic evolution to find correct starting state\n",
    "\n",
    "Get ground state of Hubbard Hamiltonian so we can check if evolution works."
   ]
  },
  {
   "cell_type": "code",
   "execution_count": 12,
   "metadata": {},
   "outputs": [
    {
     "name": "stdout",
     "output_type": "stream",
     "text": [
      "Ground state energy:  -6.828427124746201\n"
     ]
    }
   ],
   "source": [
    "from openfermion.transforms import get_sparse_operator\n",
    "from openfermion.utils import get_ground_state \n",
    "hub_sparse = get_sparse_operator(hubbard.hamiltonian())\n",
    "genergy, gstate = get_ground_state(hub_sparse)\n",
    "print(\"Ground state energy: \", genergy)"
   ]
  },
  {
   "cell_type": "markdown",
   "metadata": {},
   "source": [
    "Get spectrum of quadratic terms in Hubbard Hamiltonian. I'll call the quadratic sub-Hamiltonian `quad`. "
   ]
  },
  {
   "cell_type": "code",
   "execution_count": 13,
   "metadata": {},
   "outputs": [],
   "source": [
    "quad = hubbard.tunneling_terms() + hubbard.potential_terms()\n",
    "quad_sparse = get_sparse_operator(quad)"
   ]
  },
  {
   "cell_type": "markdown",
   "metadata": {},
   "source": [
    "Perturb `quad_sparse` with `hub_sparse`. "
   ]
  },
  {
   "cell_type": "code",
   "execution_count": 14,
   "metadata": {},
   "outputs": [],
   "source": [
    "s = 1e-3\n",
    "per_sparse = (1-s)*quad_sparse + s*hub_sparse\n",
    "w_per, v_per = scipy.sparse.linalg.eigsh(per_sparse, k=np.shape(per_sparse)[0]-2, which='SA')"
   ]
  },
  {
   "cell_type": "markdown",
   "metadata": {},
   "source": [
    "Now we'll run adiabatic evolution on vectors `v_per[:, i]` until we find one that evolves to have high overlap with `gstate`. "
   ]
  },
  {
   "cell_type": "code",
   "execution_count": 15,
   "metadata": {},
   "outputs": [],
   "source": [
    "from openfermion.utils import inner_product\n",
    "def overlap(a, b):\n",
    "    \"\"\"Calculates the overlap between vectors a and b. This metric is also known as fidelity. \"\"\"\n",
    "    inner = inner_product(a, b)\n",
    "    return (np.conjugate(inner) * inner).real"
   ]
  },
  {
   "cell_type": "code",
   "execution_count": 16,
   "metadata": {},
   "outputs": [],
   "source": [
    "H = lambda s: (1-s)*quad_sparse + s*hub_sparse\n",
    "best_per_state = None"
   ]
  },
  {
   "cell_type": "code",
   "execution_count": 17,
   "metadata": {},
   "outputs": [
    {
     "name": "stdout",
     "output_type": "stream",
     "text": [
      "After evolution the fidelity was:  0.9995704006793069\n",
      "Overlap with perturbed eigenvector and true ground state is:  0.9420852496880102\n"
     ]
    }
   ],
   "source": [
    "n = 5\n",
    "t = 1 \n",
    "for col in range(v_per.shape[1]):\n",
    "    state = v_per[:, col]\n",
    "    for i in range(n):\n",
    "        s = i / (n-1)\n",
    "        e = scipy.linalg.expm(-1j * H(s) * t)\n",
    "#         e = scipy.linalg.expm(-1j * (1-s) * quad_sparse * t) * scipy.linalg.expm(-1j * s * hub_sparse * t)\n",
    "        state = e.dot(state)\n",
    "    fid = overlap(state, gstate)\n",
    "    if fid > .6:\n",
    "        print(\"After evolution the fidelity was: \", fid)\n",
    "        best_per_state = v_per[:, col]\n",
    "        print(\n",
    "            \"Overlap with perturbed eigenvector and true ground state is: \",\n",
    "            overlap(best_per_state, gstate))\n",
    "        break"
   ]
  },
  {
   "cell_type": "markdown",
   "metadata": {},
   "source": [
    "When I don't split up the exponents and just pretend we can have no Trotter error, I get arbitrarily close to perfect overlap even with 5 iterations! So Trotter error is the problem..."
   ]
  },
  {
   "cell_type": "markdown",
   "metadata": {},
   "source": [
    "## Variational Hamiltonian Ansatz\n",
    "\n",
    "The VHA is an ansatz inspired by time-evolution of the system. It splits the Hamiltonian into sub-operators and then does time-evolution for those operators: \n",
    "$$\\large U(\\theta) = \\prod_{k=1}^n \\prod_{\\alpha=1}^N \\exp \\Big( i\\theta_{\\alpha, k} H_{\\alpha} \\Big) $$\n",
    "where $H_\\alpha$ are the sub-Hamiltonians and $\\theta$ are the parameters being optimized. \n",
    "\n",
    "**Question:** Why is this a good ansatz? It seems it only has access to states that are evolutions of the state we start with. Why is that a guarantee that it'll approximate the ground state? \n",
    "\n",
    "**Answer:** It's based on adiabatic evolution. I don't understand this but somehow if we start by evolving the ground state of a Hamiltonian (non-interacting part in this case) and then slowly start replacing it with another Hamiltonian (full Hubbard Hamiltonian), we get the corresponding ground state of the new Hamiltonian by magic. \n",
    "\n",
    "In [1811.04476](https://arxiv.org/pdf/1811.04476.pdf) they use $N=5$, splitting it as I did above: even and odd horizontal hopping terms, even and odd vertical horizontal terms, and the on-site interaction terms. "
   ]
  },
  {
   "cell_type": "code",
   "execution_count": 28,
   "metadata": {},
   "outputs": [],
   "source": [
    "from openfermioncirq import SwapNetworkTrotterHubbardAnsatz\n",
    "\n",
    "steps = 2\n",
    "ansatz = SwapNetworkTrotterHubbardAnsatz(x_n, y_n, 1., 2., periodic=False, iterations=steps)"
   ]
  },
  {
   "cell_type": "code",
   "execution_count": 29,
   "metadata": {},
   "outputs": [],
   "source": [
    "from openfermioncirq import SwapNetworkTrotterAnsatz\n",
    "from openfermion.transforms import get_diagonal_coulomb_hamiltonian\n",
    "ansatz = SwapNetworkTrotterAnsatz(get_diagonal_coulomb_hamiltonian(hubbard.hamiltonian()), iterations=steps)"
   ]
  },
  {
   "cell_type": "code",
   "execution_count": 30,
   "metadata": {},
   "outputs": [
    {
     "data": {
      "text/plain": [
       "40"
      ]
     },
     "execution_count": 30,
     "metadata": {},
     "output_type": "execute_result"
    }
   ],
   "source": [
    "len(ansatz.default_initial_params())"
   ]
  },
  {
   "cell_type": "code",
   "execution_count": 31,
   "metadata": {},
   "outputs": [
    {
     "name": "stdout",
     "output_type": "stream",
     "text": [
      "Optimal ground state energy is -6.763729979723226\n"
     ]
    }
   ],
   "source": [
    "from openfermioncirq import HamiltonianObjective, VariationalStudy \n",
    "from openfermioncirq.optimization import ScipyOptimizationAlgorithm, OptimizationParams\n",
    "\n",
    "# Define our objective function as the expectation of the Hubbard Hamiltonian\n",
    "obj = HamiltonianObjective(hubbard.hamiltonian())\n",
    "\n",
    "# Define our VariationalStudy \n",
    "study = VariationalStudy(\n",
    "    'Hubbard-VHA', \n",
    "    ansatz, \n",
    "    obj, \n",
    "    initial_state=best_per_state)\n",
    "\n",
    "# Choose our optimization algorithm \n",
    "algorithm = ScipyOptimizationAlgorithm(kwargs={'method': 'L-BFGS-B'}, uses_bounds=True)\n",
    "optimization_params = OptimizationParams(algorithm=algorithm)\n",
    "\n",
    "# Optimize \n",
    "result = study.optimize(optimization_params)\n",
    "\n",
    "print(\"Optimal ground state energy is {}\".format(result.optimal_value))"
   ]
  },
  {
   "cell_type": "code",
   "execution_count": 32,
   "metadata": {},
   "outputs": [
    {
     "name": "stdout",
     "output_type": "stream",
     "text": [
      "VHA ground state and true ground state have an overlap of 0.9915908481547779\n"
     ]
    }
   ],
   "source": [
    "from cirq import resolve_parameters\n",
    "\n",
    "optimal_params = study.trial_results[0].optimal_parameters\n",
    "VHA_ground_state = resolve_parameters(\n",
    "    study.circuit, study.ansatz.param_resolver(optimal_params)).final_wavefunction(best_per_state)\n",
    "\n",
    "print(\"VHA ground state and true ground state have an overlap of {}\".format(\n",
    "    overlap(VHA_ground_state, gstate)))"
   ]
  },
  {
   "cell_type": "markdown",
   "metadata": {},
   "source": [
    "Okay, I just got an overlap of 0.9996060048066143 ! Never mind, this was when I did adiabatic evolution without Trotter error and then used the final state as input.\n",
    "\n",
    "TAKE 2: YES! I got 0.9915908481547779 with `SwapNetworkTrotter`!"
   ]
  },
  {
   "cell_type": "markdown",
   "metadata": {},
   "source": [
    "### Analyzing optimal parameters "
   ]
  },
  {
   "cell_type": "code",
   "execution_count": 33,
   "metadata": {},
   "outputs": [
    {
     "data": {
      "text/plain": [
       "array([-0.02209147, -2.        , -0.99999155,  0.15397276, -2.        ,\n",
       "        1.        ,  0.28026119, -1.49999993,  0.99996847,  0.08392853,\n",
       "       -1.24053587,  1.        , -0.08393042, -1.25946489,  1.        ])"
      ]
     },
     "execution_count": 33,
     "metadata": {},
     "output_type": "execute_result"
    }
   ],
   "source": [
    "optimal_params"
   ]
  },
  {
   "cell_type": "markdown",
   "metadata": {},
   "source": [
    "We have 15 parameters - 3 for each of the 5 steps. Notice the first 2 of each step (the tunneling term parameters) are the same, like we'd expect for adiabatic evolution. The final parameter in each step seems to increment by a constant amount. Looks like we exactly followed adiabatic evolution...\n",
    "\n",
    "**UPDATE**: it doesn't look like it's following adiabatic evolution at all! I copied the result in case this doesn't always happen (Nevermind this happened when we didn't use Trotter error for adiabatic evolution and used the final state as input): \n",
    "\n",
    "```\n",
    "array([-0.00496074, -0.99857477, -0.99782215,  0.22178394, -1.99953177,\n",
    "        1.        ,  0.38438499, -1.99758694,  1.        ,  0.18889494,\n",
    "       -2.        ,  0.9994578 , -0.03240713, -1.99841714,  0.99809175])\n",
    "```\n"
   ]
  },
  {
   "cell_type": "markdown",
   "metadata": {},
   "source": [
    "### Analyzing ground state"
   ]
  },
  {
   "cell_type": "markdown",
   "metadata": {},
   "source": [
    "First, let's see how many non-zero elements the state vector of the ground state has: "
   ]
  },
  {
   "cell_type": "code",
   "execution_count": 17,
   "metadata": {},
   "outputs": [
    {
     "name": "stdout",
     "output_type": "stream",
     "text": [
      "The 256-dimensionsal ground state vector has 26 non-zero elements.\n"
     ]
    }
   ],
   "source": [
    "total_elems = 0\n",
    "for elem in VHA_ground_state: \n",
    "    if np.abs(elem) > tol: \n",
    "        total_elems += 1\n",
    "print(\"The {}-dimensionsal ground state vector has {} non-zero elements.\".format(\n",
    "    VHA_ground_state.shape[0], total_elems))"
   ]
  },
  {
   "cell_type": "markdown",
   "metadata": {},
   "source": [
    "Great! It's very sparse. If there was only 1 non-zero element, then we could decompose it into tensor products in the computational basis state easily. Let's see what the individual elements are. "
   ]
  },
  {
   "cell_type": "code",
   "execution_count": 18,
   "metadata": {},
   "outputs": [
    {
     "name": "stdout",
     "output_type": "stream",
     "text": [
      "Norm is 0.9999999999999993\n",
      "The distinct elements in the ground state vector along with their counts are: \n",
      " {'(3.531258445458908e-17-5.922244357515916e-17j)': 230, '(0.17317973097207984-0.03486891620370244j)': 10, '(-0.1732845543609144+0.03490775104243755j)': 14, '(0.34669518908097463-0.0698637839107824j)': 2}\n"
     ]
    }
   ],
   "source": [
    "# Make sure norm is 1 \n",
    "print(\"Norm is {}\".format(np.linalg.norm(VHA_ground_state)))\n",
    "             \n",
    "# This finds every distinct element in VHA_ground_state (up to a tolerance) \n",
    "# and counts its occurences\n",
    "common_elems = {}\n",
    "for elem in VHA_ground_state: \n",
    "    # Check if it's already in common_elems \n",
    "    array_common_elems = [complex(e) for e in list(common_elems.keys())]\n",
    "    match = np.isclose(array_common_elems, elem, rtol=0, atol=tol)\n",
    "    if match.any():\n",
    "        common_elems[str(array_common_elems[match.argmax()])] += 1\n",
    "    else: \n",
    "        common_elems[str(elem)] = 1\n",
    "        \n",
    "print(\"The distinct elements in the ground state vector along with their counts are: \\n\", common_elems)"
   ]
  },
  {
   "cell_type": "markdown",
   "metadata": {},
   "source": [
    "Interesting, 10 of the non-zero elements have the same value, let's call this $a$. And the other 6 have the value $-a$. I guess I could decompose this into a sum of 16 pure states, but I don't think we'll get much insight into the system with that..."
   ]
  },
  {
   "cell_type": "markdown",
   "metadata": {},
   "source": [
    "Let's just get the average measurement for each of the qubits. "
   ]
  },
  {
   "cell_type": "code",
   "execution_count": 32,
   "metadata": {},
   "outputs": [],
   "source": [
    "VHA_ground_state = gstate"
   ]
  },
  {
   "cell_type": "code",
   "execution_count": 33,
   "metadata": {},
   "outputs": [
    {
     "data": {
      "text/plain": [
       "array([0.50263, 0.49806, 0.49855, 0.50104, 0.49849, 0.50009, 0.5029 ,\n",
       "       0.49815, 0.50035, 0.49897, 0.49746, 0.50284, 0.50173, 0.50309,\n",
       "       0.49789, 0.49776])"
      ]
     },
     "execution_count": 33,
     "metadata": {},
     "output_type": "execute_result"
    }
   ],
   "source": [
    "from cirq import measure_state_vector\n",
    "\n",
    "hundred_thousand_measurements = np.array(\n",
    "    [measure_state_vector(VHA_ground_state, range(2 *x_n*y_n))[0] for _ in range(100000)])\n",
    "np.mean(hundred_thousand_measurements, axis=0)"
   ]
  },
  {
   "cell_type": "markdown",
   "metadata": {},
   "source": [
    "Well that's boring! Each qubit has an average value of 0.5. They're completely uniform! \n",
    "\n",
    "Let's think about what this means. We used Jordan-Wigner encoding which means the qubit corresponding to a spin-orbital is $\\ket{1}$ if there's an electron in that spin-orbital, and $\\ket{0}$ if there isn't. The uniform is indeed half-filling. \n",
    "\n",
    "This also means we don't prefer any spin over the other, which makes it unlikely magnetic moments will form. "
   ]
  },
  {
   "cell_type": "code",
   "execution_count": 26,
   "metadata": {},
   "outputs": [],
   "source": [
    "for trial in hundred_thousand_measurements: \n",
    "    if np.count_nonzero(trial) != x_n*y_n: \n",
    "        print(np.count_nonzero(trial))"
   ]
  },
  {
   "cell_type": "markdown",
   "metadata": {},
   "source": [
    "Nothing printed, so we didn't get a *single measurement* where we didn't have four $\\ket{1}$'s. This means I was wrong. The ground state distribution *isn't* random: it's entangled in some way to give us at most 4 electrons in the 4 site model. (Of course, we set $\\mu$ in order to get this half-filling behavior but it's nice to verify that it works 100% of the time.)\n",
    "\n",
    "Well, this is more interesting. I wonder if the spin-up and spin-down results are correlated in any way. Here's how we'll check this: the first 4 qubits correspond to spin-up and the last 4 qubits correspond to spin-down so that indices $i$ and $i+4$ correspond to the spin-up and spin-down electrons on the $i$th site. This means if there're always two $\\ket{1}$'s in the first 4 qubits and two $\\ket{1}$'s in the last 4 qubits, there're always 2 spin-up and 2 spin-down electrons in every ground state. \n",
    "\n",
    "We can also check how often they're on the same site, though I suspect we'll never find 2 electrons on the same site because of the interaction energy $U$. "
   ]
  },
  {
   "cell_type": "code",
   "execution_count": 27,
   "metadata": {},
   "outputs": [
    {
     "name": "stdout",
     "output_type": "stream",
     "text": [
      "Number of trials with unequal spin-up and spin-down electrons:  31097\n",
      "Number of trials with at least 2 electrons on the same site:  37622\n"
     ]
    }
   ],
   "source": [
    "n_states_unequal_spins = 0\n",
    "n_states_correlated_spins = 0\n",
    "for trial in hundred_thousand_measurements: \n",
    "    spin_up_qubits = trial[:x_n*y_n]\n",
    "    spin_down_qubits = trial[x_n*y_n:]\n",
    "    \n",
    "    if np.count_nonzero(spin_up_qubits) != np.count_nonzero(spin_down_qubits):\n",
    "        n_states_unequal_spins += 1\n",
    "    \n",
    "    for i in range(x_n*y_n):\n",
    "        if spin_up_qubits[i] == 1 and spin_down_qubits[i] == 1: \n",
    "            n_states_correlated_spins += 1\n",
    "            break\n",
    "\n",
    "print(\"Number of trials with unequal spin-up and spin-down electrons: \", n_states_unequal_spins)\n",
    "print(\"Number of trials with at least 2 electrons on the same site: \", n_states_correlated_spins)"
   ]
  },
  {
   "cell_type": "markdown",
   "metadata": {},
   "source": [
    "Huh, looks like both my guesses were wrong. In about 1/5 of the trials, we had unequal spin-up and spin-down electrons. *This means there's a chance for magnetism.* It also turns out that in about 1/3 of the trials, the ground state had a fully occupied site, which I didn't expect because of the additional interaction energy associated with it. \n",
    "\n",
    "Finally, let's look at the distribution of electron spins. We know that we sometimes get a nonzero local moment, but I suspect the number of trials with spin-up and spin-down local moments will be roughly equal. "
   ]
  },
  {
   "cell_type": "code",
   "execution_count": 34,
   "metadata": {},
   "outputs": [],
   "source": [
    "total_spin_ups = []\n",
    "for trial in hundred_thousand_measurements: \n",
    "    # We only care about number of qubits here. Since we know we always \n",
    "    # have 4 total qubits, we can look only at the spin-ups. \n",
    "    spin_up_qubits = trial[:x_n*y_n] \n",
    "    n_spin_ups = np.count_nonzero(spin_up_qubits)\n",
    "    # n_states_spin_up[str(n_spin_ups)] += 1\n",
    "    total_spin_ups.append(n_spin_ups)"
   ]
  },
  {
   "cell_type": "code",
   "execution_count": 37,
   "metadata": {},
   "outputs": [
    {
     "data": {
      "image/png": "[encoded data removed]",
      "text/plain": [
       "<Figure size 432x288 with 1 Axes>"
      ]
     },
     "metadata": {
      "needs_background": "light"
     },
     "output_type": "display_data"
    }
   ],
   "source": [
    "import matplotlib.pyplot as plt\n",
    "plt.hist(total_spin_ups, bins=5)\n",
    "# plt.hist(total_spin_ups)\n",
    "plt.title(\"Spin polarization for 100k trials - 4x2 lattice\")\n",
    "plt.xlabel(\"Spin up electrons\")\n",
    "plt.ylabel(\"Trials\")\n",
    "plt.show()\n",
    "# plt.savefig(\"symmetric_spins_4x2.png\")"
   ]
  },
  {
   "cell_type": "code",
   "execution_count": null,
   "metadata": {},
   "outputs": [],
   "source": []
  }
 ],
 "metadata": {
  "@webio": {
   "lastCommId": null,
   "lastKernelId": null
  },
  "kernelspec": {
   "display_name": "Python 3",
   "language": "python",
   "name": "python3"
  },
  "language_info": {
   "codemirror_mode": {
    "name": "ipython",
    "version": 3
   },
   "file_extension": ".py",
   "mimetype": "text/x-python",
   "name": "python",
   "nbconvert_exporter": "python",
   "pygments_lexer": "ipython3",
   "version": "3.6.9"
  }
 },
 "nbformat": 4,
 "nbformat_minor": 4
}
