{
 "cells": [
  {
   "cell_type": "markdown",
   "metadata": {},
   "source": [
    "In [1701.08213](https://arxiv.org/abs/1701.08213v1), Bravyi et al. propose schemes based on error-correction for reducing the number of qubits a Hamiltonian acts on. I only focused on Section VII and VIII, which focused on $\\mathbb{Z}_2$ symmetries ($\\pm 1$). Section VII proposed a way to systematically remove 2 qubits from a Hamiltonian by exploiting conservation of electron number and spin. Section VIII proposes a general algorithm for reducing qubit number by using multiple $\\mathbb{Z}_2$ symmetries. \n",
    "\n",
    "By the way, the [Oxford review paper](https://arxiv.org/abs/1808.10402) devotes Section IV.C.1 to explaining the 2-qubit reduction and Section VII.A.2 to an example on $H_2$. "
   ]
  },
  {
   "cell_type": "markdown",
   "metadata": {},
   "source": [
    "### Section VII: Discrete $\\mathbb{Z}_2$ symmetries - particle and spin conservation \n",
    "\n",
    "In the Bravyi-Kitaev encoding, the final row is all 1's and the middle row's first half is filled with 1's. If particle number and spin is conserved, the final element in the state vector will always be the same particle number and the middle element in the state vector will always be the number of spin-up electrons. \n",
    "\n",
    "Since any Hamiltonian can be decomposed into Pauli matrices and these two elements must remain constant, the operators acting on these must be either $I$ or $Z$. All these do is add a global phase, so we can just apply the eigenvalues directly and remove the qubits along with the corresponding $I$ and $Z$ operators on those qubits in the Hamiltonian. \n",
    "\n",
    "**Insights:**\n",
    "- We have to order electrons based on spin. Save the first $N/2$ qubits for spin-up and last $N/2$ qubits for spin-down. \n",
    "- We have to use the BK/BK-Tree/Parity encodings. "
   ]
  },
  {
   "cell_type": "code",
   "execution_count": null,
   "metadata": {},
   "outputs": [],
   "source": []
  }
 ],
 "metadata": {
  "kernelspec": {
   "display_name": "Python 3",
   "language": "python",
   "name": "python3"
  },
  "language_info": {
   "codemirror_mode": {
    "name": "ipython",
    "version": 3
   },
   "file_extension": ".py",
   "mimetype": "text/x-python",
   "name": "python",
   "nbconvert_exporter": "python",
   "pygments_lexer": "ipython3",
   "version": "3.6.9"
  }
 },
 "nbformat": 4,
 "nbformat_minor": 4
}
