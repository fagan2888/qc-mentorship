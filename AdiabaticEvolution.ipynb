{
 "cells": [
  {
   "cell_type": "markdown",
   "metadata": {},
   "source": [
    "Testing out adiabatic evolution on $2 \\times 2$ matrices"
   ]
  },
  {
   "cell_type": "code",
   "execution_count": 86,
   "metadata": {},
   "outputs": [],
   "source": [
    "import numpy as np\n",
    "import scipy.linalg\n",
    "import scipy.sparse\n",
    "import matplotlib.pyplot as plt\n",
    "tol = 1e-5"
   ]
  },
  {
   "cell_type": "code",
   "execution_count": 2,
   "metadata": {},
   "outputs": [],
   "source": [
    "H_A = np.array([[1, 0], [0, -1]])\n",
    "# H_B = np.array([[0, 1], [1, 0]]) # If this is H_B, there isn't a crossing\n",
    "H_B = np.array([[-5, 0], [0, 4]]) # If this is H_B, there is a crossing so ground state goes to excited state\n",
    "H = lambda s: (1-s)*H_A + s*H_B\n",
    "psi_A = np.array([0, 1])"
   ]
  },
  {
   "cell_type": "code",
   "execution_count": 3,
   "metadata": {},
   "outputs": [
    {
     "data": {
      "text/plain": [
       "array([ 0, -1])"
      ]
     },
     "execution_count": 3,
     "metadata": {},
     "output_type": "execute_result"
    }
   ],
   "source": [
    "np.dot(H_A, psi_A)"
   ]
  },
  {
   "cell_type": "code",
   "execution_count": 4,
   "metadata": {},
   "outputs": [],
   "source": [
    "# Let's do 5 steps: H(0), H(0.25), H(0.5), H(0.75), H(1) at t=1 \n",
    "n = 50\n",
    "t = 1\n",
    "res = psi_A\n",
    "for i in range(n): \n",
    "    s = i / (n-1)\n",
    "    res = np.dot(scipy.linalg.expm(-1j * H(s) * t), res)"
   ]
  },
  {
   "cell_type": "code",
   "execution_count": 5,
   "metadata": {},
   "outputs": [
    {
     "data": {
      "text/plain": [
       "array([0.        +0.j        , 0.92175127+0.38778164j])"
      ]
     },
     "execution_count": 5,
     "metadata": {},
     "output_type": "execute_result"
    }
   ],
   "source": [
    "res"
   ]
  },
  {
   "cell_type": "code",
   "execution_count": 6,
   "metadata": {},
   "outputs": [
    {
     "data": {
      "text/plain": [
       "array([0.        +0.j        , 3.68700508+1.55112654j])"
      ]
     },
     "execution_count": 6,
     "metadata": {},
     "output_type": "execute_result"
    }
   ],
   "source": [
    "np.dot(H_B, res)"
   ]
  },
  {
   "cell_type": "code",
   "execution_count": 7,
   "metadata": {},
   "outputs": [],
   "source": [
    "# Plot lowest two eigenvalues for n steps of H(s)\n",
    "x = np.arange(0, 1 + 1e-10, 1/(n-1))\n",
    "y_ground = [] \n",
    "y_excited = [] \n",
    "for i in range(n): \n",
    "    s = i / (n-1)\n",
    "    eig, _ = np.linalg.eigh(H(s)) # Should already be in ascending order \n",
    "    assert len(eig) == 2 \n",
    "    y_ground.append(eig[0])\n",
    "    y_excited.append(eig[1])"
   ]
  },
  {
   "cell_type": "code",
   "execution_count": 8,
   "metadata": {},
   "outputs": [
    {
     "data": {
      "image/png": "[encoded data removed]",
      "text/plain": [
       "<Figure size 432x288 with 1 Axes>"
      ]
     },
     "metadata": {
      "needs_background": "light"
     },
     "output_type": "display_data"
    }
   ],
   "source": [
    "plt.plot(x, y_ground, color='darkblue')\n",
    "plt.plot(x, y_excited, color='darkblue')\n",
    "plt.title(\"$Z$ to [[-5, 0], [0, 4]]\")\n",
    "plt.xlabel('Value of $s$ in $H(s)$')\n",
    "plt.ylabel('Eigenvalues')\n",
    "plt.show()\n",
    "# plt.savefig('adiabatic_crossing.png')"
   ]
  },
  {
   "cell_type": "markdown",
   "metadata": {},
   "source": [
    "Adiabatic evolution for 2x1 Hubbard"
   ]
  },
  {
   "cell_type": "code",
   "execution_count": 9,
   "metadata": {},
   "outputs": [],
   "source": [
    "from openfermion.utils import HubbardSquareLattice \n",
    "\n",
    "x_n = 2 \n",
    "y_n = 1\n",
    "n_dofs = 1\n",
    "periodic = 0\n",
    "spinless = 0 \n",
    "\n",
    "lattice = HubbardSquareLattice(x_n, y_n, n_dofs=n_dofs, periodic=periodic, spinless=spinless)\n",
    "\n",
    "from openfermion.hamiltonians import FermiHubbardModel\n",
    "from openfermion.utils import SpinPairs\n",
    "tunneling = [('neighbor', (0, 0), 1.)] \n",
    "interaction = [('onsite', (0, 0), 2., SpinPairs.DIFF)] \n",
    "potential = None\n",
    "mag_field = 0. \n",
    "particle_hole_sym = False \n",
    "\n",
    "hubbard = FermiHubbardModel(lattice , tunneling_parameters=tunneling, interaction_parameters=interaction, \n",
    "                            potential_parameters=potential, magnetic_field=mag_field, \n",
    "                            particle_hole_symmetry=particle_hole_sym)\n",
    "# 4 qubits so 2^4 = 16 dimensional state space"
   ]
  },
  {
   "cell_type": "code",
   "execution_count": 10,
   "metadata": {},
   "outputs": [
    {
     "data": {
      "text/plain": [
       "-1.0 [0^ 2] +\n",
       "-1.0 [1^ 3] +\n",
       "-1.0 [2^ 0] +\n",
       "-1.0 [3^ 1]"
      ]
     },
     "execution_count": 10,
     "metadata": {},
     "output_type": "execute_result"
    }
   ],
   "source": [
    "hubbard.tunneling_terms()"
   ]
  },
  {
   "cell_type": "code",
   "execution_count": 11,
   "metadata": {},
   "outputs": [],
   "source": [
    "from openfermion.transforms import get_sparse_operator \n",
    "from openfermion.utils import get_ground_state\n",
    "\n",
    "H_A = get_sparse_operator(hubbard.tunneling_terms())\n",
    "H_B = get_sparse_operator(hubbard.hamiltonian())\n",
    "H = lambda s: (1-s)*H_A + s*H_B\n",
    "psi_A = get_ground_state(H_A)[1] # We can use this because no degeneracy in 2x1 model"
   ]
  },
  {
   "cell_type": "code",
   "execution_count": 12,
   "metadata": {},
   "outputs": [
    {
     "data": {
      "text/plain": [
       "array([ 0.0000000e+00+0.0000000e+00j,  0.0000000e+00+0.0000000e+00j,\n",
       "        0.0000000e+00+0.0000000e+00j, -4.9999997e-01+1.2246467e-16j,\n",
       "        0.0000000e+00+0.0000000e+00j, -3.0616168e-17+5.6240991e-33j,\n",
       "        4.9999997e-01-6.1232336e-17j,  0.0000000e+00+0.0000000e+00j,\n",
       "        0.0000000e+00+0.0000000e+00j, -4.9999997e-01+6.1232336e-17j,\n",
       "        9.1848507e-17-5.6240995e-33j,  0.0000000e+00+0.0000000e+00j,\n",
       "       -4.9999997e-01+0.0000000e+00j,  0.0000000e+00+0.0000000e+00j,\n",
       "        0.0000000e+00+0.0000000e+00j,  0.0000000e+00+0.0000000e+00j],\n",
       "      dtype=complex64)"
      ]
     },
     "execution_count": 12,
     "metadata": {},
     "output_type": "execute_result"
    }
   ],
   "source": [
    "# Using final_wavefunction and prepare_gaussian_state \n",
    "from openfermion import get_quadratic_hamiltonian\n",
    "from openfermioncirq import prepare_gaussian_state\n",
    "from cirq import Circuit, final_wavefunction, LineQubit\n",
    "psi_A = final_wavefunction(Circuit(prepare_gaussian_state(\n",
    "    LineQubit.range(4), \n",
    "    get_quadratic_hamiltonian(hubbard.tunneling_terms()))))\n",
    "psi_A"
   ]
  },
  {
   "cell_type": "code",
   "execution_count": 13,
   "metadata": {},
   "outputs": [
    {
     "name": "stdout",
     "output_type": "stream",
     "text": [
      "[ 0.0000000e+00+0.0000000e+00j  0.0000000e+00+0.0000000e+00j\n",
      "  0.0000000e+00+0.0000000e+00j -4.9999997e-01+1.2246467e-16j\n",
      "  0.0000000e+00+0.0000000e+00j -3.0616168e-17+5.6240991e-33j\n",
      "  4.9999997e-01-6.1232336e-17j  0.0000000e+00+0.0000000e+00j\n",
      "  0.0000000e+00+0.0000000e+00j -4.9999997e-01+6.1232336e-17j\n",
      "  9.1848507e-17-5.6240995e-33j  0.0000000e+00+0.0000000e+00j\n",
      " -4.9999997e-01+0.0000000e+00j  0.0000000e+00+0.0000000e+00j\n",
      "  0.0000000e+00+0.0000000e+00j  0.0000000e+00+0.0000000e+00j]\n"
     ]
    }
   ],
   "source": [
    "# Let's do 5 steps: H(0), H(0.25), H(0.5), H(0.75), H(1) at t=1 \n",
    "n = 5\n",
    "t = 1\n",
    "res = psi_A\n",
    "print(res)\n",
    "for i in range(n): \n",
    "    s = i / (n-1)\n",
    "#     res = np.dot(sp.expm(-1j * H(s) * t), res)\n",
    "    e = scipy.linalg.expm(-1j * H(s) * t)\n",
    "    res = e.dot(res)"
   ]
  },
  {
   "cell_type": "code",
   "execution_count": 14,
   "metadata": {},
   "outputs": [
    {
     "data": {
      "text/plain": [
       "array([ 0.00000000e+00+0.00000000e+00j,  0.00000000e+00+0.00000000e+00j,\n",
       "        0.00000000e+00+0.00000000e+00j,  6.59063564e-02-3.53071442e-01j,\n",
       "        0.00000000e+00+0.00000000e+00j, -3.06161680e-17+5.62409909e-33j,\n",
       "       -3.58082448e-02+6.08041626e-01j,  0.00000000e+00+0.00000000e+00j,\n",
       "        0.00000000e+00+0.00000000e+00j,  3.58082448e-02-6.08041626e-01j,\n",
       "        9.18485073e-17-5.62409946e-33j,  0.00000000e+00+0.00000000e+00j,\n",
       "        6.59063564e-02-3.53071442e-01j,  0.00000000e+00+0.00000000e+00j,\n",
       "        0.00000000e+00+0.00000000e+00j,  0.00000000e+00+0.00000000e+00j])"
      ]
     },
     "execution_count": 14,
     "metadata": {},
     "output_type": "execute_result"
    }
   ],
   "source": [
    "res"
   ]
  },
  {
   "cell_type": "code",
   "execution_count": 15,
   "metadata": {},
   "outputs": [],
   "source": [
    "from openfermion.utils import inner_product \n",
    "\n",
    "def overlap(a, b):\n",
    "    \"\"\"Calculates the overlap between vectors a and b. This metric is also known as fidelity. \"\"\"\n",
    "    inner = inner_product(a, b)\n",
    "    return (np.conjugate(inner) * inner).real"
   ]
  },
  {
   "cell_type": "code",
   "execution_count": 16,
   "metadata": {},
   "outputs": [
    {
     "data": {
      "text/plain": [
       "0.9964795950032181"
      ]
     },
     "execution_count": 16,
     "metadata": {},
     "output_type": "execute_result"
    }
   ],
   "source": [
    "overlap(res, get_ground_state(H_B)[1]) # With 5 steps, we get 0.99648 overlap. Increases if we increase steps. "
   ]
  },
  {
   "cell_type": "markdown",
   "metadata": {},
   "source": [
    "Testing out adiabatic evolution for 2x2 Hubbard. This tunneling term has degnerate ground states so we have to be more specific which one we want to start with. "
   ]
  },
  {
   "cell_type": "code",
   "execution_count": 17,
   "metadata": {},
   "outputs": [],
   "source": [
    "y_n = 2\n",
    "lattice = HubbardSquareLattice(x_n, y_n, n_dofs=n_dofs, periodic=periodic, spinless=spinless)\n",
    "hubbard = FermiHubbardModel(lattice , tunneling_parameters=tunneling, interaction_parameters=interaction, \n",
    "                            potential_parameters=potential, magnetic_field=mag_field, \n",
    "                            particle_hole_symmetry=particle_hole_sym)"
   ]
  },
  {
   "cell_type": "code",
   "execution_count": 53,
   "metadata": {},
   "outputs": [
    {
     "name": "stdout",
     "output_type": "stream",
     "text": [
      "Perturbed eigenvector v_per[:, 0] has overlap 0.9770315592603948.\n",
      "Perturbed eigenvector v_per[:, 1] has overlap 5.3962971185307616e-20.\n",
      "Perturbed eigenvector v_per[:, 2] has overlap 6.0845511831931035e-22.\n",
      "Perturbed eigenvector v_per[:, 3] has overlap 3.8803890760857255e-24.\n",
      "Perturbed eigenvector v_per[:, 4] has overlap 1.768596525210091e-24.\n",
      "0.032101960327299166 0\n",
      "0.05684090919459847 24\n",
      "0.10190876106600559 27\n",
      "0.10423678708710912 28\n",
      "0.1840036269884679 30\n",
      "0.25756512903221257 32\n",
      "Tunneling eigenvector v_tun[:, 32] had the maximum overlap of 0.25756512903221257 with the best perturbed state.\n"
     ]
    }
   ],
   "source": [
    "from openfermion.transforms import get_sparse_operator\n",
    "\n",
    "# Lowest eigenvalue/vector of Hubbard Hamiltonian\n",
    "# The column v_hub[:, i] is the eigenvector corresponding to the eigenvalue w_hub[i]\n",
    "hub_sparse = get_sparse_operator(hubbard.hamiltonian())\n",
    "w_hub, v_hub = scipy.sparse.linalg.eigsh(hub_sparse, k=1, which='SA') \n",
    "\n",
    "# From looking at the spectrum,  I noticed the ground state was degenerate. \n",
    "# There were 16 eigenvectors with the lowest eigenvalue. \n",
    "# Actually, the initial state might not even be a ground state. Let's try \n",
    "# as many of the eigenvectors as we can. \n",
    "tun_sparse = get_sparse_operator(hubbard.tunneling_terms())\n",
    "# k can be at most n-2 where n is the dimension of the matrix\n",
    "w_tun, v_tun = scipy.sparse.linalg.eigsh(tun_sparse, k=np.shape(tun_sparse)[0]-2, which='SA')\n",
    "\n",
    "# Do a perturbation and find state with most overlap \n",
    "s = 1e-4\n",
    "int_sparse = get_sparse_operator(hubbard.interaction_terms())\n",
    "perturbed_sparse = tun_sparse + s * int_sparse\n",
    "\n",
    "w_per,v_per = scipy.sparse.linalg.eigsh(perturbed_sparse, k=5, which='SA') \n",
    "\n",
    "for i in range(len(w_per)):\n",
    "    fid = overlap(v_hub[:, 0], v_per[:, i])\n",
    "    print('Perturbed eigenvector v_per[:, {}] has overlap {}.'.format(i, fid))\n",
    "    \n",
    "# WOW, there's a clear winner here v_per[:, 0]\n",
    "per_state_most_overlap = v_per[:, 0]\n",
    "\n",
    "max_overlap = 0\n",
    "index_max_overlap = 0\n",
    "\n",
    "for i in range(len(w_tun)):\n",
    "    fid = overlap(per_state_most_overlap, v_tun[:, i])\n",
    "    if fid > max_overlap: \n",
    "        print(fid, i)\n",
    "        max_overlap = fid \n",
    "        index_max_overlap = i \n",
    "print(\"Tunneling eigenvector v_tun[:, {}] had the maximum overlap of {} with the best perturbed state.\".format(\n",
    "    index_max_overlap, max_overlap))\n",
    "initial_state = v_tun[:, index_max_overlap]"
   ]
  },
  {
   "cell_type": "code",
   "execution_count": 66,
   "metadata": {},
   "outputs": [],
   "source": [
    "H_A = get_sparse_operator(hubbard.tunneling_terms())\n",
    "H_B = get_sparse_operator(hubbard.hamiltonian())\n",
    "H = lambda s: (1-s)*H_A + s*H_B\n",
    "psi_A = initial_state"
   ]
  },
  {
   "cell_type": "code",
   "execution_count": 78,
   "metadata": {},
   "outputs": [
    {
     "data": {
      "text/plain": [
       "254"
      ]
     },
     "execution_count": 78,
     "metadata": {},
     "output_type": "execute_result"
    }
   ],
   "source": [
    "v_tun.shape[1]"
   ]
  },
  {
   "cell_type": "code",
   "execution_count": 84,
   "metadata": {},
   "outputs": [
    {
     "name": "stdout",
     "output_type": "stream",
     "text": [
      "0.2528572942031033 32\n"
     ]
    }
   ],
   "source": [
    "# Let's do 5 steps: H(0), H(0.25), H(0.5), H(0.75), H(1) at t=1 \n",
    "n = 5\n",
    "t = 3\n",
    "for state in range(v_tun.shape[1]):\n",
    "#     res = psi_A\n",
    "    res = v_tun[:, state]\n",
    "    for i in range(n): \n",
    "        s = i / (n-1)\n",
    "    #     res = np.dot(sp.expm(-1j * H(s) * t), res)\n",
    "        e = scipy.linalg.expm(-1j * H(s) * t)\n",
    "        res = e.dot(res)\n",
    "    x = overlap(res, v_hub[:, 0])\n",
    "    if x > 0.2: \n",
    "        print(x, state)"
   ]
  },
  {
   "cell_type": "markdown",
   "metadata": {},
   "source": [
    "I noticed that every time we run the cell that determines the tunneling eigenvectors, we get different overlaps. I should have noticed this earlier! Since we have a degenerate ground state for the tunneling term, the eigenvectors span some subspace, so we can pick any basis of that subspace as the eigenvectors. This means that letting the algorithm pick gives us a random one. \n",
    "\n",
    "Once we do that, we should try to find a *linear combination* in that ground state subspace that's closest to the true ground state eigenvector of the Hubbard Hamiltonian. We can use Least-Squares to do this!"
   ]
  },
  {
   "cell_type": "code",
   "execution_count": 112,
   "metadata": {},
   "outputs": [
    {
     "name": "stdout",
     "output_type": "stream",
     "text": [
      "16\n"
     ]
    },
    {
     "data": {
      "text/plain": [
       "(16, 256)"
      ]
     },
     "execution_count": 112,
     "metadata": {},
     "output_type": "execute_result"
    }
   ],
   "source": [
    "# Find the ground state subspace \n",
    "min_eig = -4 \n",
    "indices_ground = []\n",
    "for i in range(len(w_tun)):\n",
    "    if w_tun[i] - min_eig < tol: \n",
    "        indices_ground.append(i)\n",
    "print(len(indices_ground))\n",
    "ground_state_array = []\n",
    "for i in indices_ground:\n",
    "    ground_state_array.append(v_tun[:, i])\n",
    "ground_state_array = np.array(ground_state_array)\n",
    "ground_state_array.shape\n",
    "\n",
    "# Check it's multiplied by -4\n",
    "# print(inner_product(tun_sparse.dot(ground_state_subspace[0]),  ground_state_subspace[0]))"
   ]
  },
  {
   "cell_type": "code",
   "execution_count": 115,
   "metadata": {},
   "outputs": [],
   "source": [
    "projection = np.linalg.inv(ground_state_array @ (ground_state_array.T)).dot(ground_state_array).dot(v_hub[:,0])"
   ]
  },
  {
   "cell_type": "code",
   "execution_count": 117,
   "metadata": {},
   "outputs": [
    {
     "ename": "ValueError",
     "evalue": "shapes (16,) and (256,) not aligned: 16 (dim 0) != 256 (dim 0)",
     "output_type": "error",
     "traceback": [
      "\u001b[0;31m---------------------------------------------------------------------------\u001b[0m",
      "\u001b[0;31mValueError\u001b[0m                                Traceback (most recent call last)",
      "\u001b[0;32m<ipython-input-117-285d9c361834>\u001b[0m in \u001b[0;36m<module>\u001b[0;34m\u001b[0m\n\u001b[0;32m----> 1\u001b[0;31m \u001b[0moverlap\u001b[0m\u001b[0;34m(\u001b[0m\u001b[0mprojection\u001b[0m\u001b[0;34m,\u001b[0m \u001b[0mv_hub\u001b[0m\u001b[0;34m[\u001b[0m\u001b[0;34m:\u001b[0m\u001b[0;34m,\u001b[0m\u001b[0;36m0\u001b[0m\u001b[0;34m]\u001b[0m\u001b[0;34m)\u001b[0m\u001b[0;34m\u001b[0m\u001b[0;34m\u001b[0m\u001b[0m\n\u001b[0m",
      "\u001b[0;32m<ipython-input-15-06875e17040b>\u001b[0m in \u001b[0;36moverlap\u001b[0;34m(a, b)\u001b[0m\n\u001b[1;32m      3\u001b[0m \u001b[0;32mdef\u001b[0m \u001b[0moverlap\u001b[0m\u001b[0;34m(\u001b[0m\u001b[0ma\u001b[0m\u001b[0;34m,\u001b[0m \u001b[0mb\u001b[0m\u001b[0;34m)\u001b[0m\u001b[0;34m:\u001b[0m\u001b[0;34m\u001b[0m\u001b[0;34m\u001b[0m\u001b[0m\n\u001b[1;32m      4\u001b[0m     \u001b[0;34m\"\"\"Calculates the overlap between vectors a and b. This metric is also known as fidelity. \"\"\"\u001b[0m\u001b[0;34m\u001b[0m\u001b[0;34m\u001b[0m\u001b[0m\n\u001b[0;32m----> 5\u001b[0;31m     \u001b[0minner\u001b[0m \u001b[0;34m=\u001b[0m \u001b[0minner_product\u001b[0m\u001b[0;34m(\u001b[0m\u001b[0ma\u001b[0m\u001b[0;34m,\u001b[0m \u001b[0mb\u001b[0m\u001b[0;34m)\u001b[0m\u001b[0;34m\u001b[0m\u001b[0;34m\u001b[0m\u001b[0m\n\u001b[0m\u001b[1;32m      6\u001b[0m     \u001b[0;32mreturn\u001b[0m \u001b[0;34m(\u001b[0m\u001b[0mnp\u001b[0m\u001b[0;34m.\u001b[0m\u001b[0mconjugate\u001b[0m\u001b[0;34m(\u001b[0m\u001b[0minner\u001b[0m\u001b[0;34m)\u001b[0m \u001b[0;34m*\u001b[0m \u001b[0minner\u001b[0m\u001b[0;34m)\u001b[0m\u001b[0;34m.\u001b[0m\u001b[0mreal\u001b[0m\u001b[0;34m\u001b[0m\u001b[0;34m\u001b[0m\u001b[0m\n",
      "\u001b[0;32m~/github/qc-mentorship/env/lib/python3.6/site-packages/openfermion/utils/_sparse_tools.py\u001b[0m in \u001b[0;36minner_product\u001b[0;34m(state_1, state_2)\u001b[0m\n\u001b[1;32m   1160\u001b[0m \u001b[0;32mdef\u001b[0m \u001b[0minner_product\u001b[0m\u001b[0;34m(\u001b[0m\u001b[0mstate_1\u001b[0m\u001b[0;34m,\u001b[0m \u001b[0mstate_2\u001b[0m\u001b[0;34m)\u001b[0m\u001b[0;34m:\u001b[0m\u001b[0;34m\u001b[0m\u001b[0;34m\u001b[0m\u001b[0m\n\u001b[1;32m   1161\u001b[0m     \u001b[0;34m\"\"\"Compute inner product of two states.\"\"\"\u001b[0m\u001b[0;34m\u001b[0m\u001b[0;34m\u001b[0m\u001b[0m\n\u001b[0;32m-> 1162\u001b[0;31m     \u001b[0;32mreturn\u001b[0m \u001b[0mnumpy\u001b[0m\u001b[0;34m.\u001b[0m\u001b[0mdot\u001b[0m\u001b[0;34m(\u001b[0m\u001b[0mstate_1\u001b[0m\u001b[0;34m.\u001b[0m\u001b[0mconjugate\u001b[0m\u001b[0;34m(\u001b[0m\u001b[0;34m)\u001b[0m\u001b[0;34m,\u001b[0m \u001b[0mstate_2\u001b[0m\u001b[0;34m)\u001b[0m\u001b[0;34m\u001b[0m\u001b[0;34m\u001b[0m\u001b[0m\n\u001b[0m\u001b[1;32m   1163\u001b[0m \u001b[0;34m\u001b[0m\u001b[0m\n\u001b[1;32m   1164\u001b[0m \u001b[0;34m\u001b[0m\u001b[0m\n",
      "\u001b[0;32m<__array_function__ internals>\u001b[0m in \u001b[0;36mdot\u001b[0;34m(*args, **kwargs)\u001b[0m\n",
      "\u001b[0;31mValueError\u001b[0m: shapes (16,) and (256,) not aligned: 16 (dim 0) != 256 (dim 0)"
     ]
    }
   ],
   "source": [
    "overlap(projection, v_hub[:,0])"
   ]
  },
  {
   "cell_type": "code",
   "execution_count": 111,
   "metadata": {},
   "outputs": [
    {
     "data": {
      "text/plain": [
       "(16, 256, 1)"
      ]
     },
     "execution_count": 111,
     "metadata": {},
     "output_type": "execute_result"
    }
   ],
   "source": [
    "ground_state_subspace = []\n",
    "for array in ground_state_array:\n",
    "    vec = array.reshape((-1, 1))\n",
    "    ground_state_subspace.append(vec)\n",
    "    \n",
    "ground_state_subspace = np.array(ground_state_subspace)\n",
    "# print(len(ground_state_subspace), len(ground_state_subspace[0]))\n",
    "ground_state_subspace.shape"
   ]
  },
  {
   "cell_type": "code",
   "execution_count": 126,
   "metadata": {},
   "outputs": [
    {
     "name": "stdout",
     "output_type": "stream",
     "text": [
      "16 should be 16 for 2x2\n"
     ]
    },
    {
     "name": "stderr",
     "output_type": "stream",
     "text": [
      "/home/warren/github/qc-mentorship/env/lib/python3.6/site-packages/ipykernel_launcher.py:11: FutureWarning: arrays to stack must be passed as a \"sequence\" type such as list or tuple. Support for non-sequence iterables such as generators is deprecated as of NumPy 1.16 and will raise an error in the future.\n",
      "  # This is added back by InteractiveShellApp.init_path()\n"
     ]
    },
    {
     "data": {
      "text/plain": [
       "(256, 16)"
      ]
     },
     "execution_count": 126,
     "metadata": {},
     "output_type": "execute_result"
    }
   ],
   "source": [
    "min_eig = -4 \n",
    "indices_ground = []\n",
    "for i in range(len(w_tun)):\n",
    "    if w_tun[i] - min_eig < tol: \n",
    "        indices_ground.append(i)\n",
    "print(len(indices_ground), 'should be 16 for 2x2')\n",
    "ground_state_array = []\n",
    "for i in indices_ground:\n",
    "    ground_state_array.append(v_tun[:, i])\n",
    "    \n",
    "mat = np.hstack(row.reshape((-1, 1)) for row in ground_state_array)\n",
    "mat.shape"
   ]
  },
  {
   "cell_type": "code",
   "execution_count": 139,
   "metadata": {},
   "outputs": [
    {
     "data": {
      "text/plain": [
       "(256, 256)"
      ]
     },
     "execution_count": 139,
     "metadata": {},
     "output_type": "execute_result"
    }
   ],
   "source": [
    "(mat @ ((mat.T @ mat) @ mat.T)).shape"
   ]
  },
  {
   "cell_type": "code",
   "execution_count": 140,
   "metadata": {},
   "outputs": [
    {
     "data": {
      "text/plain": [
       "(256,)"
      ]
     },
     "execution_count": 140,
     "metadata": {},
     "output_type": "execute_result"
    }
   ],
   "source": [
    "projection = mat @ (np.linalg.inv(mat.T @ mat) @ mat.T @ v_hub[:,0])\n",
    "projection.shape"
   ]
  },
  {
   "cell_type": "code",
   "execution_count": 143,
   "metadata": {},
   "outputs": [
    {
     "data": {
      "text/plain": [
       "0.9545796915314158"
      ]
     },
     "execution_count": 143,
     "metadata": {},
     "output_type": "execute_result"
    }
   ],
   "source": [
    "overlap(projection, v_hub[:, 0]) \n",
    "# THERE WE GO"
   ]
  },
  {
   "cell_type": "code",
   "execution_count": 164,
   "metadata": {},
   "outputs": [],
   "source": [
    "psi_A = projection\n",
    "\n",
    "# Let's do 5 steps: H(0), H(0.25), H(0.5), H(0.75), H(1) at t=1 \n",
    "n = 5\n",
    "t = 5\n",
    "res = psi_A\n",
    "for i in range(n): \n",
    "    s = i / (n-1)\n",
    "#     res = np.dot(sp.expm(-1j * H(s) * t), res)\n",
    "    e = scipy.linalg.expm(-1j * H(s) * t)\n",
    "    res = e.dot(res)"
   ]
  },
  {
   "cell_type": "code",
   "execution_count": 165,
   "metadata": {},
   "outputs": [
    {
     "data": {
      "text/plain": [
       "0.9750712881919028"
      ]
     },
     "execution_count": 165,
     "metadata": {},
     "output_type": "execute_result"
    }
   ],
   "source": [
    "overlap(res, v_hub[:, 0]) \n",
    "# We get stuck at some value - sometimes its .25 or .50 but increasing iterations doesn't improve"
   ]
  },
  {
   "cell_type": "code",
   "execution_count": 48,
   "metadata": {},
   "outputs": [
    {
     "data": {
      "text/plain": [
       "0.3452137437742346"
      ]
     },
     "execution_count": 48,
     "metadata": {},
     "output_type": "execute_result"
    }
   ],
   "source": [
    "overlap(res, psi_A)"
   ]
  },
  {
   "cell_type": "code",
   "execution_count": null,
   "metadata": {},
   "outputs": [],
   "source": []
  }
 ],
 "metadata": {
  "@webio": {
   "lastCommId": null,
   "lastKernelId": null
  },
  "kernelspec": {
   "display_name": "Python 3",
   "language": "python",
   "name": "python3"
  },
  "language_info": {
   "codemirror_mode": {
    "name": "ipython",
    "version": 3
   },
   "file_extension": ".py",
   "mimetype": "text/x-python",
   "name": "python",
   "nbconvert_exporter": "python",
   "pygments_lexer": "ipython3",
   "version": "3.6.9"
  }
 },
 "nbformat": 4,
 "nbformat_minor": 4
}
