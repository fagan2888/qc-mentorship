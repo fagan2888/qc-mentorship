{
 "cells": [
  {
   "cell_type": "code",
   "execution_count": 1,
   "metadata": {},
   "outputs": [],
   "source": [
    "import numpy as np"
   ]
  },
  {
   "cell_type": "markdown",
   "metadata": {},
   "source": [
    "## Using coefficients from Table 1 in [(1512.06860)](https://arxiv.org/pdf/1512.06860.pdf) to see if the lowest energy matches Figure 3 from the paper:\n",
    "\n",
    "![](h2_energy_curve.png)"
   ]
  },
  {
   "cell_type": "code",
   "execution_count": 2,
   "metadata": {},
   "outputs": [],
   "source": [
    "# R (bond length) = 0.4 angstroms \n",
    "v_0 = 1.1182 \n",
    "v_1 = 0.4754 \n",
    "v_2 = -0.9145 \n",
    "v_3 = 0.6438 \n",
    "v_4 = 0.0825 \n",
    "v_5 = 0.0825 "
   ]
  },
  {
   "cell_type": "code",
   "execution_count": 3,
   "metadata": {},
   "outputs": [],
   "source": [
    "I = np.eye(2)\n",
    "X = np.array([[0, 1], [1, 0]])\n",
    "Y = np.array([[0, -1j], [1j, 0]])\n",
    "Z = np.array([[1, 0], [0, -1]])"
   ]
  },
  {
   "cell_type": "code",
   "execution_count": 4,
   "metadata": {},
   "outputs": [],
   "source": [
    "def h2_hamiltonian(v_0, v_1, v_2, v_3, v_4, v_5):\n",
    "    ham = np.zeros((4, 4), dtype=np.complex_)\n",
    "    ham += v_0 * np.kron(I, I)\n",
    "    ham += v_1 * np.kron(Z, I)\n",
    "    ham += v_2 * np.kron(I, Z)\n",
    "    ham += v_3 * np.kron(Z, Z)\n",
    "    ham += v_4 * np.kron(X, X)\n",
    "    ham += v_5 * np.kron(Y, Y)\n",
    "    return ham"
   ]
  },
  {
   "cell_type": "code",
   "execution_count": 5,
   "metadata": {},
   "outputs": [],
   "source": [
    "h = h2_hamiltonian(v_0, v_1, v_2, v_3, v_4, v_5)"
   ]
  },
  {
   "cell_type": "code",
   "execution_count": 6,
   "metadata": {},
   "outputs": [
    {
     "name": "stdout",
     "output_type": "stream",
     "text": [
      "[[ 1.3229+0.j  0.    +0.j  0.    +0.j  0.    +0.j]\n",
      " [ 0.    +0.j  1.8643+0.j  0.165 +0.j  0.    +0.j]\n",
      " [ 0.    +0.j  0.165 +0.j -0.9155+0.j  0.    +0.j]\n",
      " [ 0.    +0.j  0.    +0.j  0.    +0.j  2.2011+0.j]]\n"
     ]
    }
   ],
   "source": [
    "print(h)"
   ]
  },
  {
   "cell_type": "code",
   "execution_count": 7,
   "metadata": {},
   "outputs": [
    {
     "data": {
      "text/plain": [
       "(-0.9252596050468846+0j)"
      ]
     },
     "execution_count": 7,
     "metadata": {},
     "output_type": "execute_result"
    }
   ],
   "source": [
    "min(np.linalg.eig(h)[0])\n",
    "# This seems to match Fig3 in (1512.06860)!!!"
   ]
  },
  {
   "cell_type": "code",
   "execution_count": 8,
   "metadata": {},
   "outputs": [
    {
     "data": {
      "text/plain": [
       "(-0.9448869305338705+0j)"
      ]
     },
     "execution_count": 8,
     "metadata": {},
     "output_type": "execute_result"
    }
   ],
   "source": [
    "# R = 2.5 angstroms \n",
    "v_0 = -0.3051 \n",
    "v_1 = 0.1098 \n",
    "v_2 = 0.0549 \n",
    "v_3 = 0.3521 \n",
    "v_4 = 0.1412 \n",
    "v_5 = 0.1412 \n",
    "h = h2_hamiltonian(v_0, v_1, v_2, v_3, v_4, v_5)\n",
    "min(np.linalg.eig(h)[0])\n",
    "# Seems to match Fig3"
   ]
  },
  {
   "cell_type": "code",
   "execution_count": 9,
   "metadata": {},
   "outputs": [
    {
     "data": {
      "text/plain": [
       "(0.1442103319109907+0j)"
      ]
     },
     "execution_count": 9,
     "metadata": {},
     "output_type": "execute_result"
    }
   ],
   "source": [
    "# R = 0.2 angstroms \n",
    "v_0 = 2.8489 \n",
    "v_1 = 0.5678 \n",
    "v_2 = -1.4508 \n",
    "v_3 = 0.6799 \n",
    "v_4 = 0.0791 \n",
    "v_5 = 0.0791 \n",
    "h = h2_hamiltonian(v_0, v_1, v_2, v_3, v_4, v_5)\n",
    "min(np.linalg.eig(h)[0])\n",
    "# This one seems off: the paper shows it should be around -0.6"
   ]
  },
  {
   "cell_type": "code",
   "execution_count": null,
   "metadata": {},
   "outputs": [],
   "source": []
  }
 ],
 "metadata": {
  "kernelspec": {
   "display_name": "Python 3",
   "language": "python",
   "name": "python3"
  },
  "language_info": {
   "codemirror_mode": {
    "name": "ipython",
    "version": 3
   },
   "file_extension": ".py",
   "mimetype": "text/x-python",
   "name": "python",
   "nbconvert_exporter": "python",
   "pygments_lexer": "ipython3",
   "version": "3.7.4"
  }
 },
 "nbformat": 4,
 "nbformat_minor": 2
}
