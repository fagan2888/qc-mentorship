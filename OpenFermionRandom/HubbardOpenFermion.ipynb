{
 "cells": [
  {
   "cell_type": "code",
   "execution_count": 1,
   "metadata": {},
   "outputs": [],
   "source": [
    "import numpy as np"
   ]
  },
  {
   "cell_type": "code",
   "execution_count": 2,
   "metadata": {
    "scrolled": true
   },
   "outputs": [
    {
     "name": "stdout",
     "output_type": "stream",
     "text": [
      "Hubbard Hamiltonian:\n",
      "2.0 [0^ 0 1^ 1] +\n",
      "-1.0 [0^ 2] +\n",
      "-1.0 [0^ 4] +\n",
      "-1.0 [1^ 3] +\n",
      "-1.0 [1^ 5] +\n",
      "-1.0 [2^ 0] +\n",
      "2.0 [2^ 2 3^ 3] +\n",
      "-1.0 [2^ 6] +\n",
      "-1.0 [3^ 1] +\n",
      "-1.0 [3^ 7] +\n",
      "-1.0 [4^ 0] +\n",
      "2.0 [4^ 4 5^ 5] +\n",
      "-1.0 [4^ 6] +\n",
      "-1.0 [5^ 1] +\n",
      "-1.0 [5^ 7] +\n",
      "-1.0 [6^ 2] +\n",
      "-1.0 [6^ 4] +\n",
      "2.0 [6^ 6 7^ 7] +\n",
      "-1.0 [7^ 3] +\n",
      "-1.0 [7^ 5]\n",
      "\n",
      "Jordan-Wigner Hamiltonian:\n",
      "2.0 [] +\n",
      "-0.5 [X0 Z1 X2] +\n",
      "-0.5 [X0 Z1 Z2 Z3 X4] +\n",
      "-0.5 [Y0 Z1 Y2] +\n",
      "-0.5 [Y0 Z1 Z2 Z3 Y4] +\n",
      "-0.5 [Z0] +\n",
      "0.5 [Z0 Z1] +\n",
      "-0.5 [X1 Z2 X3] +\n",
      "-0.5 [X1 Z2 Z3 Z4 X5] +\n",
      "-0.5 [Y1 Z2 Y3] +\n",
      "-0.5 [Y1 Z2 Z3 Z4 Y5] +\n",
      "-0.5 [Z1] +\n",
      "-0.5 [X2 Z3 Z4 Z5 X6] +\n",
      "-0.5 [Y2 Z3 Z4 Z5 Y6] +\n",
      "-0.5 [Z2] +\n",
      "0.5 [Z2 Z3] +\n",
      "-0.5 [X3 Z4 Z5 Z6 X7] +\n",
      "-0.5 [Y3 Z4 Z5 Z6 Y7] +\n",
      "-0.5 [Z3] +\n",
      "-0.5 [X4 Z5 X6] +\n",
      "-0.5 [Y4 Z5 Y6] +\n",
      "-0.5 [Z4] +\n",
      "0.5 [Z4 Z5] +\n",
      "-0.5 [X5 Z6 X7] +\n",
      "-0.5 [Y5 Z6 Y7] +\n",
      "-0.5 [Z5] +\n",
      "-0.5 [Z6] +\n",
      "0.5 [Z6 Z7] +\n",
      "-0.5 [Z7]\n",
      "  (4, 1)\t(-1+0j)\n",
      "  (16, 1)\t(-1+0j)\n",
      "  (8, 2)\t(-1+0j)\n",
      "  (32, 2)\t(-1+0j)\n",
      "  (3, 3)\t(2+0j)\n",
      "  (6, 3)\t(1+0j)\n",
      "  (9, 3)\t(-1+0j)\n",
      "  (18, 3)\t(1+0j)\n",
      "  (33, 3)\t(-1+0j)\n",
      "  (1, 4)\t(-1+0j)\n",
      "  (64, 4)\t(-1+0j)\n",
      "  (20, 5)\t(1+0j)\n",
      "  (65, 5)\t(-1+0j)\n",
      "  (3, 6)\t(1+0j)\n",
      "  (12, 6)\t(1+0j)\n",
      "  (36, 6)\t(1+0j)\n",
      "  (66, 6)\t(-1+0j)\n",
      "  (7, 7)\t(2+0j)\n",
      "  (13, 7)\t(1+0j)\n",
      "  (22, 7)\t(-1+0j)\n",
      "  (37, 7)\t(1+0j)\n",
      "  (67, 7)\t(-1+0j)\n",
      "  (2, 8)\t(-1+0j)\n",
      "  (128, 8)\t(-1+0j)\n",
      "  (3, 9)\t(-1+0j)\n",
      "  :\t:\n",
      "  (242, 248)\t(-1+0j)\n",
      "  (248, 248)\t(4+0j)\n",
      "  (189, 249)\t(1+0j)\n",
      "  (219, 249)\t(-1+0j)\n",
      "  (243, 249)\t(-1+0j)\n",
      "  (249, 249)\t(4+0j)\n",
      "  (252, 249)\t(-1+0j)\n",
      "  (190, 250)\t(1+0j)\n",
      "  (235, 250)\t(-1+0j)\n",
      "  (250, 250)\t(4+0j)\n",
      "  (191, 251)\t(1+0j)\n",
      "  (251, 251)\t(6+0j)\n",
      "  (254, 251)\t(1+0j)\n",
      "  (222, 252)\t(1+0j)\n",
      "  (237, 252)\t(-1+0j)\n",
      "  (246, 252)\t(1+0j)\n",
      "  (249, 252)\t(-1+0j)\n",
      "  (252, 252)\t(6+0j)\n",
      "  (223, 253)\t(1+0j)\n",
      "  (247, 253)\t(1+0j)\n",
      "  (253, 253)\t(6+0j)\n",
      "  (239, 254)\t(1+0j)\n",
      "  (251, 254)\t(1+0j)\n",
      "  (254, 254)\t(6+0j)\n",
      "  (255, 255)\t(8+0j)\n"
     ]
    }
   ],
   "source": [
    "from openfermion.hamiltonians import fermi_hubbard \n",
    "from openfermion.transforms import jordan_wigner, get_sparse_operator\n",
    "from openfermion.utils import get_ground_state\n",
    "\n",
    "# Set model \n",
    "x_n = 2 \n",
    "y_n = 2 \n",
    "tunneling = 1.\n",
    "coulomb = 2.\n",
    "chem_potential = 0\n",
    "mag_field = 0 # Not sure what this should be \n",
    "periodic = 1 # Not sure what this is, periodic boundary conditions?\n",
    "spinless = 0 # Has spin\n",
    "\n",
    "# Get FermionOperator of Hubbard model \n",
    "hubbard = fermi_hubbard(x_n, y_n, tunneling, coulomb, chem_potential, \n",
    "                        mag_field, periodic, spinless)\n",
    "print('Hubbard Hamiltonian:')\n",
    "print(hubbard)\n",
    "\n",
    "# Use JW transform to get QubitOperator \n",
    "jw_ham = jordan_wigner(hubbard)\n",
    "jw_ham.compress()\n",
    "print('\\nJordan-Wigner Hamiltonian:')\n",
    "print(jw_ham)\n",
    "\n",
    "# Get ground state using sparse operator \n",
    "sparse_op = get_sparse_operator(hubbard)\n",
    "print(sparse_op)\n",
    "#genergy, gstate = get_ground_state(sparse_op)\n",
    "#print('\\nGround state energy is {} in units of T and J.'.format(genergy))"
   ]
  },
  {
   "cell_type": "code",
   "execution_count": 3,
   "metadata": {},
   "outputs": [
    {
     "data": {
      "text/plain": [
       "{((0, 1), (2, 0)): -1.0,\n",
       " ((2, 1), (0, 0)): -1.0,\n",
       " ((1, 1), (3, 0)): -1.0,\n",
       " ((3, 1), (1, 0)): -1.0,\n",
       " ((0, 1), (4, 0)): -1.0,\n",
       " ((4, 1), (0, 0)): -1.0,\n",
       " ((1, 1), (5, 0)): -1.0,\n",
       " ((5, 1), (1, 0)): -1.0,\n",
       " ((0, 1), (0, 0), (1, 1), (1, 0)): 2.0,\n",
       " ((2, 1), (6, 0)): -1.0,\n",
       " ((6, 1), (2, 0)): -1.0,\n",
       " ((3, 1), (7, 0)): -1.0,\n",
       " ((7, 1), (3, 0)): -1.0,\n",
       " ((2, 1), (2, 0), (3, 1), (3, 0)): 2.0,\n",
       " ((4, 1), (6, 0)): -1.0,\n",
       " ((6, 1), (4, 0)): -1.0,\n",
       " ((5, 1), (7, 0)): -1.0,\n",
       " ((7, 1), (5, 0)): -1.0,\n",
       " ((4, 1), (4, 0), (5, 1), (5, 0)): 2.0,\n",
       " ((6, 1), (6, 0), (7, 1), (7, 0)): 2.0}"
      ]
     },
     "execution_count": 3,
     "metadata": {},
     "output_type": "execute_result"
    }
   ],
   "source": [
    "hubbard.terms"
   ]
  },
  {
   "cell_type": "markdown",
   "metadata": {},
   "source": [
    "## Might be useful for VHA"
   ]
  },
  {
   "cell_type": "code",
   "execution_count": 4,
   "metadata": {},
   "outputs": [],
   "source": [
    "from openfermion.utils import bch_expand, error_bound, error_operator, expectation, get_gap, get_ground_state\\\n",
    "    ,haar_random_vector, hermitian_conjugated, inner_product, is_hermitian, jw_number_restrict_operator\\\n",
    "    ,jw_number_restrict_state, jw_slater_determinant, low_depth_second_order_trotter_error_bound\\\n",
    "    ,low_depth_second_order_trotter_error_operator, number_operator,  pauli_exp_to_qasm\\\n",
    "    ,slater_determinant_preparation_circuit, trotter_operator_grouping, trotterize_exp_qubop_to_qasm, variance"
   ]
  },
  {
   "cell_type": "code",
   "execution_count": 5,
   "metadata": {},
   "outputs": [],
   "source": [
    "slater_determinant_preparation_circuit??"
   ]
  },
  {
   "cell_type": "code",
   "execution_count": 6,
   "metadata": {},
   "outputs": [],
   "source": [
    "from forestopenfermion import exponentiate, TimeEvolution\n",
    "#???\n",
    "TimeEvolution??\n",
    "# YES THIS IS WHAT I NEED"
   ]
  },
  {
   "cell_type": "code",
   "execution_count": 7,
   "metadata": {},
   "outputs": [],
   "source": [
    "# Trotter stuff \n",
    "from openfermion.utils import error_bound, error_operator, low_depth_second_order_trotter_error_bound\\\n",
    "    , low_depth_second_order_trotter_error_operator, trotter_operator_grouping\\\n",
    "    , trotterize_exp_qubop_to_qasm"
   ]
  },
  {
   "cell_type": "code",
   "execution_count": 8,
   "metadata": {},
   "outputs": [],
   "source": [
    "low_depth_second_order_trotter_error_operator??"
   ]
  },
  {
   "cell_type": "code",
   "execution_count": 9,
   "metadata": {},
   "outputs": [],
   "source": [
    "def trotter_steps_required(trotter_error_bound, time, energy_precision):\n",
    "    \"\"\"Determine the number of Trotter steps for accurate simulation.\n",
    "    Args:\n",
    "        trotter_error_bound (float): Upper bound on Trotter error in the\n",
    "                                     state of interest.\n",
    "        time (float): The total simulation time.\n",
    "        energy_precision (float): Acceptable shift in state energy.\n",
    "    Returns:\n",
    "        The integer minimum number of Trotter steps required for\n",
    "        simulation to the desired precision.\n",
    "    Notes:\n",
    "        The number of Trotter steps required is an upper bound on the\n",
    "        true requirement, which may be lower.\n",
    "    \"\"\"\n",
    "    return int(ceil(time * sqrt(trotter_error_bound / energy_precision)))"
   ]
  },
  {
   "cell_type": "code",
   "execution_count": 11,
   "metadata": {},
   "outputs": [],
   "source": [
    "from openfermion.transforms import get_diagonal_coulomb_hamiltonian "
   ]
  },
  {
   "cell_type": "code",
   "execution_count": 12,
   "metadata": {},
   "outputs": [],
   "source": [
    "get_diagonal_coulomb_hamiltonian??"
   ]
  },
  {
   "cell_type": "code",
   "execution_count": null,
   "metadata": {},
   "outputs": [],
   "source": []
  }
 ],
 "metadata": {
  "kernelspec": {
   "display_name": "Python 3",
   "language": "python",
   "name": "python3"
  },
  "language_info": {
   "codemirror_mode": {
    "name": "ipython",
    "version": 3
   },
   "file_extension": ".py",
   "mimetype": "text/x-python",
   "name": "python",
   "nbconvert_exporter": "python",
   "pygments_lexer": "ipython3",
   "version": "3.6.9"
  }
 },
 "nbformat": 4,
 "nbformat_minor": 4
}
