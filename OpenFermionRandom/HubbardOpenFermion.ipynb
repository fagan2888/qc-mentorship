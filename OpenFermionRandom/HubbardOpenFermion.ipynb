{
 "cells": [
  {
   "cell_type": "code",
   "execution_count": 4,
   "metadata": {},
   "outputs": [],
   "source": [
    "import numpy as np\n",
    "\n",
    "from tools.utils import *"
   ]
  },
  {
   "cell_type": "code",
   "execution_count": 2,
   "metadata": {},
   "outputs": [
    {
     "name": "stdout",
     "output_type": "stream",
     "text": [
      "Hubbard Hamiltonian:\n",
      "2.0 [0^ 0 1^ 1] +\n",
      "-1.0 [0^ 2] +\n",
      "-1.0 [0^ 4] +\n",
      "-1.0 [1^ 3] +\n",
      "-1.0 [1^ 5] +\n",
      "-1.0 [2^ 0] +\n",
      "2.0 [2^ 2 3^ 3] +\n",
      "-1.0 [2^ 6] +\n",
      "-1.0 [3^ 1] +\n",
      "-1.0 [3^ 7] +\n",
      "-1.0 [4^ 0] +\n",
      "2.0 [4^ 4 5^ 5] +\n",
      "-1.0 [4^ 6] +\n",
      "-1.0 [5^ 1] +\n",
      "-1.0 [5^ 7] +\n",
      "-1.0 [6^ 2] +\n",
      "-1.0 [6^ 4] +\n",
      "2.0 [6^ 6 7^ 7] +\n",
      "-1.0 [7^ 3] +\n",
      "-1.0 [7^ 5]\n",
      "\n",
      "Jordan-Wigner Hamiltonian:\n",
      "2.0 [] +\n",
      "-0.5 [X0 Z1 X2] +\n",
      "-0.5 [X0 Z1 Z2 Z3 X4] +\n",
      "-0.5 [Y0 Z1 Y2] +\n",
      "-0.5 [Y0 Z1 Z2 Z3 Y4] +\n",
      "-0.5 [Z0] +\n",
      "0.5 [Z0 Z1] +\n",
      "-0.5 [X1 Z2 X3] +\n",
      "-0.5 [X1 Z2 Z3 Z4 X5] +\n",
      "-0.5 [Y1 Z2 Y3] +\n",
      "-0.5 [Y1 Z2 Z3 Z4 Y5] +\n",
      "-0.5 [Z1] +\n",
      "-0.5 [X2 Z3 Z4 Z5 X6] +\n",
      "-0.5 [Y2 Z3 Z4 Z5 Y6] +\n",
      "-0.5 [Z2] +\n",
      "0.5 [Z2 Z3] +\n",
      "-0.5 [X3 Z4 Z5 Z6 X7] +\n",
      "-0.5 [Y3 Z4 Z5 Z6 Y7] +\n",
      "-0.5 [Z3] +\n",
      "-0.5 [X4 Z5 X6] +\n",
      "-0.5 [Y4 Z5 Y6] +\n",
      "-0.5 [Z4] +\n",
      "0.5 [Z4 Z5] +\n",
      "-0.5 [X5 Z6 X7] +\n",
      "-0.5 [Y5 Z6 Y7] +\n",
      "-0.5 [Z5] +\n",
      "-0.5 [Z6] +\n",
      "0.5 [Z6 Z7] +\n",
      "-0.5 [Z7]\n"
     ]
    }
   ],
   "source": [
    "from openfermion.hamiltonians import fermi_hubbard \n",
    "from openfermion.transforms import jordan_wigner, get_sparse_operator\n",
    "from openfermion.utils import get_ground_state\n",
    "\n",
    "# Set model \n",
    "x_n = 2 \n",
    "y_n = 2 \n",
    "tunneling = 1.\n",
    "coulomb = 2.\n",
    "chem_potential = 0\n",
    "mag_field = 0 # Not sure what this should be \n",
    "periodic = 1 # Not sure what this is, periodic boundary conditions?\n",
    "spinless = 0 # Has spin\n",
    "\n",
    "# Get FermionOperator of Hubbard model \n",
    "hubbard = fermi_hubbard(x_n, y_n, tunneling, coulomb, chem_potential, \n",
    "                        mag_field, periodic, spinless)\n",
    "print('Hubbard Hamiltonian:')\n",
    "print(hubbard)\n",
    "\n",
    "# Use JW transform to get QubitOperator \n",
    "jw_ham = jordan_wigner(hubbard)\n",
    "jw_ham.compress()\n",
    "print('\\nJordan-Wigner Hamiltonian:')\n",
    "print(jw_ham)\n",
    "\n",
    "# Get ground state using sparse operator \n",
    "sparse_op = get_sparse_operator(hubbard)\n",
    "#genergy, gstate = get_ground_state(sparse_op)\n",
    "#print('\\nGround state energy is {} in units of T and J.'.format(genergy))"
   ]
  },
  {
   "cell_type": "code",
   "execution_count": 3,
   "metadata": {},
   "outputs": [
    {
     "data": {
      "text/plain": [
       "{((0, 1), (2, 0)): -1.0,\n",
       " ((2, 1), (0, 0)): -1.0,\n",
       " ((1, 1), (3, 0)): -1.0,\n",
       " ((3, 1), (1, 0)): -1.0,\n",
       " ((0, 1), (4, 0)): -1.0,\n",
       " ((4, 1), (0, 0)): -1.0,\n",
       " ((1, 1), (5, 0)): -1.0,\n",
       " ((5, 1), (1, 0)): -1.0,\n",
       " ((0, 1), (0, 0), (1, 1), (1, 0)): 2.0,\n",
       " ((2, 1), (6, 0)): -1.0,\n",
       " ((6, 1), (2, 0)): -1.0,\n",
       " ((3, 1), (7, 0)): -1.0,\n",
       " ((7, 1), (3, 0)): -1.0,\n",
       " ((2, 1), (2, 0), (3, 1), (3, 0)): 2.0,\n",
       " ((4, 1), (6, 0)): -1.0,\n",
       " ((6, 1), (4, 0)): -1.0,\n",
       " ((5, 1), (7, 0)): -1.0,\n",
       " ((7, 1), (5, 0)): -1.0,\n",
       " ((4, 1), (4, 0), (5, 1), (5, 0)): 2.0,\n",
       " ((6, 1), (6, 0), (7, 1), (7, 0)): 2.0}"
      ]
     },
     "execution_count": 3,
     "metadata": {},
     "output_type": "execute_result"
    }
   ],
   "source": [
    "hubbard.terms"
   ]
  },
  {
   "cell_type": "code",
   "execution_count": 5,
   "metadata": {},
   "outputs": [],
   "source": [
    "from openfermion.utils import HubbardSquareLattice\n",
    "HubbardSquareLattice??"
   ]
  },
  {
   "cell_type": "code",
   "execution_count": null,
   "metadata": {},
   "outputs": [],
   "source": []
  }
 ],
 "metadata": {
  "kernelspec": {
   "display_name": "Python 3",
   "language": "python",
   "name": "python3"
  },
  "language_info": {
   "codemirror_mode": {
    "name": "ipython",
    "version": 3
   },
   "file_extension": ".py",
   "mimetype": "text/x-python",
   "name": "python",
   "nbconvert_exporter": "python",
   "pygments_lexer": "ipython3",
   "version": "3.6.9"
  }
 },
 "nbformat": 4,
 "nbformat_minor": 4
}
